{
 "cells": [
  {
   "cell_type": "markdown",
   "metadata": {},
   "source": [
    "# Aula 1: Programas interativos\n",
    "\n",
    "<div class=\"alert alert-block alert-info\" style=\"border-left: 5px solid #0056b3;\">\n",
    "    <h4>🎯 Objetivos de Aprendizagem da Aula</h4>\n",
    "    <ul style=\"margin-left: 20px;\">\n",
    "        <li>A função input() para capturar dados do usuário.</li>\n",
    "        <li>Conversão de Tipos (Type Casting): int(), float().</li>\n",
    "        <li>Manipulação de strings</li>\n",
    "    </ul>\n",
    "</div>"
   ]
  },
  {
   "cell_type": "markdown",
   "metadata": {},
   "source": [
    "<hr style=\"height:3px; border-width:0; color:gray; background-color:gray\">"
   ]
  },
  {
   "cell_type": "markdown",
   "metadata": {},
   "source": [
    "### 1.1. input()\n",
    "Até agora, nossos programas executaram do início ao fim sem interrupções. Mas e se precisarmos de uma informação que só o usuário pode fornecer, como uma taxa de juros para uma simulação ou um valor de aporte?\n",
    "\n",
    "Para isso, usamos a função input(). Ela mostra uma mensagem para o usuário e \"pausa\" o programa, esperando que ele digite algo e pressione Enter.\n",
    "\n",
    "Importante: A função input() sempre retorna a informação como um string (texto), mesmo que o usuário digite números."
   ]
  },
  {
   "cell_type": "code",
   "execution_count": null,
   "metadata": {},
   "outputs": [],
   "source": [
    "nome = input(\"Por favor, digite seu nome: \")\n",
    "\n",
    "print(f\"Olá, {nome}!\")\n",
    "print(f\"O tipo de dado da variável 'nome_analista' é: {type(nome)}\")"
   ]
  },
  {
   "cell_type": "code",
   "execution_count": null,
   "metadata": {},
   "outputs": [],
   "source": [
    "numero = input(\"Por favor, digite um número: \")\n",
    "\n",
    "print(numero)\n",
    "print(f\"O tipo de dado da variável é: {type(numero)}\")"
   ]
  },
  {
   "cell_type": "markdown",
   "metadata": {},
   "source": [
    "#### 1.1.1. input() sempre retorna um texto!\n",
    "\n",
    "A função `input` sempre retorna uma string. Veja por quê isso pode ser um problema.\n",
    "\n",
    "- A função a seguir pede dois números (num1, num2) e imprime a soma dos números. Veja o que acontece:"
   ]
  },
  {
   "cell_type": "code",
   "execution_count": null,
   "metadata": {},
   "outputs": [],
   "source": [
    "num1 = input(\"Digite um número: \")\n",
    "num2 = input(\"Digite outro número: \")\n",
    "\n",
    "soma = num1 + num2\n",
    "\n",
    "print(\"A soma dos números é \" + soma)"
   ]
  },
  {
   "cell_type": "markdown",
   "metadata": {},
   "source": [
    "Por que isso acontece?\n",
    "\n",
    "- Quando estavamos lidando com números, o símbolo de + indica a operação de adição"
   ]
  },
  {
   "cell_type": "code",
   "execution_count": null,
   "metadata": {},
   "outputs": [],
   "source": [
    "print(3 + 6) # isso é adição"
   ]
  },
  {
   "cell_type": "markdown",
   "metadata": {},
   "source": [
    "- Porém, quando estamos lidando com strings, o símbolo de + indica concatenação — você simplesmente coloca os símbolos um após o outro."
   ]
  },
  {
   "cell_type": "code",
   "execution_count": null,
   "metadata": {},
   "outputs": [],
   "source": [
    "print(\"3\" + \"6\") # issó é concatenação"
   ]
  },
  {
   "cell_type": "markdown",
   "metadata": {},
   "source": [
    "Então como fazemos para adicionar números que o usuário fornece? Precisamos converter o input para número (ou `int` ou `float`)\n",
    "\n"
   ]
  },
  {
   "cell_type": "code",
   "execution_count": null,
   "metadata": {},
   "outputs": [],
   "source": [
    "num1 = int(input(\"Digite um número: \")) # converti para número inteiro\n",
    "num2 = int(input(\"Digite outro número: \")) # converti para número inteiro\n",
    "\n",
    "soma = num1 + num2 # agora a operação é de adição"
   ]
  },
  {
   "cell_type": "markdown",
   "metadata": {},
   "source": [
    "Agora temos uma variável que contém a soma realizada corretamente. Entretanto, temos outro problema na hora de imprimir o resultado:\n",
    "\n",
    "⚠ A CÉLULA ABAIXO VAI GERAR UM ERRO ⚠"
   ]
  },
  {
   "cell_type": "code",
   "execution_count": null,
   "metadata": {},
   "outputs": [],
   "source": [
    "print(\"A soma dos números é \" + soma)"
   ]
  },
  {
   "cell_type": "markdown",
   "metadata": {},
   "source": [
    "Como o erro acima indica, não é possível misturar textos com números. Uma das opções para resolver esse problema é converter o resultado para string antes de realizar a concatenação."
   ]
  },
  {
   "cell_type": "code",
   "execution_count": null,
   "metadata": {},
   "outputs": [],
   "source": [
    "num1 = int(input(\"Digite um número: \")) # converti para número inteiro\n",
    "num2 = int(input(\"Digite outro número: \")) # converti para número inteiro\n",
    "\n",
    "soma = num1 + num2 # agora a operação é de adição\n",
    "\n",
    "print(\"A soma dos números é \" + str(soma)) # converti o valor da soma de volta para string"
   ]
  },
  {
   "cell_type": "markdown",
   "metadata": {},
   "source": [
    "Existem muitas outras soluções para este problema (associados à própria função print, f-strings, format, etc.). Iremos ver algumas mais a diante."
   ]
  },
  {
   "cell_type": "markdown",
   "metadata": {},
   "source": [
    "### 1.2. Manipulação de strings\n",
    "\n",
    "Às vezes, nós precisamos limpar o texto de coisas que nós não precisamos.\n",
    "Por isso é importante saber que strings podem ser acessadas usando um índice que indica sua posição."
   ]
  },
  {
   "cell_type": "code",
   "execution_count": null,
   "metadata": {},
   "outputs": [],
   "source": [
    "nome = \"Maria Júlia\""
   ]
  },
  {
   "cell_type": "code",
   "execution_count": null,
   "metadata": {},
   "outputs": [],
   "source": [
    "print(nome[0]) # retorna o primeiro elemento"
   ]
  },
  {
   "cell_type": "code",
   "execution_count": null,
   "metadata": {},
   "outputs": [],
   "source": [
    "print(nome[1]) # retorna o segundo elemento"
   ]
  },
  {
   "cell_type": "code",
   "execution_count": null,
   "metadata": {},
   "outputs": [],
   "source": [
    "print(nome[2]) # retorna o terceiro elemento"
   ]
  },
  {
   "cell_type": "code",
   "execution_count": null,
   "metadata": {},
   "outputs": [],
   "source": [
    "print(nome[-1]) # retorna o último elemento"
   ]
  },
  {
   "cell_type": "code",
   "execution_count": null,
   "metadata": {},
   "outputs": [],
   "source": [
    "print(nome[-2]) # retorna o penúltimo elemento"
   ]
  },
  {
   "cell_type": "code",
   "execution_count": null,
   "metadata": {},
   "outputs": [],
   "source": [
    "print(nome[::-1]) # inverte todas as letras do nome"
   ]
  },
  {
   "cell_type": "code",
   "execution_count": null,
   "metadata": {},
   "outputs": [],
   "source": [
    "print(nome[3:7]) # retorna desde o quarto elemento até o sexto"
   ]
  },
  {
   "cell_type": "markdown",
   "metadata": {},
   "source": [
    "Esse último código é um pouco confuso, mas no python, nós não vamos até o último elemento quando fazemos algo como `3:7`. O jeito de falar isso é \"desde o elemento 3, até o elemento 7 não-incluso\". \n",
    "\n",
    "Não-incluso significa que nós não vamos até o elemento 7."
   ]
  },
  {
   "cell_type": "code",
   "execution_count": null,
   "metadata": {},
   "outputs": [],
   "source": [
    "exemplo = \"0123456789\"\n",
    "\n",
    "print(exemplo[3:7])"
   ]
  },
  {
   "cell_type": "code",
   "execution_count": null,
   "metadata": {},
   "outputs": [],
   "source": [
    "nome = \"Maria Julia Soares Oliveira\"\n",
    "\n",
    "nome_separado = nome.split(\" \") # separe a string pelo espaço \" \"\n",
    "print(nome_separado)"
   ]
  },
  {
   "cell_type": "markdown",
   "metadata": {},
   "source": [
    "Perceba que agora eu tenho uma lista com os nomes separados pelo espaço.\n",
    "Se eu quiser imprimir o primeiro e último nome, eu posso usar a mesma lógica apresentada acima.\n"
   ]
  },
  {
   "cell_type": "code",
   "execution_count": null,
   "metadata": {},
   "outputs": [],
   "source": [
    "print(nome_separado[0])\n",
    "print(nome_separado[-1])"
   ]
  },
  {
   "cell_type": "markdown",
   "metadata": {},
   "source": [
    "Além disso, nós podemos substituir qualquer palavra por qualquer palavra usando a função replace.\n"
   ]
  },
  {
   "cell_type": "code",
   "execution_count": null,
   "metadata": {},
   "outputs": [],
   "source": [
    "apresentacao = \"Meu nome é João\"\n",
    "\n",
    "nova_apresentacao = apresentacao.replace(\"João\", \"Marcelo\")\n",
    "print(nova_apresentacao)"
   ]
  },
  {
   "cell_type": "markdown",
   "metadata": {},
   "source": [
    "<hr style=\"height:3px; border-width:0; color:gray; background-color:gray\">"
   ]
  },
  {
   "cell_type": "markdown",
   "metadata": {
    "id": "8dVSzGE6hkZx"
   },
   "source": [
    "## 2. Exercícios"
   ]
  },
  {
   "cell_type": "markdown",
   "metadata": {
    "id": "QR-9RgmshmNN"
   },
   "source": [
    "1) Peça ao usuário o seu nome e imprima uma mensagem de boas-vindas."
   ]
  },
  {
   "cell_type": "code",
   "execution_count": null,
   "metadata": {
    "id": "Nl9eNWMGhvFy"
   },
   "outputs": [],
   "source": []
  },
  {
   "cell_type": "markdown",
   "metadata": {
    "id": "9dHbTjQNhvMJ"
   },
   "source": [
    "2) Peça ao usuário sua idade atual. Supondo que a idade alvo para a aposentadoria seja 65 anos, calcule e imprima quantos anos faltam para ele atingir essa idade."
   ]
  },
  {
   "cell_type": "code",
   "execution_count": null,
   "metadata": {
    "id": "gzAwX6D-h1NT"
   },
   "outputs": [],
   "source": []
  },
  {
   "cell_type": "markdown",
   "metadata": {
    "id": "fYR1nZPVh1U7"
   },
   "source": [
    "3) Peça ao usuário qual é o ano atual e qual é o prazo em anos de um investimento. O programa deve calcular e imprimir em qual ano esse investimento irá vencer."
   ]
  },
  {
   "cell_type": "code",
   "execution_count": null,
   "metadata": {
    "id": "fMBMcXHUh69D"
   },
   "outputs": [],
   "source": []
  },
  {
   "cell_type": "markdown",
   "metadata": {
    "id": "vHtDwTTdjDTN"
   },
   "source": [
    "4) Peça ao usuário um texto e imprima o mesmo texto ao contrário."
   ]
  },
  {
   "cell_type": "code",
   "execution_count": null,
   "metadata": {
    "id": "SZmvXJTOjLWs"
   },
   "outputs": [],
   "source": []
  },
  {
   "cell_type": "markdown",
   "metadata": {
    "id": "EjNTNg7ZjLeK"
   },
   "source": [
    "5) Peça ao usuário seu nome completo e imprima seu primeiro nome e último sobrenome."
   ]
  },
  {
   "cell_type": "code",
   "execution_count": null,
   "metadata": {
    "id": "A73j6L4tkFGD"
   },
   "outputs": [],
   "source": []
  },
  {
   "cell_type": "markdown",
   "metadata": {
    "id": "OYM8hsozkFVS"
   },
   "source": [
    "6) Dado o modelo de texto abaixo, substitua o marcador [NOME_DO_ORGAO] por `Secretaria do Tesouro Nacional`."
   ]
  },
  {
   "cell_type": "code",
   "execution_count": null,
   "metadata": {
    "colab": {
     "base_uri": "https://localhost:8080/"
    },
    "id": "A9E13Xpokk2N",
    "outputId": "2ae195f5-3806-40f3-9751-cac002081e4c"
   },
   "outputs": [],
   "source": [
    "# Texto modelo\n",
    "relatorio_template = \"Análise Trimestral: A empresa [NOME_DO_ORGAO] demonstrou um crescimento robusto no último trimestre. \"\\\n",
    "                     \"Recomendamos atenção aos próximos balanços de [NOME_DO_ORGAO] para confirmar a tendência.\""
   ]
  },
  {
   "cell_type": "markdown",
   "metadata": {},
   "source": [
    "## 3. Bug Hunt\n",
    "Os códigos abaixo possuem algum tipo de problema. Leia o código e a mensagem de erro atentamente e tente solucionar o bug!\n",
    "Descreva o erro e a solução com suas próprias palavras."
   ]
  },
  {
   "cell_type": "code",
   "execution_count": null,
   "metadata": {
    "scrolled": true
   },
   "outputs": [],
   "source": [
    "#3.1\n",
    "valor1_str = input(\"Digite o primeiro valor: \")\n",
    "valor2_str = input(\"Digite o segundo valor: \")\n",
    "\n",
    "soma = valor1_str + valor2_str\n",
    "\n",
    "print(\"O resultado da soma é: \" +  soma)"
   ]
  },
  {
   "cell_type": "markdown",
   "metadata": {},
   "source": [
    "Erro:\n",
    "\n",
    "Solução:"
   ]
  },
  {
   "cell_type": "code",
   "execution_count": null,
   "metadata": {},
   "outputs": [],
   "source": [
    "#3.2\n",
    "modalidade_investimento = \"Tesouro Direto\"\n",
    "\n",
    "if modalidade_investimento = \"Tesouro Direto\":\n",
    "    print(\"Esta modalidade é considerada de baixo risco.\")"
   ]
  },
  {
   "cell_type": "markdown",
   "metadata": {},
   "source": [
    "Erro:\n",
    "\n",
    "Solução:"
   ]
  },
  {
   "cell_type": "markdown",
   "metadata": {},
   "source": [
    "<hr style=\"height:3px; border-width:0; color:gray; background-color:gray\">"
   ]
  },
  {
   "cell_type": "markdown",
   "metadata": {
    "id": "RTtijnVCloGS"
   },
   "source": [
    "## 4. Projetos"
   ]
  },
  {
   "cell_type": "markdown",
   "metadata": {
    "id": "u4qQ0CTblqTB"
   },
   "source": [
    "1) Faça um programa de cronômetro, no qual o usuário aperta o botão Enter uma vez para começar e uma segunda vez para parar – no final recebendo a informação de quanto tempo ele levou para finalizar uma tarefa. Esse programa pode ser usado, por exemplo, para quem quer resolver um cubo mágico de maneira cronometrada."
   ]
  },
  {
   "cell_type": "code",
   "execution_count": null,
   "metadata": {
    "id": "yT4TAWYbl4Fc"
   },
   "outputs": [],
   "source": []
  },
  {
   "cell_type": "markdown",
   "metadata": {
    "id": "RLf3j4bKB79N"
   },
   "source": [
    "2) Faça uma pequena aventura em texto, na qual o usuário decide se ele seguirá para direita, para esquerda ou seguirá em frente. Para cada uma das decisões, acontecerá algum evento diferente"
   ]
  },
  {
   "cell_type": "code",
   "execution_count": null,
   "metadata": {
    "id": "ZLzxB4fEB8Df"
   },
   "outputs": [],
   "source": []
  },
  {
   "cell_type": "markdown",
   "metadata": {},
   "source": [
    "3) Faça um programa que peça ao usuário a nota de crédito (score) de um cliente e classifique o risco com base nas seguintes regras de negócio:\n",
    "<blockquote style=\"border-left: 4px solid #ccc; padding-left: 15px; font-style: italic;\">\n",
    "  <p><b>800 a 850:</b> \"Risco Baixo\"</p>\n",
    "  <p><b>670 a 799:</b> \"Risco Médio\"</p>\n",
    "  <p><b>580 a 669:</b> \"Risco Moderado\"</p>\n",
    "  <p><b>Abaixo de 580:</b> \"Risco Alto\"</p>\n",
    "</blockquote>"
   ]
  },
  {
   "cell_type": "markdown",
   "metadata": {},
   "source": [
    "<hr style=\"height:3px; border-width:0; color:gray; background-color:gray\">"
   ]
  },
  {
   "cell_type": "markdown",
   "metadata": {},
   "source": [
    "## 5. Perguntas para Discussão em Grupo"
   ]
  },
  {
   "cell_type": "markdown",
   "metadata": {},
   "source": [
    "1) No programa da nota de crédito, o que aconteceria se um usuário digitasse \"oitocentos\" em vez de `800` no campo da renda? Que tipo de erro o Python mostraria? Pensem em por que isso acontece e como, no futuro, um programa poderia ser mais robusto para lidar com esses casos."
   ]
  },
  {
   "cell_type": "markdown",
   "metadata": {},
   "source": [
    "2) Qual é o problema do código a seguir:"
   ]
  },
  {
   "cell_type": "code",
   "execution_count": null,
   "metadata": {},
   "outputs": [],
   "source": [
    "volatilidade = 0.25\n",
    "\n",
    "if volatilidade > 0.30:\n",
    "    print(\"Risco Alto\")\n",
    "if volatilidade > 0.15:\n",
    "    print(\"Risco Médio\")\n",
    "else:\n",
    "    print(\"Risco Baixo\")"
   ]
  },
  {
   "cell_type": "markdown",
   "metadata": {},
   "source": [
    "3) Pensem em um processo de aprovação ou verificação no dia a dia do Tesouro que segue regras claras (ex: \"Se o valor da despesa for maior que X e o parecer técnico for Y, então o processo segue para o setor Z\"). Como vocês poderiam esboçar a lógica principal desse processo usando uma estrutura if/elif/else em pseudocódigo (ou seja, em português estruturado)?"
   ]
  },
  {
   "cell_type": "markdown",
   "metadata": {},
   "source": [
    "<hr style=\"height:3px; border-width:0; color:gray; background-color:gray\">"
   ]
  },
  {
   "cell_type": "markdown",
   "metadata": {},
   "source": [
    "## 6. Sugestões de pesquisa\n",
    "Se você terminou os exercícios e deseja se aprofundar em alguns detalhes da linguagem, deixo algumas sugestões de pesquisa a serem realizadas:"
   ]
  },
  {
   "cell_type": "markdown",
   "metadata": {},
   "source": [
    "1) Faça uma lista de 5 métodos de string úteis"
   ]
  },
  {
   "cell_type": "markdown",
   "metadata": {},
   "source": [
    "2) Existem muitas opções para contornar o problema de concatenação entre int e str apresentado. Tente explicar como os exemplos abaixo funcionam."
   ]
  },
  {
   "cell_type": "code",
   "execution_count": null,
   "metadata": {},
   "outputs": [],
   "source": [
    "num = 4\n",
    "\n",
    "print(\"O número é \" + str(num))\n",
    "print(\"O número é\", num)\n",
    "print(\"O número é {}\".format(num))\n",
    "print(\"O número é %d\" % num)\n",
    "print(f\"O número é {num}\")"
   ]
  },
  {
   "cell_type": "markdown",
   "metadata": {},
   "source": [
    "3. Explique o código abaixo"
   ]
  },
  {
   "cell_type": "code",
   "execution_count": null,
   "metadata": {},
   "outputs": [],
   "source": [
    "nome = \"Meu nome é João\"\n",
    "\n",
    "print(\" \".join(nome.split()))"
   ]
  },
  {
   "cell_type": "markdown",
   "metadata": {},
   "source": [
    "4) Explique o código abaixo"
   ]
  },
  {
   "cell_type": "code",
   "execution_count": null,
   "metadata": {},
   "outputs": [],
   "source": [
    "nome = \"Tesouro Nacional\"\n",
    "print(nome[3:])\n",
    "print(nome[:10])\n",
    "\n",
    "print(nome[2:9])\n",
    "print(nome[2:9:2])\n",
    "\n",
    "print(nome[::-1])\n",
    "print(nome[::-2])"
   ]
  }
 ],
 "metadata": {
  "colab": {
   "provenance": []
  },
  "kernelspec": {
   "display_name": "Python 3 (ipykernel)",
   "language": "python",
   "name": "python3"
  },
  "language_info": {
   "codemirror_mode": {
    "name": "ipython",
    "version": 3
   },
   "file_extension": ".py",
   "mimetype": "text/x-python",
   "name": "python",
   "nbconvert_exporter": "python",
   "pygments_lexer": "ipython3",
   "version": "3.12.7"
  }
 },
 "nbformat": 4,
 "nbformat_minor": 4
}
