{
 "cells": [
  {
   "cell_type": "markdown",
   "metadata": {},
   "source": [
    "[![Open In Colab](https://colab.research.google.com/assets/colab-badge.svg)](https://colab.research.google.com/github/tesouro/curso_basico_python/blob/main/Aula%204%20-%20Laços%20de%20repetição.ipynb)"
   ]
  },
  {
   "cell_type": "markdown",
   "metadata": {},
   "source": [
    "# Aula 4 - Laços de repetição\n",
    "<div class=\"alert alert-block alert-info\" style=\"border-left: 5px solid #0056b3;\">\n",
    "    <h4>🎯 Objetivos de Aprendizagem da Aula</h4>\n",
    "    <ul style=\"margin-left: 20px;\">\n",
    "    <li>A Motivação para os Laços: Por que copiar e colar código é uma má ideia.</li>\n",
    "    <li>O Laço for: Para percorrer sequências (listas, textos, range).</li>\n",
    "    <li>O Laço while: Para repetir uma ação enquanto uma condição for verdadeira.</li>\n",
    "    </ul>\n",
    "</div>"
   ]
  },
  {
   "cell_type": "markdown",
   "metadata": {},
   "source": [
    "<hr style=\"height:3px; border-width:0; color:gray; background-color:gray\">"
   ]
  },
  {
   "cell_type": "markdown",
   "metadata": {},
   "source": [
    "## 1. Uma breve contextualização sobre laços de repetição\n",
    "Para entender qual é a vantagem de usar loops na programação, nós podemos voltar para um exercício presente na Aula 2:\n",
    "\n",
    "*Faça um sistema de senha no qual o usuário precisa adivinhar a senha corretamente para entrar no sistema. Dê três chances para o usuário acertar a senha – após a terceira senha errada, encerre o programa e informe ao usuário \"Acesso Negado\".*\n",
    "\n",
    "Uma possibilidade de fazer esse programa seria copiando e colando três blocos de if-else aninhados:"
   ]
  },
  {
   "cell_type": "code",
   "execution_count": null,
   "metadata": {},
   "outputs": [],
   "source": [
    "senha_correta = \"1234\"\n",
    "\n",
    "senha1 = input(\"Digite a senha: \")\n",
    "\n",
    "if senha1 == senha_correta:\n",
    "    print(\"Acesso Permitido\")\n",
    "else:\n",
    "    senha2 = input(\"Senha incorreta. Tente novamente: \")\n",
    "    if senha2 == senha_correta:\n",
    "        print(\"Acesso Permitido\")\n",
    "    else:\n",
    "        senha3 = input(\"Última tentativa: \")\n",
    "        if senha3 == senha_correta:\n",
    "            print(\"Acesso Permitido\")\n",
    "        else:\n",
    "            print(\"Acesso Negado\")\n"
   ]
  },
  {
   "cell_type": "markdown",
   "metadata": {},
   "source": [
    "Isso é ok para um número pequeno de repetições. Mas imagine que a questão pedisse que o usuário tivesse 100 tentativas. Para programar usando a estratégia acima, você teria que copiar, colar e modificar 100 vezes esse bloco de código.\n",
    "\n",
    "Obviamente, isso é extremamente ineficiente. A solução é construir o programa usando loops:"
   ]
  },
  {
   "cell_type": "code",
   "execution_count": null,
   "metadata": {},
   "outputs": [],
   "source": [
    "senha_correta = \"tesouro123\"\n",
    "\n",
    "limite_tentativas = 3 # experimente mudar o número aqui, de 3 para 100\n",
    "user_tentativas = 0\n",
    "\n",
    "# não se preocupe em entender a sintaxe por hora, apenas rode e veja como o código se comporta\n",
    "while user_tentativas < limite_tentativas:\n",
    "    senha_user = int(input(\"Digite a senha numérica: \"))\n",
    "    user_tentativas = user_tentativas + 1\n",
    "    \n",
    "    if senha_user == senha_correta:\n",
    "        print(\"Acesso permitido.\")\n",
    "        break\n",
    "    else:\n",
    "        if user_tentativas != limite_tentativas:\n",
    "            print(f\"Tente novamente. Você tem mais {limite_tentativas - user_tentativas} chances.\")\n",
    "        else:\n",
    "            print(\"Você excedeu o limite de tentativas. Acesso negado.\")"
   ]
  },
  {
   "cell_type": "markdown",
   "metadata": {},
   "source": [
    "Perceba que agora eu tenho o mesmo programa, e para mudar o número de tentativas eu literalmente preciso mudar um número – em vez de copiar e colar uma coisa 100 vezes.\n",
    "\n",
    "Essa é a vantagem de usar loops – você deixa seu código mais sucinto, mais fácil de escrever e de manter."
   ]
  },
  {
   "cell_type": "markdown",
   "metadata": {},
   "source": [
    "### 1.1. For-loop\n",
    "Os for-loops são loops com um final definido – você sabe o número de vezes que o loop será repetido. Por exemplo, eu quero imprimir os números de 0 até 9. "
   ]
  },
  {
   "cell_type": "code",
   "execution_count": 2,
   "metadata": {},
   "outputs": [
    {
     "name": "stdout",
     "output_type": "stream",
     "text": [
      "0\n",
      "1\n",
      "2\n",
      "3\n",
      "4\n",
      "5\n",
      "6\n",
      "7\n",
      "8\n",
      "9\n"
     ]
    }
   ],
   "source": [
    "for i in range(10): # 0-9\n",
    "  print(i)"
   ]
  },
  {
   "cell_type": "markdown",
   "metadata": {},
   "source": [
    "Você comumente vai usar a função range quando estiver usando um for-loop. \n",
    "Ela funciona assim:\n",
    "\n",
    "- range(10) - gera números de 0 até 9 (10 não-incluso)\n",
    "- range(4,10) - gera números de 4 até 9 (10 não-incluso)\n",
    "- range(3,-1,-1) - gera números de 3 até 0 (-1 não incluso), com o passo de -1 "
   ]
  },
  {
   "cell_type": "code",
   "execution_count": 3,
   "metadata": {},
   "outputs": [
    {
     "name": "stdout",
     "output_type": "stream",
     "text": [
      "0\n",
      "1\n",
      "2\n",
      "3\n",
      "4\n",
      "5\n",
      "6\n",
      "7\n",
      "8\n",
      "9\n"
     ]
    }
   ],
   "source": [
    "for i in range(10): \n",
    "  print(i)"
   ]
  },
  {
   "cell_type": "code",
   "execution_count": 4,
   "metadata": {},
   "outputs": [
    {
     "name": "stdout",
     "output_type": "stream",
     "text": [
      "4\n",
      "5\n",
      "6\n",
      "7\n",
      "8\n",
      "9\n"
     ]
    }
   ],
   "source": [
    "for i in range(4, 10): \n",
    "  print(i)"
   ]
  },
  {
   "cell_type": "code",
   "execution_count": 5,
   "metadata": {},
   "outputs": [
    {
     "name": "stdout",
     "output_type": "stream",
     "text": [
      "3\n",
      "2\n",
      "1\n",
      "0\n"
     ]
    }
   ],
   "source": [
    "for i in range(3, -1, -1): \n",
    "  print(i)"
   ]
  },
  {
   "cell_type": "markdown",
   "metadata": {},
   "source": [
    "Outro jeito comum de usar o for-loop é em cima de uma estrutura de dados iterável como uma lista. Por exemplo:"
   ]
  },
  {
   "cell_type": "code",
   "execution_count": null,
   "metadata": {},
   "outputs": [],
   "source": [
    "# Iterando sobre uma lista de indicadores econômicos\n",
    "indicadores = ['SELIC', 'IPCA', 'Dólar']\n",
    "\n",
    "for indicador in indicadores:\n",
    "    print(f\"Analisando o indicador: {indicador}\")"
   ]
  },
  {
   "attachments": {
    "4ba1b180-0535-4566-bd80-ab0122b7b224.png": {
     "image/png": "[encoded data removed]"
    }
   },
   "cell_type": "markdown",
   "metadata": {},
   "source": [
    "O loop verifica se a estrutura iterável possui um próximo elemento. Se sim, ele o coleta na variável de iteração (no caso, `indicador`). O ciclo se repete até não haver mais um próximo elemento (momento no qual o loop quebra).\n",
    "![image.png](attachment:4ba1b180-0535-4566-bd80-ab0122b7b224.png)"
   ]
  },
  {
   "cell_type": "markdown",
   "metadata": {},
   "source": [
    "## 1.2. While-loop\n",
    "\n",
    "Um while-loop é um loop indefinido, no qual o programador não sabe o número de vezes que algo vai rodar. \n",
    "\n",
    "Por exemplo, um programa no qual o usuário precisa botar uma senha corretamente – eu não sei quantas vezes o usuário vai precisar para colocar a senha, então um while-loop é indicado:"
   ]
  },
  {
   "cell_type": "code",
   "execution_count": 53,
   "metadata": {},
   "outputs": [
    {
     "name": "stdout",
     "output_type": "stream",
     "text": [
      "Insira a senha:  \n"
     ]
    },
    {
     "name": "stdout",
     "output_type": "stream",
     "text": [
      "Tente novamente\n"
     ]
    },
    {
     "name": "stdout",
     "output_type": "stream",
     "text": [
      "Insira a senha:  \n"
     ]
    },
    {
     "name": "stdout",
     "output_type": "stream",
     "text": [
      "Tente novamente\n"
     ]
    },
    {
     "name": "stdout",
     "output_type": "stream",
     "text": [
      "Insira a senha:  \n"
     ]
    },
    {
     "name": "stdout",
     "output_type": "stream",
     "text": [
      "Tente novamente\n"
     ]
    },
    {
     "name": "stdout",
     "output_type": "stream",
     "text": [
      "Insira a senha:  \n"
     ]
    },
    {
     "name": "stdout",
     "output_type": "stream",
     "text": [
      "Tente novamente\n"
     ]
    },
    {
     "name": "stdout",
     "output_type": "stream",
     "text": [
      "Insira a senha:  \n"
     ]
    },
    {
     "name": "stdout",
     "output_type": "stream",
     "text": [
      "Tente novamente\n"
     ]
    },
    {
     "name": "stdout",
     "output_type": "stream",
     "text": [
      "Insira a senha:  \n"
     ]
    },
    {
     "name": "stdout",
     "output_type": "stream",
     "text": [
      "Tente novamente\n"
     ]
    },
    {
     "name": "stdout",
     "output_type": "stream",
     "text": [
      "Insira a senha:  \n"
     ]
    },
    {
     "name": "stdout",
     "output_type": "stream",
     "text": [
      "Tente novamente\n"
     ]
    },
    {
     "name": "stdout",
     "output_type": "stream",
     "text": [
      "Insira a senha:  \n"
     ]
    },
    {
     "name": "stdout",
     "output_type": "stream",
     "text": [
      "Tente novamente\n"
     ]
    },
    {
     "name": "stdout",
     "output_type": "stream",
     "text": [
      "Insira a senha:  \n"
     ]
    },
    {
     "name": "stdout",
     "output_type": "stream",
     "text": [
      "Tente novamente\n"
     ]
    },
    {
     "name": "stdout",
     "output_type": "stream",
     "text": [
      "Insira a senha:  1\n"
     ]
    },
    {
     "name": "stdout",
     "output_type": "stream",
     "text": [
      "Tente novamente\n"
     ]
    },
    {
     "name": "stdout",
     "output_type": "stream",
     "text": [
      "Insira a senha:  tesouro123\n"
     ]
    },
    {
     "name": "stdout",
     "output_type": "stream",
     "text": [
      "Acesso permitido.\n"
     ]
    }
   ],
   "source": [
    "senha_correta = \"tesouro123\"\n",
    "\n",
    "while True:\n",
    "    senha_user = input(\"Insira a senha: \")\n",
    "\n",
    "    if senha_user == senha_correta:\n",
    "        print(\"Acesso permitido.\")\n",
    "        break\n",
    "    else:\n",
    "        print(\"Tente novamente\")"
   ]
  },
  {
   "cell_type": "markdown",
   "metadata": {},
   "source": [
    "Perceba que 'while True' gera um loop infinito – enquanto a senha do usuário não for igual à senha correta, o programa está preso nesse loop para sempre. Apenas quando a senha for correta, o programa acessa o 'break', que quebra esse loop infinito.\n",
    "\n",
    "Com o while, você não necessariamente precisa fazer um loop infinito. Assim como o if, você pode definir checagens booleanas. Outra maneira de escrever o mesmo código seria:"
   ]
  },
  {
   "cell_type": "code",
   "execution_count": 55,
   "metadata": {},
   "outputs": [
    {
     "name": "stdout",
     "output_type": "stream",
     "text": [
      "Insira a senha:  \n"
     ]
    },
    {
     "name": "stdout",
     "output_type": "stream",
     "text": [
      "Tente novamente\n"
     ]
    },
    {
     "name": "stdout",
     "output_type": "stream",
     "text": [
      "Insira a senha:  \n"
     ]
    },
    {
     "name": "stdout",
     "output_type": "stream",
     "text": [
      "Tente novamente\n"
     ]
    },
    {
     "name": "stdout",
     "output_type": "stream",
     "text": [
      "Insira a senha:  \n"
     ]
    },
    {
     "name": "stdout",
     "output_type": "stream",
     "text": [
      "Tente novamente\n"
     ]
    },
    {
     "name": "stdout",
     "output_type": "stream",
     "text": [
      "Insira a senha:  \n"
     ]
    },
    {
     "name": "stdout",
     "output_type": "stream",
     "text": [
      "Tente novamente\n"
     ]
    },
    {
     "name": "stdout",
     "output_type": "stream",
     "text": [
      "Insira a senha:  \n"
     ]
    },
    {
     "name": "stdout",
     "output_type": "stream",
     "text": [
      "Tente novamente\n"
     ]
    },
    {
     "name": "stdout",
     "output_type": "stream",
     "text": [
      "Insira a senha:  \n"
     ]
    },
    {
     "name": "stdout",
     "output_type": "stream",
     "text": [
      "Tente novamente\n"
     ]
    },
    {
     "name": "stdout",
     "output_type": "stream",
     "text": [
      "Insira a senha:  \n"
     ]
    },
    {
     "name": "stdout",
     "output_type": "stream",
     "text": [
      "Tente novamente\n"
     ]
    },
    {
     "name": "stdout",
     "output_type": "stream",
     "text": [
      "Insira a senha:  tesouro123\n"
     ]
    },
    {
     "name": "stdout",
     "output_type": "stream",
     "text": [
      "Acesso permitido\n"
     ]
    }
   ],
   "source": [
    "senha_correta = \"tesouro123\"\n",
    "\n",
    "while senha_correta != input(\"Insira a senha: \"):\n",
    "  print(\"Tente novamente\")\n",
    "\n",
    "print(\"Acesso permitido\")"
   ]
  },
  {
   "cell_type": "markdown",
   "metadata": {},
   "source": [
    "Outro exemplo, podemos observar um código que continua até um saldo atingir uma dada meta."
   ]
  },
  {
   "cell_type": "code",
   "execution_count": 13,
   "metadata": {},
   "outputs": [
    {
     "name": "stdout",
     "output_type": "stream",
     "text": [
      "Saldo inicial: R$5000.00\n",
      "Mês 1: Novo saldo de R$5250.00\n",
      "Mês 2: Novo saldo de R$5500.00\n",
      "Mês 3: Novo saldo de R$5750.00\n",
      "Mês 4: Novo saldo de R$6000.00\n",
      "Mês 5: Novo saldo de R$6250.00\n",
      "Mês 6: Novo saldo de R$6500.00\n",
      "Mês 7: Novo saldo de R$6750.00\n",
      "Mês 8: Novo saldo de R$7000.00\n",
      "\n",
      "Meta de R$7000.00 atingida em 8 meses!\n"
     ]
    }
   ],
   "source": [
    "# Exemplo: Simulação de um aporte até atingir uma meta\n",
    "saldo = 5000\n",
    "meta = 7000\n",
    "aporte_mensal = 250\n",
    "meses = 0\n",
    "\n",
    "print(f\"Saldo inicial: R${saldo:.2f}\")\n",
    "\n",
    "while saldo < meta:\n",
    "    saldo += aporte_mensal\n",
    "    meses += 1\n",
    "    print(f\"Mês {meses}: Novo saldo de R${saldo:.2f}\")\n",
    "\n",
    "print(f\"\\nMeta de R${meta:.2f} atingida em {meses} meses!\")"
   ]
  },
  {
   "attachments": {
    "2d4c1720-2bb6-48c2-a553-d0e82db74e2f.png": {
     "image/png": "[encoded data removed]"
    }
   },
   "cell_type": "markdown",
   "metadata": {},
   "source": [
    "![image.png](attachment:2d4c1720-2bb6-48c2-a553-d0e82db74e2f.png)"
   ]
  },
  {
   "cell_type": "markdown",
   "metadata": {},
   "source": [
    "## 1.3. Diferença entre break e continue\n",
    "Dentro do loop, você pode escolher pular algum passo ou quebrar o loop por completo quando uma certa condição for alcançada.\n",
    "- O `continue` é um comando que avança para o próximo passo do loop\n",
    "- O `break` é um comando que quebra o loop em si"
   ]
  },
  {
   "cell_type": "code",
   "execution_count": 58,
   "metadata": {},
   "outputs": [
    {
     "name": "stdout",
     "output_type": "stream",
     "text": [
      "1\n",
      "3\n",
      "5\n",
      "7\n",
      "9\n"
     ]
    }
   ],
   "source": [
    "for i in range(0,10):\n",
    "    if i%2==0: # se o número for par, ele não avança para o próximo elemento \n",
    "        continue\n",
    "    print(i) # portanto, apenas os números ímpares são impressos"
   ]
  },
  {
   "cell_type": "code",
   "execution_count": 62,
   "metadata": {},
   "outputs": [
    {
     "name": "stdout",
     "output_type": "stream",
     "text": [
      "0\n"
     ]
    }
   ],
   "source": [
    "for i in range(0,10):\n",
    "    if i%2==1: # se o número for ímpar, ele quebra o loop em si\n",
    "        break\n",
    "    print(i) # portanto, apenas o primeiro elemento é impresso"
   ]
  },
  {
   "cell_type": "markdown",
   "metadata": {},
   "source": [
    "<hr style=\"height:3px; border-width:0; color:gray; background-color:gray\">"
   ]
  },
  {
   "cell_type": "markdown",
   "metadata": {},
   "source": [
    "## 2. Exercícios"
   ]
  },
  {
   "cell_type": "markdown",
   "metadata": {
    "id": "7kTlUb0Hj8gY"
   },
   "source": [
    "1. Imprima todos os números entre 0 e 100 (incluindo o 100)."
   ]
  },
  {
   "cell_type": "code",
   "execution_count": null,
   "metadata": {
    "id": "8QGA4QZ0lHI_"
   },
   "outputs": [],
   "source": []
  },
  {
   "cell_type": "markdown",
   "metadata": {
    "id": "MFw7GAGej8io"
   },
   "source": [
    "2. Faça uma contagem regressiva, contando todos os números de 10 até 0."
   ]
  },
  {
   "cell_type": "code",
   "execution_count": null,
   "metadata": {
    "id": "67b_tiMulHca"
   },
   "outputs": [],
   "source": []
  },
  {
   "cell_type": "markdown",
   "metadata": {
    "id": "8q4RhKvcj8k1"
   },
   "source": [
    "3. Desenvolva um gerador de tabuada, capaz de gerar a tabuada de qualquer número inteiro entre 1 a 10. O usuário deve informar de qual numero ele deseja ver a tabuada."
   ]
  },
  {
   "cell_type": "code",
   "execution_count": null,
   "metadata": {
    "id": "ApAG-FMslHxK"
   },
   "outputs": [],
   "source": []
  },
  {
   "cell_type": "markdown",
   "metadata": {
    "id": "qFYiMbFvj8pj"
   },
   "source": [
    "4. Para cada um dos funcionários abaixo, faça um loop no qual você imprime seus respectivos nomes e quanto eles ganham por mês após impostos, que é equivalente ao valor disponível menos 30\\%.\n",
    "\n",
    "```python\n",
    "empregados = [\n",
    "    (\"Rolf Smith\", 35, 8000), # nome, idade, salário pré-impostos\n",
    "    (\"Anne Pun\", 30, 12000),\n",
    "    (\"Charlie Lee\", 50, 18000),\n",
    "    (\"Bob Smith\", 20, 5000)]\n",
    "```"
   ]
  },
  {
   "cell_type": "code",
   "execution_count": null,
   "metadata": {
    "id": "N97YtdwxlIti"
   },
   "outputs": [],
   "source": []
  },
  {
   "cell_type": "markdown",
   "metadata": {
    "id": "rWFTzPNpj8tt"
   },
   "source": [
    "5. Faça um jogo de fizz-buzz.\n",
    "- Gere números de 1-100\n",
    "- Se o número for múltiplo de 3, imprima 'Fizz'\n",
    "- Se o número for múltiplo de 7, imprima 'Buzz'\n",
    "- Se o número for múltiplo de 3 e 7, imprima 'FizzBuzz'\n",
    "- Se o número não for múltiplo de 3 ou 7, imprima o número normalmente"
   ]
  },
  {
   "cell_type": "code",
   "execution_count": null,
   "metadata": {
    "id": "eHANnqc-lJq0"
   },
   "outputs": [],
   "source": []
  },
  {
   "cell_type": "markdown",
   "metadata": {
    "id": "V61blGcpj8vw"
   },
   "source": [
    "6. Faça um programa que calcule a persistência multiplicativa de um número. A persistência multiplicativa é o número de vezes que eu consigo multiplicar todos os dígitos de um número antes de chegar em um número de apenas um dígito.\n",
    "- Por exemplo, a persistência multiplicativa de 3497 seria dada a seguir:\n",
    "- 3497 → 3x4x9x7 → 756 (passo 1)\n",
    "- 756 → 7x5x6 → 210 (passo 2)\n",
    "- 210 → 2x1x0 → 0 (passo 3)\n",
    "Portanto, a persistência multiplicativa do número 3497 é igual a 3, porque nós precisamos de três passos para chegar em um número de apenas um dígito — no caso, `0`."
   ]
  },
  {
   "cell_type": "code",
   "execution_count": null,
   "metadata": {
    "id": "50nSGJ4zlKFS"
   },
   "outputs": [],
   "source": []
  },
  {
   "cell_type": "markdown",
   "metadata": {
    "id": "gCReMd7xj8xj"
   },
   "source": [
    "7. Faça um programa na qual o usuário digita um texto (e.g. seu nome) e o programa retorna uma imagem que mostra o número de vogais e o número de consoantes usando um gráfico de barras. Dica: pesquise `plt.bar()`."
   ]
  },
  {
   "cell_type": "code",
   "execution_count": null,
   "metadata": {
    "id": "gaWmTES-lKjo"
   },
   "outputs": [],
   "source": []
  },
  {
   "cell_type": "markdown",
   "metadata": {},
   "source": [
    "<hr style=\"height:3px; border-width:0; color:gray; background-color:gray\">"
   ]
  },
  {
   "cell_type": "markdown",
   "metadata": {},
   "source": [
    "## 3. Bug Hunt\n",
    "Os códigos abaixo possuem algum tipo de problema. Leia o código e a mensagem de erro atentamente e tente solucionar o bug!\n",
    "Descreva o erro e a solução com suas próprias palavras."
   ]
  },
  {
   "cell_type": "code",
   "execution_count": null,
   "metadata": {},
   "outputs": [],
   "source": [
    "contador = 0\n",
    "while contador < 5:\n",
    "    print(\"Analisando processo...\")"
   ]
  },
  {
   "cell_type": "code",
   "execution_count": 30,
   "metadata": {},
   "outputs": [
    {
     "name": "stdout",
     "output_type": "stream",
     "text": [
      "Total de meses com superávit: 0\n"
     ]
    }
   ],
   "source": [
    "dados_superavit = [100, -50, 200, 300, -10] # Valores em milhões\n",
    "\n",
    "for valor_mes in dados_superavit:\n",
    "    total_meses_positivos = 0 \n",
    "    if valor_mes > 0:\n",
    "        total_meses_positivos += 1\n",
    "\n",
    "print(f\"Total de meses com superávit: {total_meses_positivos}\")"
   ]
  },
  {
   "cell_type": "code",
   "execution_count": 65,
   "metadata": {},
   "outputs": [
    {
     "name": "stdout",
     "output_type": "stream",
     "text": [
      "0\n"
     ]
    }
   ],
   "source": [
    "# Eu quero fazer um código que imprime apenas os números pares entre 0 e 9\n",
    "for i in range(0,10):\n",
    "    if i%2==0:\n",
    "        print(i)\n",
    "    else:\n",
    "        break"
   ]
  },
  {
   "cell_type": "markdown",
   "metadata": {},
   "source": [
    "<hr style=\"height:3px; border-width:0; color:gray; background-color:gray\">"
   ]
  },
  {
   "cell_type": "markdown",
   "metadata": {
    "id": "hvi_m58OkVvR"
   },
   "source": [
    "# 4. Projetos para você fazer!"
   ]
  },
  {
   "cell_type": "markdown",
   "metadata": {
    "id": "4zR4R9XUkgWs"
   },
   "source": [
    "1. Faça um jogo de pedra-papel-tesoura, em que você você joga contra o computador, e o vencedor é determinado em uma melhor de 5 (ou seja, quem vencer três partidas primeiro)."
   ]
  },
  {
   "cell_type": "code",
   "execution_count": null,
   "metadata": {
    "id": "QBtSdhoylLkA"
   },
   "outputs": [],
   "source": []
  },
  {
   "cell_type": "markdown",
   "metadata": {
    "id": "rpQGIjBalEJa"
   },
   "source": [
    "2. Faça um jogo-da-velha usando Python. **(difícil!)**"
   ]
  },
  {
   "cell_type": "code",
   "execution_count": null,
   "metadata": {
    "id": "X_g4JjpQlMCG"
   },
   "outputs": [],
   "source": []
  },
  {
   "cell_type": "markdown",
   "metadata": {},
   "source": [
    "<hr style=\"height:3px; border-width:0; color:gray; background-color:gray\">"
   ]
  },
  {
   "cell_type": "markdown",
   "metadata": {},
   "source": [
    "## 5. Perguntas para Discussão em Grupo"
   ]
  },
  {
   "cell_type": "markdown",
   "metadata": {},
   "source": [
    "1) Qual a principal diferença entre um laço for e um laço while?"
   ]
  },
  {
   "cell_type": "markdown",
   "metadata": {},
   "source": [
    "2) Qual é a diferença entre break e continue?"
   ]
  },
  {
   "cell_type": "markdown",
   "metadata": {},
   "source": [
    "3) Imaginem que vocês recebem um arquivo com milhares de registros de empenhos. Vocês precisam processar cada registro para verificar se ele atende a uma determinada regra de conformidade. Você usaria um laço for ou um while? Por quê?"
   ]
  },
  {
   "cell_type": "markdown",
   "metadata": {},
   "source": [
    "<hr style=\"height:3px; border-width:0; color:gray; background-color:gray\">"
   ]
  },
  {
   "cell_type": "markdown",
   "metadata": {},
   "source": [
    "## 6. Sugestões de pesquisa\n",
    "Se você terminou os exercícios e deseja se aprofundar em alguns detalhes da linguagem, deixo algumas sugestões de pesquisa a serem realizadas:"
   ]
  },
  {
   "cell_type": "markdown",
   "metadata": {},
   "source": [
    "1. O que são Comprehensions? Pesquise sobre `list comprehensions`, `dictionary comprehensions`, etc."
   ]
  },
  {
   "cell_type": "markdown",
   "metadata": {},
   "source": [
    "2. Explique o código a seguir"
   ]
  },
  {
   "cell_type": "code",
   "execution_count": 26,
   "metadata": {},
   "outputs": [
    {
     "name": "stdout",
     "output_type": "stream",
     "text": [
      "--- Relatório Anual (PIB vs. Inflação) ---\n",
      "Em 2022: Crescimento do PIB foi de 2.9%, e a inflação foi de 5.79%.\n",
      "Em 2023: Crescimento do PIB foi de 3.0%, e a inflação foi de 4.62%.\n",
      "Em 2024: Crescimento do PIB foi de 2.5%, e a inflação foi de 3.9%.\n"
     ]
    }
   ],
   "source": [
    "anos = [2022, 2023, 2024]\n",
    "pib_crescimento = [2.9, 3.0, 2.5]\n",
    "inflacao_periodo = [5.79, 4.62, 3.9] \n",
    "\n",
    "print(\"--- Relatório Anual (PIB vs. Inflação) ---\")\n",
    "for ano, pib, ipc in zip(anos, pib_crescimento, inflacao_periodo): # pesquise sobre a função zip()\n",
    "    print(f\"Em {ano}: Crescimento do PIB foi de {pib}%, e a inflação foi de {ipc}%.\")"
   ]
  },
  {
   "cell_type": "markdown",
   "metadata": {},
   "source": [
    "3. Qual é o problema com o código a seguir? Quais são alternativas para gerar permutações de letras?"
   ]
  },
  {
   "cell_type": "code",
   "execution_count": 35,
   "metadata": {},
   "outputs": [
    {
     "name": "stdout",
     "output_type": "stream",
     "text": [
      "AAAA\n",
      "AAAB\n",
      "AAAC\n",
      "AABA\n",
      "AABB\n",
      "AABC\n",
      "AACA\n",
      "AACB\n",
      "AACC\n",
      "ABAA\n",
      "ABAB\n",
      "ABAC\n",
      "ABBA\n",
      "ABBB\n",
      "ABBC\n",
      "ABCA\n",
      "ABCB\n",
      "ABCC\n",
      "ACAA\n",
      "ACAB\n",
      "ACAC\n",
      "ACBA\n",
      "ACBB\n",
      "ACBC\n",
      "ACCA\n",
      "ACCB\n",
      "ACCC\n",
      "BAAA\n",
      "BAAB\n",
      "BAAC\n",
      "BABA\n",
      "BABB\n",
      "BABC\n",
      "BACA\n",
      "BACB\n",
      "BACC\n",
      "BBAA\n",
      "BBAB\n",
      "BBAC\n",
      "BBBA\n",
      "BBBB\n",
      "BBBC\n",
      "BBCA\n",
      "BBCB\n",
      "BBCC\n",
      "BCAA\n",
      "BCAB\n",
      "BCAC\n",
      "BCBA\n",
      "BCBB\n",
      "BCBC\n",
      "BCCA\n",
      "BCCB\n",
      "BCCC\n",
      "CAAA\n",
      "CAAB\n",
      "CAAC\n",
      "CABA\n",
      "CABB\n",
      "CABC\n",
      "CACA\n",
      "CACB\n",
      "CACC\n",
      "CBAA\n",
      "CBAB\n",
      "CBAC\n",
      "CBBA\n",
      "CBBB\n",
      "CBBC\n",
      "CBCA\n",
      "CBCB\n",
      "CBCC\n",
      "CCAA\n",
      "CCAB\n",
      "CCAC\n",
      "CCBA\n",
      "CCBB\n",
      "CCBC\n",
      "CCCA\n",
      "CCCB\n",
      "CCCC\n"
     ]
    }
   ],
   "source": [
    "letras = \"ABC\"\n",
    "\n",
    "for letra1 in letras:\n",
    "    for letra2 in letras:\n",
    "        for letra3 in letras:\n",
    "            for letra4 in letras:\n",
    "                print(letra1+letra2+letra3+letra4)"
   ]
  },
  {
   "cell_type": "code",
   "execution_count": null,
   "metadata": {},
   "outputs": [],
   "source": []
  }
 ],
 "metadata": {
  "colab": {
   "provenance": []
  },
  "kernelspec": {
   "display_name": "base",
   "language": "python",
   "name": "python3"
  },
  "language_info": {
   "codemirror_mode": {
    "name": "ipython",
    "version": 3
   },
   "file_extension": ".py",
   "mimetype": "text/x-python",
   "name": "python",
   "nbconvert_exporter": "python",
   "pygments_lexer": "ipython3",
   "version": "3.12.7"
  }
 },
 "nbformat": 4,
 "nbformat_minor": 4
}
