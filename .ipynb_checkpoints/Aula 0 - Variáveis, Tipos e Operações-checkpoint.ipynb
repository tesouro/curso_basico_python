{
 "cells": [
  {
   "cell_type": "markdown",
   "metadata": {},
   "source": [
    "# Aula 0: Variáveis, Tipos e Operações\n",
    "\n",
    "<div class=\"alert alert-block alert-info\" style=\"border-left: 5px solid #0056b3;\">\n",
    "    <h4>🎯 Objetivos de Aprendizagem da Aula</h4>\n",
    "    <ul style=\"margin-left: 20px;\">\n",
    "        <li>Entender o que é uma variável e como atribuir valores a ela.</li>\n",
    "        <li>Diferenciar os tipos de dados essenciais: <code>int</code>, <code>float</code> e <code>string</code>.</li>\n",
    "        <li>Realizar operações matemáticas básicas usando variáveis.</li>\n",
    "    </ul>\n",
    "</div>"
   ]
  },
  {
   "cell_type": "markdown",
   "metadata": {},
   "source": [
    "<hr style=\"height:3px; border-width:0; color:gray; background-color:gray\">\n"
   ]
  },
  {
   "attachments": {
    "7c15ec04-5b01-499e-8172-e2531dfda59f.png": {
     "image/png": "[encoded data removed]"
    }
   },
   "cell_type": "markdown",
   "metadata": {},
   "source": [
    "### 1.1. Como rodar código no Jupyter\n",
    "Antes de começarmos, é interessante mencionar como interagir com o ambiente em que estamos: o Jupyter Notebook.\n",
    "\n",
    "O Jupyter possui dois tipos de células – texto e código. \n",
    "Isso é uma célula de texto, e servirá para eu escrever coisas. Se você clicar em cima dela, verá que ela é do tipo \"Markdown\".\n",
    "\n",
    "![image.png](attachment:7c15ec04-5b01-499e-8172-e2531dfda59f.png)"
   ]
  },
  {
   "cell_type": "code",
   "execution_count": null,
   "metadata": {},
   "outputs": [],
   "source": [
    "# Isso é uma célula de código\n",
    "# Você pode executá-la apertando Shift + Enter\n",
    "print(\"Está funcionando!\")"
   ]
  },
  {
   "cell_type": "markdown",
   "metadata": {},
   "source": [
    "Se você viu o texto \"Está funcionando!\" aparecer, significa que você acabou de rodar seu primeiro programa! Parabéns!"
   ]
  },
  {
   "cell_type": "markdown",
   "metadata": {},
   "source": [
    "### 1.2. Variáveis\n",
    "Nesta aula, vamos aprender o conceito mais fundamental da programação: variáveis.\n",
    "\n",
    "Pense em uma variável como uma \"caixa\" na memória do computador. Nós damos um nome (uma etiqueta) para essa caixa e guardamos uma informação dentro dela. Isso nos permite usar e manipular essa informação facilmente mais tarde.\n",
    "\n",
    "Para guardar algo em uma variável, usamos o sinal de igual (`=`), que aqui chamamos de operador de atribuição.\n",
    "\n",
    "`nome_da_variavel = valor`\n",
    "\n",
    "Vamos ver isso na prática."
   ]
  },
  {
   "cell_type": "code",
   "execution_count": null,
   "metadata": {},
   "outputs": [],
   "source": [
    "# Vamos armazenar o ano do orçamento em uma variável.\n",
    "# 'ano_orcamento' é a nossa etiqueta, e 2025 é o valor que guardamos.\n",
    "ano_orcamento = 2025\n",
    "\n",
    "# Agora, vamos pedir para o Python nos mostrar o que está guardado nessa variável.\n",
    "print(ano_orcamento)"
   ]
  },
  {
   "cell_type": "markdown",
   "metadata": {},
   "source": [
    "### 1.3. Tipos de dados\n",
    "Ótimo! Mas o computador precisa saber que tipo de informação está guardado na caixa. As informações podem ser de vários tipos. Agora vamos ver os três mais básicos:\n",
    "\n",
    "Inteiro (`int`): Números inteiros, sem parte decimal. Perfeito para contagens, como anos ou número de meses.\n",
    "\n",
    "Ponto Flutuante ou Decimal (`float`): Números que possuem uma parte decimal. Usamos o ponto (`.`) para separar a parte inteira da decimal, diferentemente do português (em que usamos uma vírgula `,` como separador decimal. Essencial para valores monetários, taxas, etc.\n",
    "\n",
    "Texto (`string`): Qualquer sequência de caracteres (letras, números, símbolos). O texto deve sempre estar entre aspas (simples ' ou duplas \").\n",
    "\n",
    "Podemos usar a função `type()` para perguntar ao Python qual é o tipo de uma variável."
   ]
  },
  {
   "cell_type": "code",
   "execution_count": null,
   "metadata": {},
   "outputs": [],
   "source": [
    "# Variáveis com diferentes tipos de dados\n",
    "ano = 2025                          # int (inteiro)\n",
    "taxa_selic = 10.5                   # float (decimal)\n",
    "nome_titulo = \"Tesouro Selic 2029\"    # string (texto)\n",
    "\n",
    "# Vamos verificar os tipos de cada uma\n",
    "print(\"O tipo da variável 'ano' é:\", type(ano))\n",
    "print(\"O tipo da variável 'taxa_selic' é:\", type(taxa_selic))\n",
    "print(\"O tipo da variável 'nome_titulo' é:\", type(nome_titulo))"
   ]
  },
  {
   "cell_type": "markdown",
   "metadata": {},
   "source": [
    "### 1.4. Operações matemáticas\n",
    "Com variáveis numéricas (int e float), podemos fazer operações matemáticas simples.\n",
    "\n",
    "Soma: `+`\n",
    "\n",
    "Subtração: `-`\n",
    "\n",
    "Multiplicação: `*`\n",
    "\n",
    "Divisão: `/`\n",
    "\n",
    "Potenciação: `**` (Ex: `5**2` é cinco elevado ao quadrado)"
   ]
  },
  {
   "cell_type": "code",
   "execution_count": null,
   "metadata": {},
   "outputs": [],
   "source": [
    "divida_interna_R_bi = 6500.7\n",
    "divida_externa_R_bi = 250.3\n",
    "\n",
    "divida_total = divida_interna_R_bi + divida_externa_R_bi\n",
    "\n",
    "print(\"A Dívida Pública Federal Total (em R$ bilhões) é:\", divida_total)"
   ]
  },
  {
   "cell_type": "markdown",
   "metadata": {},
   "source": [
    "<hr style=\"height:3px; border-width:0; color:gray; background-color:gray\">"
   ]
  },
  {
   "cell_type": "markdown",
   "metadata": {
    "id": "fMSPlrphGUBY"
   },
   "source": [
    "## 2. Exercícios"
   ]
  },
  {
   "cell_type": "markdown",
   "metadata": {
    "id": "4QZL9MqVGYDT"
   },
   "source": [
    "1) Crie uma variável chamada `preco_acao_petr4` e atribua a ela o valor de 35.50."
   ]
  },
  {
   "cell_type": "code",
   "execution_count": null,
   "metadata": {
    "id": "CYLRCtcNG1qM"
   },
   "outputs": [],
   "source": []
  },
  {
   "cell_type": "markdown",
   "metadata": {
    "id": "QEQbQISHGkRa"
   },
   "source": [
    "2) Crie uma variável chamada `numero_acoes` e atribua a ela o valor de 50."
   ]
  },
  {
   "cell_type": "code",
   "execution_count": null,
   "metadata": {
    "id": "2TOr0TgxGwUP"
   },
   "outputs": [],
   "source": []
  },
  {
   "cell_type": "markdown",
   "metadata": {
    "id": "8GjrGyCNG2at"
   },
   "source": [
    "3) Calcule qual seria o custo de comprar o dado número de ações pela dada cotação."
   ]
  },
  {
   "cell_type": "code",
   "execution_count": null,
   "metadata": {
    "id": "OntLE1o9G_fw"
   },
   "outputs": [],
   "source": []
  },
  {
   "cell_type": "markdown",
   "metadata": {
    "id": "xr05BiSqHJrf"
   },
   "source": [
    "4) Você fez um investimento em uma campanha de marketing que custou R\\\\$ 15.000,00. Essa campanha gerou uma receita de R\\\\$ 22.500,00. Calcule o ROI. Armazene o resultado na variável `roi` e imprima para o usuário. Para um resultado mais claro, multiplique o resultado por 100 para exibi-lo em porcentagem.\n",
    "\n",
    "Use a fórmula:\n",
    "$\\text{ROI} = (\\text{Ganho Obtido}−\\text{Custo do Investimento})\\div\\text{Custo do Investimento}$"
   ]
  },
  {
   "cell_type": "code",
   "execution_count": null,
   "metadata": {
    "id": "3KhBKV3NQN1L"
   },
   "outputs": [],
   "source": []
  },
  {
   "cell_type": "markdown",
   "metadata": {
    "id": "fzYxYQawLxyU"
   },
   "source": [
    "5) Calcule os juros produzidos por um capital de R$ 20.000,00 aplicado a uma taxa de 1,2% ao mês durante 24 meses. Armazene o resultado em uma variável chamada juros_compostos e mostre o valor no final. Use a fórmula:\n",
    "\n",
    "$M = C.(1+i)^n$\n",
    "\n",
    "Onde:\n",
    "\n",
    "M = Montante \n",
    "\n",
    "C = Capital Aplicado \n",
    "\n",
    "i = taxa de juros composto \n",
    "\n",
    "n = tempo de aplicação "
   ]
  },
  {
   "cell_type": "markdown",
   "metadata": {},
   "source": [
    "<hr style=\"height:3px; border-width:0; color:gray; background-color:gray\">"
   ]
  },
  {
   "cell_type": "markdown",
   "metadata": {},
   "source": [
    "## 3. Bug Hunt\n",
    "Os códigos abaixo possuem algum tipo de problema. Leia o código e a mensagem de erro atentamente e tente solucionar o bug!\n",
    "Descreva o erro e a solução com suas próprias palavras."
   ]
  },
  {
   "cell_type": "code",
   "execution_count": null,
   "metadata": {},
   "outputs": [],
   "source": [
    "# 3.1\n",
    "principal = 1000\n",
    "taxa_anual = 5,5  \n",
    "anos = 10\n",
    "\n",
    "montante_final = principal * (1 + taxa_anual/100)**anos\n",
    "\n",
    "print(montante_final)"
   ]
  },
  {
   "cell_type": "markdown",
   "metadata": {},
   "source": [
    "Erro:\n",
    "\n",
    "Solução:"
   ]
  },
  {
   "cell_type": "code",
   "execution_count": null,
   "metadata": {},
   "outputs": [],
   "source": [
    "# 3.2\n",
    "mensagem = \"A meta de superávit para este ano é de R$ \"\n",
    "meta_superavit_bi = 15\n",
    "\n",
    "relatorio_final = mensagem + meta_superavit_bi\n",
    "\n",
    "print(relatorio_final)"
   ]
  },
  {
   "cell_type": "markdown",
   "metadata": {},
   "source": [
    "Erro:\n",
    "\n",
    "Solução:"
   ]
  },
  {
   "cell_type": "code",
   "execution_count": null,
   "metadata": {},
   "outputs": [],
   "source": [
    "# 3.3\n",
    "valor_em_carteira = 50000\n",
    "custo_operacional = 250\n",
    "\n",
    "lucro_bruto = valor_em_cartera - custo_operacional\n",
    "\n",
    "print(\"O lucro bruto foi de:\", lucro_bruto)"
   ]
  },
  {
   "cell_type": "markdown",
   "metadata": {},
   "source": [
    "Erro:\n",
    "\n",
    "Solução:"
   ]
  },
  {
   "cell_type": "markdown",
   "metadata": {},
   "source": [
    "<hr style=\"height:3px; border-width:0; color:gray; background-color:gray\">"
   ]
  },
  {
   "cell_type": "markdown",
   "metadata": {},
   "source": [
    "## 4. Projetos"
   ]
  },
  {
   "cell_type": "markdown",
   "metadata": {},
   "source": [
    "1) Suponha que você invista R\\\\$ 5.000,00 em um ativo que rende, em média, 0.8% ao mês (juros compostos). Quanto tempo (em meses) levará para que seu investimento ultrapasse R\\\\$ 20.000,00?"
   ]
  },
  {
   "cell_type": "code",
   "execution_count": null,
   "metadata": {},
   "outputs": [],
   "source": []
  },
  {
   "cell_type": "markdown",
   "metadata": {},
   "source": [
    "\n",
    "\n",
    "2) Um gestor de fundos precisa montar uma carteira de ações. Ele tem uma lista pré-aprovada de <code>20</code> ações do setor de tecnologia e precisa escolher <code>5</code> delas para compor o portfólio. De quantas maneiras diferentes ele pode montar essa carteira?\n",
    "\n",
    "<b>Fórmula da Combinação:</b> $C(n, k) = \\frac{n!}{k! \\cdot (n-k)!}$\n",
    "</p>\n",
    "<div class=\"alert alert-block alert-warning\">\n",
    "<b>Dica:</b> Para calcular o fatorial (<code>!</code>), você precisará importar a biblioteca <code>math</code> e usar a função <code>math.factorial()</code>.\n",
    "</div>"
   ]
  },
  {
   "cell_type": "code",
   "execution_count": null,
   "metadata": {},
   "outputs": [],
   "source": []
  },
  {
   "cell_type": "markdown",
   "metadata": {},
   "source": [
    "<hr style=\"height:3px; border-width:0; color:gray; background-color:gray\">"
   ]
  },
  {
   "cell_type": "markdown",
   "metadata": {},
   "source": [
    "## 5. Perguntas para Discussão em Grupo\n",
    "\n",
    "1) No primeiro exercício dos juros compostos, a variável tempo foi definida como 24 (um inteiro). Se, em vez disso, tivéssemos definido tempo = '24' (com aspas), o que vocês acham que aconteceria ao tentar executar o cálculo do montante? Por quê?"
   ]
  },
  {
   "cell_type": "markdown",
   "metadata": {},
   "source": []
  },
  {
   "cell_type": "markdown",
   "metadata": {},
   "source": [
    "2) Qual é a principal vantagem de usar variáveis (como capital e taxa) em um cálculo financeiro em vez de colocar os números diretamente na fórmula?"
   ]
  },
  {
   "cell_type": "markdown",
   "metadata": {},
   "source": []
  },
  {
   "cell_type": "markdown",
   "metadata": {},
   "source": [
    "3) Pensem em uma tarefa rotineira que vocês executam no Tesouro Nacional. Que tipo de informação dessa tarefa vocês poderiam armazenar em variáveis dos tipos int, float e string para começar a pensar em uma automação? Dêem um exemplo prático."
   ]
  },
  {
   "cell_type": "markdown",
   "metadata": {},
   "source": []
  },
  {
   "cell_type": "markdown",
   "metadata": {},
   "source": [
    "## 6. Sugestões de pesquisa\n",
    "Se você terminou os exercícios e deseja se aprofundar em alguns detalhes da linguagem, deixo algumas sugestões de pesquisa a serem realizadas:"
   ]
  },
  {
   "cell_type": "markdown",
   "metadata": {},
   "source": [
    "1) Quais são outros tipos de números que o Python possui, além de int e float?"
   ]
  },
  {
   "cell_type": "markdown",
   "metadata": {},
   "source": [
    "2) Quais são outras operações matemáticas que o Python pode realizar, além das citadas?"
   ]
  },
  {
   "cell_type": "markdown",
   "metadata": {},
   "source": [
    "3) Explique o que o símbolo # faz, como no exemplo abaixo"
   ]
  },
  {
   "cell_type": "code",
   "execution_count": null,
   "metadata": {},
   "outputs": [],
   "source": [
    "# imprime a soma de 2+2\n",
    "print(2+2)"
   ]
  },
  {
   "cell_type": "markdown",
   "metadata": {},
   "source": [
    "4) Quais são as regras para a nomeclatura de variáveis? Tente explicar por quê cada um dos exemplos abaixo é problemático:"
   ]
  },
  {
   "cell_type": "code",
   "execution_count": null,
   "metadata": {},
   "outputs": [],
   "source": [
    "print = 1\n",
    "def = 2\n",
    "3num = 3\n",
    "nome-da-pessoa = \"João\"\n",
    "numero! = 3*2*1"
   ]
  },
  {
   "cell_type": "markdown",
   "metadata": {},
   "source": [
    "5) Pesquise sobre operações bitwise e tente explicar o código abaixo:"
   ]
  },
  {
   "cell_type": "code",
   "execution_count": null,
   "metadata": {},
   "outputs": [],
   "source": [
    "print(3^2)"
   ]
  }
 ],
 "metadata": {
  "colab": {
   "provenance": []
  },
  "kernelspec": {
   "display_name": "Python 3 (ipykernel)",
   "language": "python",
   "name": "python3"
  },
  "language_info": {
   "codemirror_mode": {
    "name": "ipython",
    "version": 3
   },
   "file_extension": ".py",
   "mimetype": "text/x-python",
   "name": "python",
   "nbconvert_exporter": "python",
   "pygments_lexer": "ipython3",
   "version": "3.12.7"
  }
 },
 "nbformat": 4,
 "nbformat_minor": 4
}
