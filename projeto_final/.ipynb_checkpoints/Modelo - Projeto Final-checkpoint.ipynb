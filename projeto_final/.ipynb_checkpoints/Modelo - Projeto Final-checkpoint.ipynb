{
 "cells": [
  {
   "cell_type": "markdown",
   "id": "ae1c7e5f-abd8-4d7b-b0bd-0120a1de8fed",
   "metadata": {},
   "source": [
    "**Modelo de projeto final**\n",
    "\n",
    "Abaixo segue um modelo de projeto final. A ideia é ter uma seção inicial que explica o seu projeto e células de markdown, precedentes a cada célula, que explicam o código que se segue.\n",
    "\n",
    "Um usuário deve ser capaz de rodar todas as células (`Kernel > Restart Kernel and Run All Cells`) e obter uma saída no final (as células não devem ser executadas fora de ordem e não devem gerar erros)."
   ]
  },
  {
   "cell_type": "markdown",
   "id": "d4178072-1a0d-4a3c-86dc-b2bebef982ad",
   "metadata": {},
   "source": [
    "**Dicas**\n",
    "- Destrinche o seu projeto em partes menores: se você tem um relatório de 100 páginas, tente automatizar uma página de início.\n",
    "- Escolha suas batalhas: use a IA para obter respostas, mas escolha uma ou duas coisas as quais você vai se aprofundar e aprender mais.\n",
    "- Salve versões: antes de fazer uma grande alteração em algo que já está funcionando, faça uma cópia de segurança do seu notebook (projeto_v1.ipynb, projeto_v2.ipynb). Ter um \"ponto de restauração\" seguro te dará a confiança para experimentar e testar novas abordagens sem o medo de perder seu progresso."
   ]
  },
  {
   "cell_type": "markdown",
   "id": "61a2028c-2031-4f2c-8326-1e15d3f04b77",
   "metadata": {},
   "source": [
    "# Projeto Final: Geração Automatizada do Boletim de Câmbio\n",
    "\n",
    "## Objetivo do Projeto\n",
    "Este notebook é um projeto completo que demonstra um pipeline de automação de relatórios. Nosso objetivo é criar um boletim diário sobre a cotação do Dólar PTAX (venda) de forma 100% automatizada.\n",
    "\n",
    "O pipeline seguirá 4 etapas, integrando todo o conhecimento do curso:\n",
    "\n",
    "- Coleta (API): Conectar-nos à API de Séries Temporais do Banco Central (BCB) para buscar os dados de câmbio mais recentes.\n",
    "\n",
    "- Análise (Pandas): Carregar os dados em um DataFrame do Pandas para limpar, tratar e calcular indicadores-chave (máximo, mínimo, média, valor recente).\n",
    "\n",
    "- Visualização (Seaborn/IO): Gerar um gráfico da evolução da taxa de câmbio com o Seaborn e salvá-lo diretamente na memória (usando io.BytesIO), sem criar arquivos temporários.\n",
    "\n",
    "- Relatório (docxtpl): Carregar um template .docx e preenchê-lo dinamicamente com os indicadores, textos e o gráfico gerado, criando um relatório final pronto para distribuição."
   ]
  },
  {
   "cell_type": "markdown",
   "id": "da699f47-d5c1-48b4-b572-337f7c86a1c2",
   "metadata": {},
   "source": [
    "## Passo 0: Configuração do Ambiente"
   ]
  },
  {
   "cell_type": "code",
   "execution_count": 3,
   "id": "837ec3d4-ca63-4a74-803e-fb1e41f1d13d",
   "metadata": {},
   "outputs": [
    {
     "name": "stdout",
     "output_type": "stream",
     "text": [
      "Bibliotecas prontas.\n"
     ]
    }
   ],
   "source": [
    "# Célula para instalação de bibliotecas, se necessário\n",
    "!pip install docxtpl docx requests pandas seaborn matplotlib -q\n",
    "print(\"Bibliotecas prontas.\")"
   ]
  },
  {
   "cell_type": "code",
   "execution_count": 4,
   "id": "bc28347d-ca5a-45a6-8903-85053a454ee0",
   "metadata": {},
   "outputs": [
    {
     "name": "stdout",
     "output_type": "stream",
     "text": [
      "Todas as ferramentas foram importadas com sucesso.\n"
     ]
    }
   ],
   "source": [
    "# --- Importação das Bibliotecas ---\n",
    "\n",
    "# Para requisições de API\n",
    "import requests\n",
    "\n",
    "# Para manipulação e análise de dados\n",
    "import pandas as pd\n",
    "\n",
    "# Para visualização de dados\n",
    "import seaborn as sns\n",
    "import matplotlib.pyplot as plt\n",
    "\n",
    "# Para salvar imagens em memória\n",
    "import io \n",
    "\n",
    "# Para lidar com datas e períodos de tempo\n",
    "from datetime import datetime, timedelta\n",
    "\n",
    "# Para automação do Word (docxtpl)\n",
    "from docxtpl import DocxTemplate, InlineImage\n",
    "from docx.shared import Mm # Para definir o tamanho da imagem em milímetros\n",
    "\n",
    "print(\"Todas as ferramentas foram importadas com sucesso.\")"
   ]
  },
  {
   "cell_type": "markdown",
   "id": "657b4b9c-8b00-4e2b-9f8d-9dd017da375b",
   "metadata": {},
   "source": [
    "## Passo 1: Coleta de Dados (API do BCB)\n",
    "Nossa primeira tarefa é buscar os dados atualizados. Vamos definir um período (últimos 90 dias) e construir a URL correta para consultar a API de Séries Temporais do Banco Central.\n",
    "\n",
    "Usamos um bloco try...except para garantir que nosso script lide de forma robusta com possíveis falhas de conexão ou erros da API."
   ]
  },
  {
   "cell_type": "code",
   "execution_count": 6,
   "id": "b0336a06-6ed8-4d68-8e16-81ba7a5b893f",
   "metadata": {},
   "outputs": [
    {
     "name": "stdout",
     "output_type": "stream",
     "text": [
      "Iniciando pipeline...\n",
      "Buscando dados da API do Banco Central do Brasil...\n",
      "URL da API consultada: https://api.bcb.gov.br/dados/serie/bcdata.sgs.1/dados?formato=json&dataInicial=18/06/2025&dataFinal=16/09/2025\n",
      "Sucesso! 64 registros de câmbio recebidos.\n"
     ]
    }
   ],
   "source": [
    "# --- Parte I: Coleta e Tratamento de Dados (BCB API + Pandas) ---\n",
    "\n",
    "print(\"Iniciando pipeline...\")\n",
    "try:\n",
    "    # Passo 1.1: Definir o período e buscar os dados da API\n",
    "    print(\"Buscando dados da API do Banco Central do Brasil...\")\n",
    "    data_final_dt = datetime.now()\n",
    "    data_inicial_dt = data_final_dt - timedelta(days=90) # Analisaremos os últimos 90 dias\n",
    "\n",
    "    # Formatando as datas para o padrão que a API espera (MM-dd-yyyy ou dd/MM/yyyy)\n",
    "    # Vamos usar o formato dd/MM/YYYY, que é mais comum no BCB\n",
    "    data_inicial_str = data_inicial_dt.strftime('%d/%m/%Y')\n",
    "    data_final_str = data_final_dt.strftime('%d/%m/%Y')\n",
    "\n",
    "    # O código '1' corresponde à série \"Dólar americano (venda) - PTAX\"\n",
    "    codigo_serie_bcb = '1'\n",
    "    url = (\n",
    "        f'https://api.bcb.gov.br/dados/serie/bcdata.sgs.{codigo_serie_bcb}/dados?'\n",
    "        f'formato=json&dataInicial={data_inicial_str}&dataFinal={data_final_str}'\n",
    "    )\n",
    "    \n",
    "    print(f\"URL da API consultada: {url}\")\n",
    "    \n",
    "    response = requests.get(url)\n",
    "    response.raise_for_status()  # Gera um erro se a requisição falhar (ex: erro 404 ou 500)\n",
    "    \n",
    "    dados_api = response.json() # Convertemos a resposta JSON em uma lista de dicionários\n",
    "    \n",
    "    print(f\"Sucesso! {len(dados_api)} registros de câmbio recebidos.\")\n",
    "\n",
    "except requests.exceptions.RequestException as e:\n",
    "    print(f\"Erro Crítico: Falha ao acessar a API do BCB: {e}\")\n",
    "    # Em um projeto real, poderíamos parar o script aqui ou enviar um e-mail de alerta"
   ]
  },
  {
   "cell_type": "markdown",
   "id": "f1a07168-de01-448e-a991-345f312d9572",
   "metadata": {},
   "source": [
    "## Passo 2: Tratamento e Análise (Pandas)\n",
    "Os dados da API vêm como uma lista de dicionários (JSON). Usaremos o Pandas para converter essa lista em uma tabela (DataFrame), o que facilita enormemente a limpeza e a análise dos dados.\n",
    "\n",
    "Vamos converter as colunas para os tipos corretos (números e datas) e calcular nossos indicadores-chave."
   ]
  },
  {
   "cell_type": "code",
   "execution_count": 8,
   "id": "d1dfe83b-9602-45f0-9d02-c582f94dfcee",
   "metadata": {},
   "outputs": [
    {
     "name": "stdout",
     "output_type": "stream",
     "text": [
      "Iniciando tratamento dos dados com Pandas...\n",
      "Dados tratados e indicadores calculados:\n",
      "         data  taxa_ptax_venda\n",
      "59 2025-09-10           5.4123\n",
      "60 2025-09-11           5.3858\n",
      "61 2025-09-12           5.3677\n",
      "62 2025-09-15           5.3208\n",
      "63 2025-09-16           5.3096\n",
      "Máx: 5.6034 | Mín: 5.3096 | Recente: 5.3096\n"
     ]
    }
   ],
   "source": [
    "if dados_api: # Só continuamos se a API tiver retornado dados\n",
    "    print(\"Iniciando tratamento dos dados com Pandas...\")\n",
    "    \n",
    "    # Passo 2.1: Carregar dados no DataFrame\n",
    "    df = pd.DataFrame(dados_api)\n",
    "\n",
    "    # Passo 2.2: Limpeza e conversão de tipos\n",
    "    # Os valores da API vêm como string; convertemos para numérico (float)\n",
    "    df['valor'] = pd.to_numeric(df['valor'])\n",
    "    # As datas vêm como string dd/MM/yyyy; convertemos para o tipo datetime\n",
    "    df['data'] = pd.to_datetime(df['data'], format='%d/%m/%Y')\n",
    "    \n",
    "    # Renomeando colunas para clareza\n",
    "    df = df.rename(columns={'valor': 'taxa_ptax_venda'})\n",
    "\n",
    "    # Passo 2.3: Cálculos dos indicadores para o relatório\n",
    "    cotacao_maxima = df['taxa_ptax_venda'].max()\n",
    "    cotacao_minima = df['taxa_ptax_venda'].min()\n",
    "    cotacao_media = df['taxa_ptax_venda'].mean()\n",
    "    cotacao_recente = df['taxa_ptax_venda'].iloc[-1] # Pega o último valor da série\n",
    "\n",
    "    print(\"Dados tratados e indicadores calculados:\")\n",
    "    print(df.tail()) # Mostra os últimos 5 registros\n",
    "    print(f\"Máx: {cotacao_maxima} | Mín: {cotacao_minima} | Recente: {cotacao_recente}\")"
   ]
  },
  {
   "cell_type": "markdown",
   "id": "9e494139-33ed-41b7-ac40-7d2e63105ec0",
   "metadata": {},
   "source": [
    "## Passo 3: Geração de Conteúdo Dinâmico (Texto e Gráfico)\n",
    "Com nossos indicadores calculados, agora podemos gerar os \"ingredientes\" finais para o relatório: um parágrafo de resumo (usando f-string) e um gráfico (usando Seaborn).\n",
    "\n",
    "Para evitar salvar um arquivo .png temporário no disco, salvaremos o gráfico diretamente em um \"arquivo virtual\" na memória RAM usando a biblioteca io."
   ]
  },
  {
   "cell_type": "code",
   "execution_count": 10,
   "id": "8ba2c93c-e503-4054-81d7-fa338f0b57db",
   "metadata": {},
   "outputs": [
    {
     "name": "stdout",
     "output_type": "stream",
     "text": [
      "Gerando texto de resumo dinâmico...\n",
      "Nos últimos 90 dias (de 18/06/2025 a 16/09/2025), a cotação do Dólar (PTAX Venda) apresentou volatilidade. A taxa atingiu um valor máximo de R$ 5.6034 e um mínimo de R$ 5.3096. A média para o período foi de R$ 5.4749. A cotação mais recente registrada foi de R$ 5.3096.\n",
      "\n",
      "Gerando gráfico de linha com Seaborn...\n",
      "Gráfico gerado e armazenado com sucesso na memória.\n"
     ]
    }
   ],
   "source": [
    "if dados_api:\n",
    "    # Passo 3.1: Gerar o texto dinâmico para o resumo\n",
    "    print(\"Gerando texto de resumo dinâmico...\")\n",
    "    resumo_texto = (\n",
    "        f\"Nos últimos 90 dias (de {data_inicial_str} a {data_final_str}), a cotação do Dólar (PTAX Venda) apresentou volatilidade. \"\n",
    "        f\"A taxa atingiu um valor máximo de R$ {cotacao_maxima:.4f} e um mínimo de R$ {cotacao_minima:.4f}. \"\n",
    "        f\"A média para o período foi de R$ {cotacao_media:.4f}. \"\n",
    "        f\"A cotação mais recente registrada foi de R$ {cotacao_recente:.4f}.\"\n",
    "    )\n",
    "    print(resumo_texto)\n",
    "\n",
    "    # Passo 3.2: Gerar a imagem do gráfico com Seaborn (em memória)\n",
    "    print(\"\\nGerando gráfico de linha com Seaborn...\")\n",
    "    plt.figure(figsize=(10, 5)) # Define o tamanho da imagem\n",
    "    sns.lineplot(x='data', y='taxa_ptax_venda', data=df, marker='o', color='navy')\n",
    "    plt.title('Evolução da Cotação do Dólar (PTAX Venda) - Últimos 90 Dias')\n",
    "    plt.xlabel('Data')\n",
    "    plt.ylabel('Taxa de Câmbio (R$)')\n",
    "    plt.xticks(rotation=30) # Rotaciona as datas no eixo X\n",
    "    plt.grid(True, linestyle='--', alpha=0.6)\n",
    "    plt.tight_layout() # Ajusta o gráfico para caber na figura\n",
    "    \n",
    "    # --- Mágica do IO ---\n",
    "    # 1. Criamos um \"arquivo virtual\" na memória RAM\n",
    "    image_stream = io.BytesIO()\n",
    "    \n",
    "    # 2. Pedimos ao matplotlib para salvar o gráfico nesse arquivo, no formato PNG\n",
    "    plt.savefig(image_stream, format='png', dpi=150)\n",
    "    plt.close() # Fechamos a figura para liberar memória\n",
    "    \n",
    "    # 3. Rebobinamos o \"cursor\" do arquivo virtual para o início (para que o docxtpl possa lê-lo)\n",
    "    image_stream.seek(0)\n",
    "    print(\"Gráfico gerado e armazenado com sucesso na memória.\")"
   ]
  },
  {
   "cell_type": "markdown",
   "id": "a1ddc352-aac0-46ac-a81a-b9cccd73f6c5",
   "metadata": {},
   "source": [
    "## Passo 4: Montagem e Renderização do Relatório (docxtpl)\n",
    "Esta é a etapa final. Carregamos nosso template (ex: template_api.docx) e criamos o dicionário de contexto. Este dicionário é o \"de-para\" que diz ao docxtpl qual variável do Python corresponde a qual marcador {{ chave }} no Word.\n",
    "\n",
    "Também preparamos o gráfico em memória para ser inserido usando a função InlineImage."
   ]
  },
  {
   "cell_type": "code",
   "execution_count": 24,
   "id": "78af13fd-9422-43c7-942f-fd546bc4eb1c",
   "metadata": {},
   "outputs": [
    {
     "name": "stdout",
     "output_type": "stream",
     "text": [
      "Montando o relatório final no Word...\n",
      "--------------------------------------------------\n",
      "Sucesso! Pipeline concluído.\n",
      "Boletim salvo como 'relatorio_dolar_ptax.docx'.\n",
      "--------------------------------------------------\n"
     ]
    }
   ],
   "source": [
    "if dados_api:\n",
    "    try:\n",
    "        print(\"Montando o relatório final no Word...\")\n",
    "        doc = DocxTemplate(\"template_projeto_final.docx\")\n",
    "        \n",
    "        # O contexto usa as chaves exatas que estão no template\n",
    "        context = {\n",
    "            'data_inicial': data_inicial_str,\n",
    "            'data_final': data_final_str,\n",
    "            'resumo_dolar': resumo_texto,\n",
    "            'grafico_dolar': InlineImage(doc, image_stream, width=Mm(150)),\n",
    "            'data_emissao': datetime.now().strftime('%d/%m/%Y %H:%M:%S')\n",
    "        }\n",
    "        \n",
    "        # Renderiza e salva o arquivo final\n",
    "        doc.render(context)\n",
    "        nome_arquivo_final = 'relatorio_dolar_ptax.docx'\n",
    "        doc.save(nome_arquivo_final)\n",
    "\n",
    "        print(\"-\" * 50)\n",
    "        print(f\"Sucesso! Pipeline concluído.\")\n",
    "        print(f\"Boletim salvo como '{nome_arquivo_final}'.\")\n",
    "        print(\"-\" * 50)\n",
    "        \n",
    "    except Exception as e:\n",
    "        print(f\"ERRO AO GERAR O WORD: {e}\")\n",
    "        print(\"Verifique se o nome do template ('template_api.docx') está correto e se o arquivo não está aberto.\")"
   ]
  }
 ],
 "metadata": {
  "kernelspec": {
   "display_name": "Python 3 (ipykernel)",
   "language": "python",
   "name": "python3"
  },
  "language_info": {
   "codemirror_mode": {
    "name": "ipython",
    "version": 3
   },
   "file_extension": ".py",
   "mimetype": "text/x-python",
   "name": "python",
   "nbconvert_exporter": "python",
   "pygments_lexer": "ipython3",
   "version": "3.12.7"
  }
 },
 "nbformat": 4,
 "nbformat_minor": 5
}
