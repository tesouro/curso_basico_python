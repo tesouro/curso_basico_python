{
 "cells": [
  {
   "cell_type": "markdown",
   "metadata": {},
   "source": [
    "[![Open In Colab](https://colab.research.google.com/assets/colab-badge.svg)](https://colab.research.google.com/github/tesouro/curso_basico_python/blob/main/Aula%203%20-%20Estruturas%20de%20dados.ipynb)"
   ]
  },
  {
   "cell_type": "markdown",
   "metadata": {},
   "source": [
    "# Aula 3 - Estruturas de dados\n",
    "<div class=\"alert alert-block alert-info\" style=\"border-left: 5px solid #0056b3;\">\n",
    "    <h4>🎯 Objetivos de Aprendizagem da Aula</h4>\n",
    "    <ul style=\"margin-left: 20px;\">\n",
    "    <li><b>Listas (list): Coleções ordenadas de itens.</li>\n",
    "    <li><b>Dicionários (dict): Coleções de pares \"chave-valor\".</li>\n",
    "    <li><b>Métodos de manipulação de listas e dicionários.</li>\n",
    "    </ul>\n",
    "</div>"
   ]
  },
  {
   "cell_type": "markdown",
   "metadata": {},
   "source": [
    "## 1. Uma breve contextualização sobre estruturas de dados\n",
    "Nas primeiras aulas, nós vimos como nós podemos colocar um valor dentro de uma variável:"
   ]
  },
  {
   "cell_type": "code",
   "execution_count": null,
   "metadata": {},
   "outputs": [],
   "source": [
    "vencimento_titulo = \"2029-03-01\"\n",
    "print(vencimento_titulo)"
   ]
  },
  {
   "cell_type": "markdown",
   "metadata": {},
   "source": [
    "Isso funciona como uma gaveta única. Mas e se precisarmos guardar um conjunto de dados? Por exemplo, a cotação da taxa Selic para cada um dos últimos 6 meses? Ou as várias características de um único título público? É inviável criar uma variável para cada valor único.\n",
    "\n",
    "Para isso, usamos estruturas de dados. As duas mais importantes são as Listas e os Dicionários."
   ]
  },
  {
   "cell_type": "markdown",
   "metadata": {},
   "source": [
    "<div style=\"display: flex; justify-content: space-around; align-items: flex-start;\">\n",
    "  <div style=\"flex: 1; margin: 0 10px; text-align: center;\">\n",
    "    <h3>📋 Listas: Coleções Ordenadas</h3>\n",
    "    <p>Pense em uma coluna de planilha ou uma série temporal. A ordem é crucial e o acesso é feito por <strong>posição numérica (índice)</strong>.</p>\n",
    "  </div>\n",
    "  <div style=\"flex: 1; margin: 0 10px; text-align: center; border-left: 2px solid #f0f0f0; padding-left: 20px;\">\n",
    "    <h3>📚 Dicionários: Fichas Cadastrais</h3>\n",
    "    <p>Pense em uma agenda de contatos. Não há \"ordem\", e o acesso é feito por um <strong>rótulo único (chave)</strong> para encontrar um valor.</p>\n",
    "  </div>\n",
    "</div>"
   ]
  },
  {
   "cell_type": "markdown",
   "metadata": {},
   "source": [
    "<hr style=\"height:3px; border-width:0; color:gray; background-color:gray\">"
   ]
  },
  {
   "cell_type": "markdown",
   "metadata": {},
   "source": [
    "### 1.1. Listas (list)\n",
    "\n",
    "No Python, listas são feitas usando colchetes e cada valor é separado por meio de uma vírgula.\n",
    "É interessante mencionar que, por convenção, listas são normalmente nomeadas no plural (`elementos`, `numeros`, etc.)"
   ]
  },
  {
   "cell_type": "code",
   "execution_count": null,
   "metadata": {},
   "outputs": [],
   "source": [
    "numeros = [1,2,3,4]"
   ]
  },
  {
   "cell_type": "markdown",
   "metadata": {},
   "source": [
    "Mas qual seria a utilidade prática de uma lista? \n",
    "\n",
    "Vamos supor que um aluno deseja fazer uma média de suas notas bimestrais, que foram 9.1, 8.5, 9.5, 7.6.\n",
    "\n",
    "Você pode fazer o cálculo manualmente:"
   ]
  },
  {
   "cell_type": "code",
   "execution_count": null,
   "metadata": {},
   "outputs": [],
   "source": [
    "(9.1 + 8.5 + 9.5 + 7.6)/4"
   ]
  },
  {
   "cell_type": "markdown",
   "metadata": {},
   "source": [
    "Porém, esse código precisa ser mudado toda vez que o aluno receber uma nova nota. Para fazer um código mais permamente (soft-coding), nós podemos colocar as notas dentro de uma lista e usar funções em cima dessa lista."
   ]
  },
  {
   "cell_type": "code",
   "execution_count": null,
   "metadata": {},
   "outputs": [],
   "source": [
    "notas = [9.1, 8.5, 9.5, 7.6] \n",
    " \n",
    "media = sum(notas)/len(notas) # soma dos elementos dividido pelo número de elementos\n",
    "\n",
    "print(media)"
   ]
  },
  {
   "cell_type": "markdown",
   "metadata": {},
   "source": [
    "Agora, com esse código mais robusto, nós não precisamos mudar nada quando o aluno receber mais notas."
   ]
  },
  {
   "cell_type": "code",
   "execution_count": null,
   "metadata": {},
   "outputs": [],
   "source": [
    "notas = [9.1, 8.5, 9.5, 7.6, 6.9, 10.0, 6.2, 9.9] # experimente adicionar mais elementos \n",
    " \n",
    "media = sum(notas)/len(notas) # soma dos elementos dividido pelo número de elementos\n",
    "\n",
    "print(media)"
   ]
  },
  {
   "cell_type": "markdown",
   "metadata": {},
   "source": [
    "#### 1.1.1 Plotar gráficos\n",
    "Com as notas organizadas dentro de uma lista, nós também podemos fazer gráficos facilmente."
   ]
  },
  {
   "cell_type": "code",
   "execution_count": null,
   "metadata": {},
   "outputs": [],
   "source": [
    "import matplotlib.pyplot as plt\n",
    "plt.plot(notas)"
   ]
  },
  {
   "cell_type": "markdown",
   "metadata": {},
   "source": [
    "#### 1.1.2. Acessar elementos da lista\n",
    "Outra vantagem importante de listas é que seus elementos são indexáveis, usando a mesma lógica que nós aprendemos com strings."
   ]
  },
  {
   "cell_type": "code",
   "execution_count": null,
   "metadata": {},
   "outputs": [],
   "source": [
    "nomes = [\"joão\", \"maria\", \"fernanda\", \"paulo\"]"
   ]
  },
  {
   "cell_type": "code",
   "execution_count": null,
   "metadata": {},
   "outputs": [],
   "source": [
    "nomes[0] # pega o primeiro elemento da lista"
   ]
  },
  {
   "cell_type": "code",
   "execution_count": null,
   "metadata": {},
   "outputs": [],
   "source": [
    "nomes[1] # pega o segundo elemento da lista"
   ]
  },
  {
   "cell_type": "code",
   "execution_count": null,
   "metadata": {},
   "outputs": [],
   "source": [
    "nomes[-1] # pega o último elemento da lista"
   ]
  },
  {
   "cell_type": "code",
   "execution_count": null,
   "metadata": {},
   "outputs": [],
   "source": [
    "for nome in nomes: # vamos ver mais sobre loops na próxima aula\n",
    "  print(nome)"
   ]
  },
  {
   "cell_type": "markdown",
   "metadata": {},
   "source": [
    "#### 1.1.3. Método .append()\n",
    "\n",
    "Usado para adicionar elementos no final de uma lista."
   ]
  },
  {
   "cell_type": "code",
   "execution_count": null,
   "metadata": {},
   "outputs": [],
   "source": [
    "fibonacci = [1,1]\n",
    "\n",
    "fibonacci.append(2)\n",
    "\n",
    "print(fibonacci)"
   ]
  },
  {
   "cell_type": "markdown",
   "metadata": {},
   "source": [
    "#### 1.1.4. Adicionar elementos em um loop\n",
    "Algo muito comum no Python é nós iniciarmos uma lista vazia, calcularmos algo dentro de um loop e colocar cada valor na lista via .append()"
   ]
  },
  {
   "cell_type": "code",
   "execution_count": null,
   "metadata": {},
   "outputs": [],
   "source": [
    "# suponhamos que eu queira visualizar todos os valores de todos os anos\n",
    "import matplotlib.pyplot as plt\n",
    "\n",
    "investimentoInicial = 10000\n",
    "juros = 0.08\n",
    "tempo = 30\n",
    "\n",
    "dados = [] # minha lista de dados começa vazia\n",
    "\n",
    "for anosPassados in range(1, tempo+1):\n",
    "    valorTotal = investimentoInicial * (1+juros)**anosPassados\n",
    "    dados.append(valorTotal) # após cada iteração do loop, eu coloco o valor após x anos na minha lista de dados\n",
    "    print(f\"Após {anosPassados} anos, você terá {round(valorTotal, 2)} reais.\")\n",
    "\n",
    "plt.plot(dados) # plotagem do gráfico"
   ]
  },
  {
   "cell_type": "markdown",
   "metadata": {},
   "source": [
    "#### 1.1.5. Método .remove()\n",
    "Usado para remover a primeira ocorrência de um elemento em uma lista."
   ]
  },
  {
   "cell_type": "code",
   "execution_count": null,
   "metadata": {},
   "outputs": [],
   "source": [
    "impar = [1,3,5,7,9,11,13]\n",
    "\n",
    "impar.remove(11)\n",
    "\n",
    "print(impar)"
   ]
  },
  {
   "cell_type": "markdown",
   "metadata": {},
   "source": [
    "#### 1.1.6. Exercícios de fixação\n",
    "Para os exercícios abaixo, tente antecipar qual será o resultado antes de rodar a célula. "
   ]
  },
  {
   "cell_type": "code",
   "execution_count": null,
   "metadata": {},
   "outputs": [],
   "source": [
    "fib = [1, 1, 2, 3]\n",
    "fib.append(fib[-1] + fib[-2])\n",
    "print(fib)"
   ]
  },
  {
   "cell_type": "code",
   "execution_count": null,
   "metadata": {},
   "outputs": [],
   "source": [
    "carteira_de_ativos = ['Tesouro Selic', 'Tesouro IPCA+', 'Tesouro Prefixado']\n",
    "\n",
    "for ativo in carteira_de_ativos:\n",
    "    print(ativo)\n",
    "    print(ativo[0])"
   ]
  },
  {
   "cell_type": "code",
   "execution_count": null,
   "metadata": {},
   "outputs": [],
   "source": [
    "for x in \"STN\":\n",
    "    print(x)"
   ]
  },
  {
   "cell_type": "code",
   "execution_count": null,
   "metadata": {},
   "outputs": [],
   "source": [
    "lista1 = [1,2,3]\n",
    "lista2 = [4,5,6]\n",
    "\n",
    "lista1.append(lista2)\n",
    "print(lista1)"
   ]
  },
  {
   "cell_type": "code",
   "execution_count": null,
   "metadata": {},
   "outputs": [],
   "source": [
    "lista1 = [1,2,3]\n",
    "lista2 = [4,5,6]\n",
    "\n",
    "lista1.extend(lista2) # descreva a diferença de comportamento entre append e extend\n",
    "print(lista1)"
   ]
  },
  {
   "cell_type": "markdown",
   "metadata": {},
   "source": [
    "## 1.2. Dicionários\n",
    "\n",
    "Um dicionário é uma coleção de pares chave-valor. Pense nele como uma ficha cadastral, onde cada informação tem um \"rótulo\" (a chave). Usamos chaves {} para criar dicionários.\n",
    "\n",
    "Eu gosto de pensar no dicionário como se fossem listas em que eu posso escolher como indexar um elemento. Em vez de usar a posição (0, 1, -1...), eu posso dar um nome significativo para o índice."
   ]
  },
  {
   "cell_type": "code",
   "execution_count": null,
   "metadata": {},
   "outputs": [],
   "source": [
    "# Dicionário com as características de um título do Tesouro\n",
    "dados_titulo_ntnb = {\n",
    "    'nome': 'Tesouro IPCA+ 2045',\n",
    "    'codigo': 'NTN-B 150845',\n",
    "    'taxa_compra': 6.25,\n",
    "    'investimento_minimo': 31.50\n",
    "}\n",
    "\n",
    "# Acessando um valor pela sua chave\n",
    "# nome_do_dicionario['chave'] -> note o uso de colchetes\n",
    "nome_do_titulo = dados_titulo_ntnb['nome']\n",
    "print(f\"Nome do Título: {nome_do_titulo}\")\n",
    "\n",
    "# Adicionando um novo par chave-valor\n",
    "dados_titulo_ntnb['vencimento'] = '2045-05-15'\n",
    "print(f\"Dados atualizados do título: {dados_titulo_ntnb}\")\n",
    "\n",
    "# Substituindo um valor existente\n",
    "dados_titulo_ntnb['codigo'] = 'NTN-B 150842'\n",
    "print(f\"Dados atualizados do título: {dados_titulo_ntnb}\")"
   ]
  },
  {
   "cell_type": "markdown",
   "metadata": {},
   "source": [
    "#### 1.2.1 .keys()\n",
    "\n",
    "Retorna as chaves presentes no dicionario"
   ]
  },
  {
   "cell_type": "code",
   "execution_count": null,
   "metadata": {},
   "outputs": [],
   "source": [
    "dados_titulo_ntnb.keys()"
   ]
  },
  {
   "cell_type": "markdown",
   "metadata": {},
   "source": [
    "#### 1.2.2 .values()\n",
    "Retorna os valores presentes no dicionário"
   ]
  },
  {
   "cell_type": "code",
   "execution_count": null,
   "metadata": {},
   "outputs": [],
   "source": [
    "dados_titulo_ntnb.values()"
   ]
  },
  {
   "cell_type": "markdown",
   "metadata": {},
   "source": [
    "#### 1.2.3 .items()\n",
    "\n",
    "Retorna os pares de valores-chaves presentes no dicionário."
   ]
  },
  {
   "cell_type": "code",
   "execution_count": null,
   "metadata": {},
   "outputs": [],
   "source": [
    "dados_titulo_ntnb.items()"
   ]
  },
  {
   "cell_type": "markdown",
   "metadata": {},
   "source": [
    "O método .items() é frequentemente usado em for-loops para nós pegarmos informações do dicionário."
   ]
  },
  {
   "cell_type": "code",
   "execution_count": null,
   "metadata": {},
   "outputs": [],
   "source": [
    "for chave, valor in dados_titulo_ntnb.items():\n",
    "  print(f\"A chave {chave} possui o valor {valor}.\")"
   ]
  },
  {
   "cell_type": "markdown",
   "metadata": {},
   "source": [
    "#### 1.2.4. Misturando dicionários e listas\n",
    "Perceba que é possível colocar listas dentro de dicionários, de modo a dar um nome significativo para uma série de dados."
   ]
  },
  {
   "cell_type": "code",
   "execution_count": null,
   "metadata": {},
   "outputs": [],
   "source": [
    "divida_estado = {\n",
    "    \"alfa\":[3.34,4.21,3.91],\n",
    "    \"beta\":[2.43,1.92,1.85],\n",
    "    \"gama\":[4.31,4.02,3.83]\n",
    "}\n",
    "\n",
    "print(\"A médida da dívida do estado alfa foi\", sum(divida_estado[\"alfa\"])/len(divida_estado[\"alfa\"]))"
   ]
  },
  {
   "cell_type": "markdown",
   "metadata": {},
   "source": [
    "Segue um exemplo de gráfico que pode ser gerado a partir dessa estrutura de dados (listas dentro de dicionários)"
   ]
  },
  {
   "cell_type": "code",
   "execution_count": null,
   "metadata": {},
   "outputs": [],
   "source": [
    "# Define o tamanho da figura para melhor visualização\n",
    "plt.figure(figsize=(10, 6))\n",
    "\n",
    "# Percorre cada 'estado' (chave) e seus 'valores' (lista) no dicionário\n",
    "for estado, valores in divida_estado.items():\n",
    "    # Plota os valores no eixo Y. O matplotlib usa os índices (0, 1, 2) para o eixo X\n",
    "    # O 'label' é usado para identificar cada linha na legenda\n",
    "    plt.plot(valores, marker='o', linestyle='-', label=estado)\n",
    "\n",
    "# Adiciona títulos e rótulos para deixar o gráfico mais claro\n",
    "plt.title(\"Evolução da Dívida por Estado\")\n",
    "plt.xlabel(\"Período de Tempo (Ano)\")\n",
    "plt.ylabel(\"Valor da Dívida (em unidade monetária)\")\n",
    "\n",
    "# Melhora o eixo X para ser mais descritivo\n",
    "plt.xticks([0, 1, 2], ['Ano 1', 'Ano 2', 'Ano 3'])\n",
    "\n",
    "# Ativa a legenda para identificar as linhas\n",
    "plt.legend()\n",
    "\n",
    "# Exibe o gráfico final\n",
    "plt.show()"
   ]
  },
  {
   "cell_type": "markdown",
   "metadata": {},
   "source": [
    "#### 1.2.5. Exercícios de fixação\n",
    "Para os exercícios abaixo, tente antecipar qual será o resultado antes de rodar a célula. "
   ]
  },
  {
   "cell_type": "code",
   "execution_count": null,
   "metadata": {},
   "outputs": [],
   "source": [
    "inventario = {\"maçã\":10, \"banana\":20, \"pera\": 15}\n",
    "inventario[\"maçã\"]"
   ]
  },
  {
   "cell_type": "code",
   "execution_count": null,
   "metadata": {},
   "outputs": [],
   "source": [
    "inventario[\"maçã\"] + inventario[\"banana\"]"
   ]
  },
  {
   "cell_type": "code",
   "execution_count": null,
   "metadata": {},
   "outputs": [],
   "source": [
    "for fruta, quantidade in inventario.items():\n",
    "    print(fruta, quantidade)"
   ]
  },
  {
   "cell_type": "markdown",
   "metadata": {},
   "source": [
    "<hr style=\"height:3px; border-width:0; color:gray; background-color:gray\">"
   ]
  },
  {
   "cell_type": "markdown",
   "metadata": {},
   "source": [
    "## 2. Exercícios"
   ]
  },
  {
   "cell_type": "markdown",
   "metadata": {
    "id": "BD_dn-asjMIb"
   },
   "source": [
    "1) Usando soft-coding (ou seja, sem usar o número 5 diretamente nos cálculos, mas sim o tamanho da lista), calcule a média deste ativo."
   ]
  },
  {
   "cell_type": "code",
   "execution_count": null,
   "metadata": {
    "id": "MT7hzU4SlP0J"
   },
   "outputs": [],
   "source": [
    "# Lista com os preços de fechamento de VALE3 em uma semana hipotética\n",
    "precos_fechamento_vale3 = [61.50, 62.10, 61.90, 62.80, 62.50]"
   ]
  },
  {
   "cell_type": "markdown",
   "metadata": {
    "id": "mGb0qZJIjMK8"
   },
   "source": [
    "2) Usando a lista precos_fechamento_vale3 do exercício anterior e a biblioteca matplotlib, crie um gráfico de linha simples que mostre a evolução do preço do ativo ao longo dos 5 dias."
   ]
  },
  {
   "cell_type": "code",
   "execution_count": null,
   "metadata": {
    "id": "dSKm-tDhlQIQ"
   },
   "outputs": [],
   "source": []
  },
  {
   "cell_type": "markdown",
   "metadata": {
    "id": "ZKI5CfdQjMNY"
   },
   "source": [
    "3. Adicione 10 números aleatórios entre 1 e 10 no final dessa lista:\n",
    "\n",
    "```python\n",
    "lista = [4,2,5,1,2]\n",
    "```"
   ]
  },
  {
   "cell_type": "code",
   "execution_count": null,
   "metadata": {
    "id": "hMSNpvwGlQi0"
   },
   "outputs": [],
   "source": []
  },
  {
   "cell_type": "markdown",
   "metadata": {
    "id": "CbKxZb9VjMUP"
   },
   "source": [
    "4. A sequência de Fibonacci inicia-se com os números 1,1 – os próximos elementos são a soma dos dois elementos anteriores. Por exemplo, o terceiro elemento é 1+1=2 e o quarto elemento é 2+1 = 3. Calcule os 3 próximos números da sequência de Fibonacci usando a lista iniciada abaixo:\n",
    "```python\n",
    "fib = [1,1,2,3]\n",
    "```"
   ]
  },
  {
   "cell_type": "code",
   "execution_count": null,
   "metadata": {
    "id": "sYMHTbjxlSTV"
   },
   "outputs": [],
   "source": []
  },
  {
   "cell_type": "markdown",
   "metadata": {},
   "source": [
    "5) Crie um dicionário chamado titulo_lft para armazenar as seguintes informações sobre um título do Tesouro Selic: nome (Tesouro Selic 2027), rentabilidade (Selic + 0.17%) e liquidez (Diária).\n",
    "\n",
    "Peça ao usuário para digitar qual informação ele deseja consultar (nome, rentabilidade ou liquidez).\n",
    "\n",
    "Imprima a informação correspondente que está no dicionário"
   ]
  },
  {
   "cell_type": "code",
   "execution_count": null,
   "metadata": {},
   "outputs": [],
   "source": []
  },
  {
   "cell_type": "markdown",
   "metadata": {},
   "source": [
    "<hr style=\"height:3px; border-width:0; color:gray; background-color:gray\">"
   ]
  },
  {
   "cell_type": "markdown",
   "metadata": {},
   "source": [
    "## 3. Bug Hunt\n",
    "Os códigos abaixo possuem algum tipo de problema. Leia o código e a mensagem de erro atentamente e tente solucionar o bug!\n",
    "Descreva o erro e a solução com suas próprias palavras."
   ]
  },
  {
   "cell_type": "code",
   "execution_count": null,
   "metadata": {},
   "outputs": [],
   "source": [
    "#3.1\n",
    "inventario = {\"maçã\":10, \"banana\":20, \"pera\": 15}\n",
    "inventario[\"maça\"]"
   ]
  },
  {
   "cell_type": "code",
   "execution_count": null,
   "metadata": {},
   "outputs": [],
   "source": [
    "#3.2\n",
    "meses = ['JAN', 'FEV', 'MAR', 'ABR']\n",
    "\n",
    "ultimo_mes = meses[4]\n",
    "print(ultimo_mes)"
   ]
  },
  {
   "cell_type": "code",
   "execution_count": null,
   "metadata": {},
   "outputs": [],
   "source": [
    "#3.3\n",
    "dados_ativo = {'nome': 'CDB Banco X', 'vencimento': 2028}\n",
    "print(dados_ativo['taxa'])"
   ]
  },
  {
   "cell_type": "markdown",
   "metadata": {},
   "source": [
    "<hr style=\"height:3px; border-width:0; color:gray; background-color:gray\">"
   ]
  },
  {
   "cell_type": "markdown",
   "metadata": {
    "id": "GrWctCkCjMWe"
   },
   "source": [
    "## 4. Projetos para você fazer!\n",
    "\n",
    "1) Faça um programa no qual o usuário digita uma palavra e o programa devolve o código morse equivalente a cada letra da palavra escolhida.\n",
    "\n",
    "Use o dicionário abaixo:\n",
    "\n",
    "\n",
    "``` python\n",
    "morse_dict =        { 'A':'.-', 'B':'-...',\n",
    "                    'C':'-.-.', 'D':'-..', 'E':'.',\n",
    "                    'F':'..-.', 'G':'--.', 'H':'....',\n",
    "                    'I':'..', 'J':'.---', 'K':'-.-',\n",
    "                    'L':'.-..', 'M':'--', 'N':'-.',\n",
    "                    'O':'---', 'P':'.--.', 'Q':'--.-',\n",
    "                    'R':'.-.', 'S':'...', 'T':'-',\n",
    "                    'U':'..-', 'V':'...-', 'W':'.--',\n",
    "                    'X':'-..-', 'Y':'-.--', 'Z':'--..'}\n",
    "```\n",
    "\n",
    "\n",
    "Bônus: demonstração de como seria o resultado caso você programasse uma lâmpada para dizer a palavra *SOS* – um código muito utilizado no contexto de resgastes e salvamentos."
   ]
  },
  {
   "cell_type": "code",
   "execution_count": null,
   "metadata": {
    "id": "rhJayw11lS-P"
   },
   "outputs": [],
   "source": []
  },
  {
   "cell_type": "markdown",
   "metadata": {},
   "source": [
    "2. Faça um programa que jogue pedra-papel-tesoura com o usuário.\n",
    "- O usuário escolhe pedra, papel ou tesoura\n",
    "- O computador aleatoriamente escolhe pedra, papel ou tesoura (dica: pesquise sobre `random.choice`)\n",
    "- Retorne a mensagem se o usuário ganhou, perdeu ou se deu empate.\n",
    "\n",
    "Use dicionários em vez de blocos if-elif-else aninhados para deixar seu código mais conciso."
   ]
  },
  {
   "cell_type": "code",
   "execution_count": null,
   "metadata": {},
   "outputs": [],
   "source": []
  },
  {
   "cell_type": "markdown",
   "metadata": {},
   "source": [
    "<hr style=\"height:3px; border-width:0; color:gray; background-color:gray\">"
   ]
  },
  {
   "cell_type": "markdown",
   "metadata": {},
   "source": [
    "## 5. Perguntas para Discussão em Grupo"
   ]
  },
  {
   "cell_type": "markdown",
   "metadata": {},
   "source": [
    "1) Qual a principal diferença entre uma lista e um dicionário? "
   ]
  },
  {
   "cell_type": "markdown",
   "metadata": {},
   "source": [
    "2) Imaginem que vocês recebem um arquivo com os dados de um leilão de títulos. A primeira linha é o cabeçalho (['Código do Título', 'Quantidade Ofertada', 'Quantidade Vendida', 'Taxa Máxima Aceita']) e as linhas seguintes contêm os dados de cada título leiloado. Se vocês fossem processar esse arquivo, que estrutura de dados usariam para armazenar apenas a lista de códigos dos títulos? E se quisessem armazenar todas as informações de um único título de forma organizada?"
   ]
  },
  {
   "cell_type": "code",
   "execution_count": null,
   "metadata": {},
   "outputs": [],
   "source": []
  },
  {
   "cell_type": "markdown",
   "metadata": {},
   "source": [
    "<hr style=\"height:3px; border-width:0; color:gray; background-color:gray\">"
   ]
  },
  {
   "cell_type": "markdown",
   "metadata": {},
   "source": [
    "## 6. Sugestões de pesquisa\n",
    "Se você terminou os exercícios e deseja se aprofundar em alguns detalhes da linguagem, deixo algumas sugestões de pesquisa a serem realizadas:"
   ]
  },
  {
   "cell_type": "markdown",
   "metadata": {},
   "source": [
    "1) Além de `list` e `dict`, quais são as outras estruturas de dados importantes do Python, como `tuple` e `set`? Quais são as características e utilidades de cada uma?"
   ]
  },
  {
   "cell_type": "markdown",
   "metadata": {},
   "source": [
    "2) Pesquise qual é a solução mais computacionalmente eficiente: o jogo de pedra-papel-tesoura que usa ifs ou dicionários (e por quê)."
   ]
  },
  {
   "cell_type": "markdown",
   "metadata": {},
   "source": [
    "3) O que acontece se você tenta acessar uma chave que não existe em um dicionário, causando um KeyError? Pesquise sobre o método .get() e como ele pode ser usado para evitar esse erro, fornecendo um valor padrão."
   ]
  },
  {
   "cell_type": "markdown",
   "metadata": {},
   "source": [
    "4. Quais são 5 métodos de listas que podem ser úteis para você?\n",
    "\n",
    "https://www.w3schools.com/python/python_lists_methods.asp"
   ]
  },
  {
   "cell_type": "markdown",
   "metadata": {},
   "source": [
    "5. Quais são 5 métodos de dicionários que podem ser úteis para você?\n",
    "\n",
    "https://www.w3schools.com/python/python_ref_dictionary.asp"
   ]
  }
 ],
 "metadata": {
  "colab": {
   "provenance": []
  },
  "kernelspec": {
   "display_name": "Python 3 (ipykernel)",
   "language": "python",
   "name": "python3"
  },
  "language_info": {
   "codemirror_mode": {
    "name": "ipython",
    "version": 3
   },
   "file_extension": ".py",
   "mimetype": "text/x-python",
   "name": "python",
   "nbconvert_exporter": "python",
   "pygments_lexer": "ipython3",
   "version": "3.12.7"
  }
 },
 "nbformat": 4,
 "nbformat_minor": 4
}
