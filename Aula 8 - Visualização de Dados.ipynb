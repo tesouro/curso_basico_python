{
 "cells": [
  {
   "cell_type": "markdown",
   "id": "555426f9-79f6-4aa9-968b-9a25311996a5",
   "metadata": {},
   "source": [
    "# Aula 8 - Visualização de Dados\n",
    "\n",
    "<div class=\"alert alert-block alert-info\" style=\"border-left: 5px solid #0056b3;\">\n",
    "    <h4>🎯 Objetivos de Aprendizagem da Aula</h4>\n",
    "    <ul style=\"margin-left: 20px;\">\n",
    "    <li>Entender a relação e o papel de matplotlib, pandas e seaborn no fluxo de trabalho de visualização de dados em Python.</li>\n",
    "    <li>Compreender a sintaxe básica do Seaborn e como ele se integra de forma intuitiva com DataFrames do Pandas.</li>    \n",
    "    <li>Criar gráficos comuns, como gráficos de linhas, barras, dispersão e histogramas.</li>\n",
    "    <li>Customizar seus gráficos com títulos, rótulos de eixos e o uso inteligente do parâmetro hue para adicionar mais dimensões à sua visualização.</li>\n",
    "    </ul>\n",
    "</div>"
   ]
  },
  {
   "cell_type": "markdown",
   "id": "01219110-b73f-4586-ac82-10e237653d6a",
   "metadata": {},
   "source": [
    "## 1.1. Uma breve introdução sobre visualização\n",
    "\n",
    "Antes de mergulharmos no Seaborn, é importante entender como ele se encaixa no ecossistema de visualização de dados em Python. Pense nessas três bibliotecas como membros de uma orquestra, cada um com seu papel, mas trabalhando em harmonia.\n",
    "\n",
    "#### Pandas\n",
    "\n",
    "- Papel: O Pandas é o seu \"maestro\" que organiza e estrutura os dados. Lembra dos DataFrames que aprendemos? Eles são a forma como o Pandas lida com tabelas de dados. Antes de visualizar, você precisa ter seus dados limpos e bem organizados.\n",
    "\n",
    "- O Seaborn foi projetado para trabalhar perfeitamente com DataFrames do Pandas. Ele entende a estrutura de colunas e linhas, facilitando muito a criação de gráficos.\n",
    "\n",
    "#### Matplotlib\n",
    "\n",
    "- Papel: O Matplotlib é o \"artista\" principal, a base de tudo. É a biblioteca mais antiga e fundamental para criar qualquer tipo de gráfico em Python. Ele oferece um controle incrivelmente granular sobre cada pixel do seu gráfico.\n",
    "\n",
    "- O Seaborn é construído EM CIMA do Matplotlib. Ele usa o Matplotlib para desenhar, mas adiciona uma camada de abstração e conveniência. Pense no Matplotlib como o \"motor\" e o Seaborn como a \"carroceria bonita e com direção assistida\". Você ainda pode usar comandos do Matplotlib para refinar gráficos criados com Seaborn!\n",
    "\n",
    "#### Seaborn\n",
    "\n",
    "- Papel: O Seaborn é o \"estilista\" da orquestra. Ele se especializa em criar gráficos estatísticos informativos e visualmente atraentes com pouco código. Ele automatiza muitas das tarefas de formatação e visualização que seriam manuais no Matplotlib.\n",
    "\n",
    "Em resumo: Você usa Pandas para preparar seus dados, Seaborn para criar a maioria dos seus gráficos de forma elegante e rápida, e Matplotlib para ajustes finos e personalizações mais detalhadas quando necessário."
   ]
  },
  {
   "cell_type": "code",
   "execution_count": null,
   "id": "106c4f11-be76-4fc6-91b6-5c6dcbe5cf6d",
   "metadata": {},
   "outputs": [],
   "source": [
    "# Instalando as bibliotecas\n",
    "!pip install pandas seaborn matplotlib -q"
   ]
  },
  {
   "cell_type": "markdown",
   "id": "568ca1fd-3ad8-4dd5-bbc5-1c2a4854db3d",
   "metadata": {},
   "source": [
    "## 1.2. Sintaxe Básica do Seaborn e a Magia com DataFrames\n",
    "\n",
    "A sintaxe do Seaborn é bastante intuitiva porque ela \"fala a língua\" do Pandas. Em vez de passar listas de dados para os eixos X e Y, você simplesmente diz ao Seaborn qual DataFrame usar e quais colunas mapear para os eixos.\n",
    "\n",
    "Primeiro, vamos carregar um conjunto de dados de exemplo para trabalhar. Usaremos um dataset fictício de \"dados econômicos\" que simula informações do Tesouro."
   ]
  },
  {
   "cell_type": "code",
   "execution_count": null,
   "id": "4d988576-d44f-4f84-a210-a195b0518515",
   "metadata": {},
   "outputs": [],
   "source": [
    "# Importando as bibliotecas essenciais\n",
    "import pandas as pd\n",
    "import seaborn as sns\n",
    "import matplotlib.pyplot as plt # Matplotlib ainda é útil para plt.show(), plt.figure(), etc.\n",
    "\n",
    "# Criando um DataFrame fictício para nossos exemplos\n",
    "# Em um cenário real, você carregaria seu dados_economicos.csv aqui\n",
    "# Ex: df_economicos = pd.read_csv('dados_economicos.csv')\n",
    "\n",
    "data = {\n",
    "    'Ano': range(2010, 2025),\n",
    "    'PIB_Crescimento_Percent': [2.5, 4.0, 1.5, 0.8, 0.1, -3.5, 1.3, 2.0, 1.1, 0.5, -4.1, 4.6, 2.9, 3.0, 2.7],\n",
    "    'Arrecadacao_Federal_Bi': [1000, 1100, 1050, 1150, 1200, 1080, 1180, 1250, 1300, 1350, 1280, 1400, 1480, 1550, 1600],\n",
    "    'Populacao_Milhoes': [200, 202, 204, 205, 206, 207, 208, 209, 210, 211, 212, 213, 214, 215, 216],\n",
    "    'Nivel_Confianca': ['Baixo', 'Medio', 'Alto', 'Medio', 'Baixo', 'Baixo', 'Medio', 'Alto', 'Alto', 'Medio', 'Baixo', 'Alto', 'Alto', 'Alto', 'Medio'],\n",
    "    'Taxa_Juros': [10.5, 11.0, 9.5, 8.0, 7.0, 12.0, 13.0, 10.0, 9.0, 8.5, 14.0, 13.5, 12.5, 11.5, 10.0]\n",
    "}\n",
    "df_economicos = pd.DataFrame(data)\n",
    "\n",
    "print(\"DataFrame de Dados Econômicos (primeiras 5 linhas):\")\n",
    "display(df_economicos.head())\n",
    "print(\"\\nInformações do DataFrame:\")\n",
    "df_economicos.info()"
   ]
  },
  {
   "cell_type": "markdown",
   "id": "fcaffc39-cb15-4d55-b5e5-8f69288f7f70",
   "metadata": {},
   "source": [
    "Com esses dados organizados, vamos ver como criar alguns dos gráficos mais utilizados para análise de dados."
   ]
  },
  {
   "cell_type": "markdown",
   "id": "822bb25e-8d15-4abc-b7e4-07f69ebdd539",
   "metadata": {},
   "source": [
    "## 1.3. Histograma: Visualizando Distribuições\n",
    "\n",
    "Um histograma é excelente para entender a distribuição de uma única variável numérica. Ele mostra como os valores dessa variável se agrupam ou se espalham."
   ]
  },
  {
   "cell_type": "code",
   "execution_count": null,
   "id": "31af37c3-4603-41fa-bf54-3a88b5082a79",
   "metadata": {},
   "outputs": [],
   "source": [
    "# Crie um histograma para visualizar a distribuição da coluna PIB_Crescimento_Percent.\n",
    "# Adicione um título e rótulos adequados aos eixos.\n",
    "\n",
    "plt.figure(figsize=(10, 6)) # Define o tamanho da figura do Matplotlib\n",
    "sns.histplot(data=df_economicos, x='PIB_Crescimento_Percent', kde=True, bins=7)\n",
    "# 'data' especifica o DataFrame\n",
    "# 'x' especifica a coluna numérica para o histograma\n",
    "# 'kde=True' adiciona uma linha de estimativa de densidade do kernel (suaviza a distribuição)\n",
    "# 'bins' controla o número de \"barras\" no histograma\n",
    "\n",
    "plt.title('Distribuição do Crescimento Percentual do PIB (2010-2024)', fontsize=16)\n",
    "plt.xlabel('Crescimento do PIB (%)', fontsize=12)\n",
    "plt.ylabel('Frequência', fontsize=12)\n",
    "plt.grid(axis='y', linestyle='--', alpha=0.7) # Adiciona um grid suave\n",
    "plt.show()"
   ]
  },
  {
   "cell_type": "markdown",
   "id": "f09eaf5b-e374-4e2a-ad2c-0551d109001d",
   "metadata": {},
   "source": [
    "## 1.4. Boxplot: Comparando Distribuições entre Grupos\n",
    "\n",
    "Um Boxplot (ou \"diagrama de caixa\") é ótimo para comparar a distribuição de uma variável numérica entre diferentes categorias. Ele mostra a mediana, quartis e outliers de cada grupo."
   ]
  },
  {
   "cell_type": "code",
   "execution_count": null,
   "id": "f900c230-a754-4a93-91f8-67913699379b",
   "metadata": {},
   "outputs": [],
   "source": [
    "# Crie um boxplot que compare as distribuições da Arrecadacao_Federal_Bi\n",
    "# para cada categoria da coluna Nivel_Confianca.\n",
    "\n",
    "plt.figure(figsize=(10, 6))\n",
    "sns.boxplot(data=df_economicos, x='Nivel_Confianca', y='Arrecadacao_Federal_Bi', palette='viridis')\n",
    "# 'data' especifica o DataFrame\n",
    "# 'x' especifica a coluna categórica (as caixas serão criadas para cada categoria)\n",
    "# 'y' especifica a coluna numérica (os valores dentro de cada caixa)\n",
    "# 'palette' define um esquema de cores\n",
    "\n",
    "plt.title('Arrecadação Federal por Nível de Confiança', fontsize=16)\n",
    "plt.xlabel('Nível de Confiança', fontsize=12)\n",
    "plt.ylabel('Arrecadação Federal (Bilhões)', fontsize=12)\n",
    "plt.grid(axis='y', linestyle='--', alpha=0.7)\n",
    "plt.show()"
   ]
  },
  {
   "cell_type": "markdown",
   "id": "21b920f4-10be-4a71-b2ca-19baa4849969",
   "metadata": {},
   "source": [
    "## 1.5. Gráfico de Linhas: Evolução ao Longo do Tempo\n",
    "\n",
    "Gráficos de linhas são ideais para visualizar a evolução de uma ou mais variáveis numéricas ao longo do tempo."
   ]
  },
  {
   "cell_type": "code",
   "execution_count": null,
   "id": "cd32c04f-7f07-4a76-b554-c76c33237906",
   "metadata": {},
   "outputs": [],
   "source": [
    "# Crie um gráfico de linhas para a evolução da Taxa_Juros ao longo do Ano.\n",
    "\n",
    "plt.figure(figsize=(12, 6))\n",
    "sns.lineplot(data=df_economicos, x='Ano', y='Taxa_Juros', marker='o') # 'marker' adiciona pontos nos dados\n",
    "# 'x' é a variável de tempo\n",
    "# 'y' é a variável que você quer ver a evolução\n",
    "\n",
    "plt.title('Evolução da Taxa de Juros ao Longo dos Anos', fontsize=16)\n",
    "plt.xlabel('Ano', fontsize=12)\n",
    "plt.ylabel('Taxa de Juros (%)', fontsize=12)\n",
    "plt.grid(True, linestyle='--', alpha=0.7) # Grid completo\n",
    "plt.xticks(df_economicos['Ano']) # Garante que todos os anos sejam mostrados no eixo X\n",
    "plt.show()"
   ]
  },
  {
   "cell_type": "markdown",
   "id": "a76efc37-ce0b-47f0-a622-8427a033f3d0",
   "metadata": {},
   "source": [
    "## 1.6. Gráfico de Dispersão (Scatter Plot): Relação entre Duas Variáveis\n",
    "\n",
    "Um gráfico de dispersão é usado para visualizar a relação entre duas variáveis numéricas. Ele pode revelar padrões, correlações ou a ausência delas."
   ]
  },
  {
   "cell_type": "code",
   "execution_count": null,
   "id": "c4cda572-06e4-474a-a668-421912dbf6b8",
   "metadata": {},
   "outputs": [],
   "source": [
    "# Crie um gráfico de dispersão para ver a relação entre PIB_Crescimento_Percent e Arrecadacao_Federal_Bi.\n",
    "\n",
    "plt.figure(figsize=(10, 6))\n",
    "sns.scatterplot(data=df_economicos, x='PIB_Crescimento_Percent', y='Arrecadacao_Federal_Bi', hue='Nivel_Confianca', size='Populacao_Milhoes', sizes=(50, 400), alpha=0.7)\n",
    "# 'x' e 'y' são as duas variáveis numéricas\n",
    "# 'hue' adiciona uma terceira dimensão colorindo os pontos por categoria (Nivel_Confianca)\n",
    "# 'size' adiciona uma quarta dimensão variando o tamanho dos pontos pela Populacao_Milhoes\n",
    "# 'sizes' define o intervalo de tamanho dos pontos\n",
    "# 'alpha' controla a transparência dos pontos\n",
    "\n",
    "plt.title('Crescimento do PIB vs. Arrecadação Federal por Nível de Confiança', fontsize=16)\n",
    "plt.xlabel('Crescimento do PIB (%)', fontsize=12)\n",
    "plt.ylabel('Arrecadação Federal (Bilhões)', fontsize=12)\n",
    "plt.legend(title='Nível de Confiança', bbox_to_anchor=(1.05, 1), loc='upper left') # Coloca a legenda fora do gráfico\n",
    "plt.grid(True, linestyle='--', alpha=0.7)\n",
    "plt.tight_layout() # Ajusta para evitar que a legenda se sobreponha\n",
    "plt.show()"
   ]
  },
  {
   "cell_type": "markdown",
   "id": "24c8904b-3a7c-4aa4-b99c-3d4f4e04244c",
   "metadata": {},
   "source": [
    "## 1.7. Customização de Gráficos: Títulos, Rótulos e o Parâmetro hue\n",
    "\n",
    "Você já viu alguns exemplos de customização, mas vamos reforçar a importância deles e explorar mais o hue.\n",
    "\n",
    "Títulos e Rótulos (plt.title(), plt.xlabel(), plt.ylabel()): Essenciais para que seu gráfico seja autoexplicativo. Lembre-se, um gráfico sem rótulos é um mistério, não uma informação!\n",
    "\n",
    "Parâmetro hue: Uma funcionalidade poderosa do Seaborn que permite adicionar uma terceira dimensão categórica ao seu gráfico, colorindo os pontos ou barras de acordo com os valores de uma coluna. Isso é fantástico para comparar grupos.\n",
    "\n",
    "Outras customizações:\n",
    "\n",
    "- plt.figure(figsize=(width, height)): Define o tamanho do gráfico.\n",
    "\n",
    "- plt.xticks(rotation=angle): Rotação dos rótulos do eixo X (útil para nomes longos).\n",
    "\n",
    "- plt.grid(True): Adiciona um grid ao gráfico.\n",
    "\n",
    "- plt.legend(): Controla a exibição e posição da legenda."
   ]
  },
  {
   "cell_type": "markdown",
   "id": "9942921a-1c37-467e-8930-6b82562c5787",
   "metadata": {},
   "source": [
    "## Exercícios"
   ]
  },
  {
   "cell_type": "markdown",
   "id": "35c2d634-a4c3-4682-9ec1-fdc155a7a372",
   "metadata": {},
   "source": [
    "Vamos puxar dados metereológicos de Brasília via uma API e vamos colocá-los em uma variável chamada df_clima:"
   ]
  },
  {
   "cell_type": "code",
   "execution_count": null,
   "id": "fa329275-55d6-4d81-a225-a34a3cbaa94a",
   "metadata": {},
   "outputs": [],
   "source": [
    "import requests\n",
    "import pandas as pd\n",
    "import seaborn as sns\n",
    "import matplotlib.pyplot as plt\n",
    "from datetime import datetime, timedelta\n",
    "\n",
    "# --- 1. Definir Localização, Período e Variáveis ---\n",
    "# Coordenadas aproximadas para Brasília, DF\n",
    "latitude = -15.78\n",
    "longitude = -47.93\n",
    "\n",
    "# Vamos pegar os dados do último mês (aproximadamente 30 dias)\n",
    "data_final = datetime.now() # Data de hoje\n",
    "data_inicial = data_final - timedelta(days=30) # 30 dias atrás\n",
    "\n",
    "# Formatar as datas para o formato YYYY-MM-DD que a API espera\n",
    "str_data_inicial = data_inicial.strftime('%Y-%m-%d')\n",
    "str_data_final = data_final.strftime('%Y-%m-%d')\n",
    "\n",
    "# Variáveis meteorológicas que queremos (temperatura a 2m, precipitação)\n",
    "variaveis = \"temperature_2m,precipitation\"\n",
    "\n",
    "# --- 2. Construir a URL da API Open-Meteo (Histórico) ---\n",
    "# Usamos a API de arquivo para dados históricos\n",
    "url_open_meteo = (\n",
    "    f\"https://archive-api.open-meteo.com/v1/archive?\"\n",
    "    f\"latitude={latitude}&longitude={longitude}&\"\n",
    "    f\"start_date={str_data_inicial}&end_date={str_data_final}&\"\n",
    "    f\"hourly={variaveis}&\"\n",
    "    f\"timezone=America%2FSao_Paulo\" # Fuso horário de Brasília\n",
    ")\n",
    "\n",
    "print(f\"Buscando dados meteorológicos históricos para Brasília em: {url_open_meteo}\")\n",
    "\n",
    "# --- 3. Fazer a Requisição ---\n",
    "try:\n",
    "    response = requests.get(url_open_meteo)\n",
    "    response.raise_for_status() # Lança um erro para status de resposta ruins (4xx ou 5xx)\n",
    "    dados_climaticos = response.json()\n",
    "    print(\"Dados meteorológicos recebidos com sucesso!\")\n",
    "\n",
    "    # Inspecionar a estrutura dos dados retornados:\n",
    "    # A API Open-Meteo aninha os dados dentro de uma chave 'hourly'\n",
    "    # print(f\"\\nEstrutura dos dados (primeiras chaves): {dados_climaticos.keys()}\")\n",
    "    # if 'hourly' in dados_climaticos:\n",
    "    #    print(f\"\\nChaves dentro de 'hourly': {dados_climaticos['hourly'].keys()}\")\n",
    "\n",
    "    # --- 4. Processar os Dados e Transformar em DataFrame ---\n",
    "    # Os dados horários estão dentro do dicionário 'hourly'\n",
    "    if 'hourly' in dados_climaticos:\n",
    "        hourly_data = dados_climaticos['hourly']\n",
    "        df_clima = pd.DataFrame(hourly_data)\n",
    "\n",
    "        print(\"\\n--- Primeiras linhas do DataFrame de Dados Climáticos ---\")\n",
    "        display(df_clima.head())\n",
    "        print(\"\\n--- Informações do DataFrame de Dados Climáticos ---\")\n",
    "        df_clima.info()\n",
    "\n",
    "        # Limpeza e conversão de tipos\n",
    "        df_clima['time'] = pd.to_datetime(df_clima['time'])\n",
    "        # Renomear colunas para algo mais amigável, se desejar\n",
    "        df_clima = df_clima.rename(columns={\n",
    "            'time': 'DataHora',\n",
    "            'temperature_2m': 'Temperatura_C',\n",
    "            'precipitation': 'Precipitacao_mm'\n",
    "        })\n",
    "    else:\n",
    "        print(\"A chave 'hourly' não foi encontrada nos dados da API. Verifique a estrutura da resposta.\")\n",
    "\n",
    "except requests.exceptions.RequestException as e:\n",
    "    print(f\"Erro ao buscar dados da Open-Meteo: {e}. Verifique sua conexão ou a URL da API.\")\n",
    "except Exception as e:\n",
    "    print(f\"Ocorreu um erro inesperado ao processar os dados: {e}\")"
   ]
  },
  {
   "cell_type": "markdown",
   "id": "636b14b7-6120-42bd-848b-990b9e7ebb06",
   "metadata": {},
   "source": [
    "1) Faça um gráfico de linhas com a coluna de temperatura"
   ]
  },
  {
   "cell_type": "code",
   "execution_count": null,
   "id": "e3e5ce95-dd53-4d3d-bf8f-b5b1241fe0bf",
   "metadata": {},
   "outputs": [],
   "source": []
  },
  {
   "cell_type": "markdown",
   "id": "5f341f8f-9657-4c37-b69f-0e7d9c39c753",
   "metadata": {},
   "source": [
    "2) Faça um histograma com os dados de umidade relativa"
   ]
  },
  {
   "cell_type": "code",
   "execution_count": null,
   "id": "fe62f0fa-cf9f-4e4c-9435-c055fc8a77d2",
   "metadata": {},
   "outputs": [],
   "source": []
  },
  {
   "cell_type": "markdown",
   "id": "a0210831-fe4e-4adb-a750-2c44ad895783",
   "metadata": {},
   "source": [
    "3. Investigue, visualmente, se existe alguma relação entre a temperatura e a umidade relativa."
   ]
  },
  {
   "cell_type": "code",
   "execution_count": null,
   "id": "e0a18bd3-6791-4ce9-8b2a-eedd74dc521d",
   "metadata": {},
   "outputs": [],
   "source": []
  },
  {
   "cell_type": "markdown",
   "id": "c0aef691-c59f-469d-9b4b-a01e7ac75b77",
   "metadata": {},
   "source": [
    "4. Compare a distribuição da temperatura em diferentes períodos do dia (manhã, tarde, noite, madrugada)."
   ]
  },
  {
   "cell_type": "code",
   "execution_count": null,
   "id": "90af043b-f130-4396-9d15-f8574d8795eb",
   "metadata": {},
   "outputs": [],
   "source": []
  },
  {
   "cell_type": "markdown",
   "id": "55ee5923-88bc-41ea-9441-e4a3b7403400",
   "metadata": {},
   "source": [
    "5) Calcular e visualizar a precipitação total acumulada por dia."
   ]
  },
  {
   "cell_type": "code",
   "execution_count": null,
   "id": "437eddb6-5ab7-476f-b5c3-885a72d95101",
   "metadata": {},
   "outputs": [],
   "source": []
  },
  {
   "cell_type": "markdown",
   "id": "25fdd658-a0a4-4cf2-b54f-610ecb56c358",
   "metadata": {},
   "source": [
    "## 3. Bug Hunt\n",
    "Os códigos abaixo possuem algum tipo de problema. Leia o código e a mensagem de erro atentamente e tente solucionar o bug!\n",
    "Descreva o erro e a solução com suas próprias palavras."
   ]
  },
  {
   "cell_type": "code",
   "execution_count": null,
   "id": "911fe01f-8af1-4294-beb8-fb4e29f8d8d1",
   "metadata": {},
   "outputs": [],
   "source": [
    "df_exemplo = pd.DataFrame({'ValorA': [1, 2, 3], 'ValorB': [4, 5, 6]})\n",
    "sns.scatterplot(data=df_exemplo, x='Valor_A', y='ValorB') \n",
    "plt.show()"
   ]
  },
  {
   "cell_type": "code",
   "execution_count": null,
   "id": "002cf8fd-5b86-404d-a947-9ebf5ea81b49",
   "metadata": {},
   "outputs": [],
   "source": [
    "df_series = pd.DataFrame({\n",
    "    'DataStr': ['2023-01-01', '2023-01-03', '2023-01-07'],\n",
    "    'Valor': [10, 12, 11]\n",
    "})\n",
    "sns.lineplot(data=df_series, x='DataStr', y='Valor')\n",
    "plt.show()"
   ]
  },
  {
   "cell_type": "code",
   "execution_count": null,
   "id": "d59fdc75-0d46-42cd-b027-283d8d3eace0",
   "metadata": {},
   "outputs": [],
   "source": [
    "fig, ax = plt.subplots(figsize=(6,4))\n",
    "sns.histplot(data=df_exemplo, x='ValorA', ax=ax)\n",
    "ax.xlabel('Meu Eixo X') # Deve ser ax.set_xlabel()\n",
    "plt.show()"
   ]
  },
  {
   "cell_type": "markdown",
   "id": "2e2c822b-86c2-439b-8be1-4f3bca94905a",
   "metadata": {},
   "source": [
    "## 4. Projetos para você fazer"
   ]
  },
  {
   "cell_type": "markdown",
   "id": "ffd61ad3-5d7e-4648-b99e-b26ad04f032e",
   "metadata": {},
   "source": [
    "Escolha uma fonte de dados que seja útil ao seu trabalho e tente fazer uma visualização que seja útil para você usando o Seaborn."
   ]
  },
  {
   "cell_type": "code",
   "execution_count": null,
   "id": "79ed2d75-767c-4bd0-9c52-e715fd04906f",
   "metadata": {},
   "outputs": [],
   "source": []
  },
  {
   "cell_type": "markdown",
   "id": "21b7c0f4-9f0c-4935-b736-89e2c08cfdc6",
   "metadata": {},
   "source": [
    "## 5. Perguntas para discussão em grupo"
   ]
  },
  {
   "cell_type": "markdown",
   "id": "c9b58e8d-6efa-49e7-b2c1-4a91849eb68b",
   "metadata": {},
   "source": [
    "1) Qual a principal vantagem de usar seaborn (ex: sns.barplot(data=df, x='Regiao', y='Arrecadacao')) em vez de usar matplotlib diretamente (ex: plt.bar(lista_regioes, lista_arrecadacao))?"
   ]
  },
  {
   "cell_type": "markdown",
   "id": "833a9bdd-ea95-4069-9297-ec08fba295ad",
   "metadata": {},
   "source": [
    "2) Quando seria mais apropriado usar um histograma versus um boxplot para visualizar a distribuição de uma variável numérica? Quais insights diferentes cada um pode oferecer?"
   ]
  },
  {
   "cell_type": "markdown",
   "id": "dce52852-89ea-4de6-a13e-b193fac003ca",
   "metadata": {},
   "source": [
    "## 6. Sugestões de pesquisa"
   ]
  },
  {
   "cell_type": "markdown",
   "id": "4d2331cd-d7e5-4079-96b5-25ce80cdf536",
   "metadata": {},
   "source": [
    "1) Explore as diversas paletas de cores disponíveis no Seaborn (ex: 'viridis', 'plasma', 'Set2', 'RdBu'). Pesquise sobre paletas sequenciais, divergentes e qualitativas. Quando cada tipo seria mais apropriado?"
   ]
  },
  {
   "cell_type": "markdown",
   "id": "bf70a5ec-33f8-4078-81d6-f630570858b7",
   "metadata": {},
   "source": [
    "2) Pesquise os diferentes formatos de arquivo para exportar gráficos (.png, .jpg, .svg, .pdf). Quais são as vantagens e desvantagens de cada um para diferentes usos (apresentações, relatórios impressos, web)?"
   ]
  }
 ],
 "metadata": {
  "kernelspec": {
   "display_name": "Python 3 (ipykernel)",
   "language": "python",
   "name": "python3"
  },
  "language_info": {
   "codemirror_mode": {
    "name": "ipython",
    "version": 3
   },
   "file_extension": ".py",
   "mimetype": "text/x-python",
   "name": "python",
   "nbconvert_exporter": "python",
   "pygments_lexer": "ipython3",
   "version": "3.12.7"
  }
 },
 "nbformat": 4,
 "nbformat_minor": 5
}
