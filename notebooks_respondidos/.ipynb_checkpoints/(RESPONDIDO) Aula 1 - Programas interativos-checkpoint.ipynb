{
 "cells": [
  {
   "cell_type": "markdown",
   "metadata": {},
   "source": [
    "[![Open In Colab](https://colab.research.google.com/assets/colab-badge.svg)](https://colab.research.google.com/github/tesouro/curso_basico_python/blob/main/Aula%201%20-%20Programas%20interativos.ipynb)"
   ]
  },
  {
   "cell_type": "markdown",
   "metadata": {},
   "source": [
    "# Aula 1: Programas interativos\n",
    "\n",
    "<div class=\"alert alert-block alert-info\" style=\"border-left: 5px solid #0056b3;\">\n",
    "    <h4>🎯 Objetivos de Aprendizagem da Aula</h4>\n",
    "    <ul style=\"margin-left: 20px;\">\n",
    "        <li>A função input() para capturar dados do usuário.</li>\n",
    "        <li>Conversão de Tipos (Type Casting): int(), float().</li>\n",
    "        <li>Manipulação de strings</li>\n",
    "    </ul>\n",
    "</div>"
   ]
  },
  {
   "cell_type": "markdown",
   "metadata": {},
   "source": [
    "<hr style=\"height:3px; border-width:0; color:gray; background-color:gray\">"
   ]
  },
  {
   "cell_type": "code",
   "execution_count": null,
   "metadata": {},
   "outputs": [],
   "source": [
    "nome = input(\"Qual é o seu nome? \")\n",
    "print(nome)"
   ]
  },
  {
   "cell_type": "markdown",
   "metadata": {},
   "source": [
    "### 1.1. input()\n",
    "Até agora, nossos programas executaram do início ao fim sem interrupções. Mas e se precisarmos de uma informação que só o usuário pode fornecer, como uma taxa de juros para uma simulação ou um valor de aporte?\n",
    "\n",
    "Para isso, usamos a função input(). Ela mostra uma mensagem para o usuário e \"pausa\" o programa, esperando que ele digite algo e pressione Enter. \n",
    "\n",
    "Importante: A função input() sempre retorna a informação como um string (texto), mesmo que o usuário digite números."
   ]
  },
  {
   "cell_type": "code",
   "execution_count": null,
   "metadata": {},
   "outputs": [],
   "source": [
    "print = 3\n",
    "print(\"texto\")"
   ]
  },
  {
   "cell_type": "code",
   "execution_count": null,
   "metadata": {},
   "outputs": [],
   "source": [
    "nome = input(\"Por favor, digite seu nome: \")\n",
    "\n",
    "print(\"Olá, \" + nome + \"!\")\n",
    "print(\"O tipo de dado da variável 'nome' é: \" + str(type(nome)))"
   ]
  },
  {
   "cell_type": "code",
   "execution_count": null,
   "metadata": {},
   "outputs": [],
   "source": [
    "numero = input(\"Por favor, digite um número: \")\n",
    "\n",
    "print(numero)\n",
    "print(\"O tipo de dado da variável é: \" + str(type(numero)))"
   ]
  },
  {
   "cell_type": "markdown",
   "metadata": {},
   "source": [
    "#### 1.1.1. input() sempre retorna um texto!\n",
    "\n",
    "A função `input` sempre retorna uma string. Veja por quê isso pode ser um problema.\n",
    "\n",
    "- A função a seguir pede dois números (num1, num2) e imprime a soma dos números. Veja o que acontece:"
   ]
  },
  {
   "cell_type": "code",
   "execution_count": null,
   "metadata": {},
   "outputs": [],
   "source": [
    "num1 = input(\"Digite um número: \")\n",
    "num2 = input(\"Digite outro número: \")\n",
    "\n",
    "soma = num1 + num2\n",
    "\n",
    "print(\"A soma dos números é \" + soma)"
   ]
  },
  {
   "cell_type": "markdown",
   "metadata": {},
   "source": [
    "Por que isso acontece?\n",
    "\n",
    "- Quando estavamos lidando com números, o símbolo de + indica a operação de adição"
   ]
  },
  {
   "cell_type": "code",
   "execution_count": null,
   "metadata": {},
   "outputs": [],
   "source": [
    "print(3 + 6) # isso é adição"
   ]
  },
  {
   "cell_type": "markdown",
   "metadata": {},
   "source": [
    "- Porém, quando estamos lidando com strings, o símbolo de + indica concatenação — você simplesmente coloca os símbolos um após o outro."
   ]
  },
  {
   "cell_type": "code",
   "execution_count": null,
   "metadata": {},
   "outputs": [],
   "source": [
    "print(\"3\" + \"6\") # issó é concatenação"
   ]
  },
  {
   "cell_type": "markdown",
   "metadata": {},
   "source": [
    "Então como fazemos para adicionar números que o usuário fornece? Precisamos converter o input para número (ou `int` ou `float`)\n",
    "\n"
   ]
  },
  {
   "cell_type": "code",
   "execution_count": null,
   "metadata": {},
   "outputs": [],
   "source": [
    "num1 = int(input(\"Digite um número: \")) # converti para número inteiro\n",
    "num2 = int(input(\"Digite outro número: \")) # converti para número inteiro\n",
    "\n",
    "soma = num1 + num2 # agora a operação é de adição"
   ]
  },
  {
   "cell_type": "markdown",
   "metadata": {},
   "source": [
    "Agora temos uma variável que contém a soma realizada corretamente. Entretanto, temos outro problema na hora de imprimir o resultado:\n",
    "\n",
    "⚠ A CÉLULA ABAIXO VAI GERAR UM ERRO ⚠"
   ]
  },
  {
   "cell_type": "code",
   "execution_count": null,
   "metadata": {},
   "outputs": [],
   "source": [
    "print(\"A soma dos números é \" + soma)"
   ]
  },
  {
   "cell_type": "markdown",
   "metadata": {},
   "source": [
    "Como o erro acima indica, não é possível misturar textos com números. Uma das opções para resolver esse problema é converter o resultado para string antes de realizar a concatenação."
   ]
  },
  {
   "cell_type": "code",
   "execution_count": null,
   "metadata": {},
   "outputs": [],
   "source": [
    "num1 = int(input(\"Digite um número: \")) # converti para número inteiro\n",
    "num2 = int(input(\"Digite outro número: \")) # converti para número inteiro\n",
    "\n",
    "soma = num1 + num2 # agora a operação é de adição\n",
    "\n",
    "print(\"A soma dos números é \" + str(soma)) # converti o valor da soma de volta para string"
   ]
  },
  {
   "cell_type": "markdown",
   "metadata": {},
   "source": [
    "Existem muitas outras soluções para este problema (associados à própria função print, f-strings, format, etc.). Iremos ver algumas mais a diante."
   ]
  },
  {
   "cell_type": "markdown",
   "metadata": {},
   "source": [
    "### 1.2. Manipulação de strings\n",
    "\n",
    "Às vezes, nós precisamos limpar o texto de coisas que nós não precisamos.\n",
    "Por isso é importante saber que strings podem ser acessadas usando um índice que indica sua posição.\n",
    "\n",
    "![image.png](attachment:image.png)"
   ]
  },
  {
   "cell_type": "code",
   "execution_count": null,
   "metadata": {},
   "outputs": [],
   "source": [
    "nome = \"Maria Júlia\""
   ]
  },
  {
   "cell_type": "code",
   "execution_count": null,
   "metadata": {},
   "outputs": [],
   "source": [
    "print(nome[0]) # retorna o primeiro elemento"
   ]
  },
  {
   "cell_type": "code",
   "execution_count": null,
   "metadata": {},
   "outputs": [],
   "source": [
    "print(nome[1]) # retorna o segundo elemento"
   ]
  },
  {
   "cell_type": "code",
   "execution_count": null,
   "metadata": {},
   "outputs": [],
   "source": [
    "print(nome[2]) # retorna o terceiro elemento"
   ]
  },
  {
   "attachments": {
    "image.png": {
     "image/png": "[encoded data removed]"
    }
   },
   "cell_type": "markdown",
   "metadata": {},
   "source": [
    "O Python, diferentemente da maioria das linguagens de programação, também permite que elementos da string sejam acessado por valores negativos:\n",
    "- -1 para o último elemento\n",
    "- -2 para o penúltimo\n",
    "\n",
    "E assim por diante.\n",
    "\n",
    "![image.png](attachment:image.png)"
   ]
  },
  {
   "cell_type": "code",
   "execution_count": null,
   "metadata": {},
   "outputs": [],
   "source": [
    "print(nome[-1]) # retorna o último elemento"
   ]
  },
  {
   "cell_type": "code",
   "execution_count": null,
   "metadata": {},
   "outputs": [],
   "source": [
    "print(nome[-2]) # retorna o penúltimo elemento"
   ]
  },
  {
   "cell_type": "code",
   "execution_count": null,
   "metadata": {},
   "outputs": [],
   "source": [
    "print(nome[::-1]) # inverte todas as letras do nome"
   ]
  },
  {
   "cell_type": "code",
   "execution_count": null,
   "metadata": {},
   "outputs": [],
   "source": [
    "print(nome[3:7]) # retorna desde o quarto elemento até o sexto"
   ]
  },
  {
   "cell_type": "markdown",
   "metadata": {},
   "source": [
    "Esse último código é um pouco confuso, mas no python, nós não vamos até o último elemento quando fazemos algo como `3:7`. O jeito de falar isso é \"desde o elemento 3, até o elemento 7 não-incluso\". \n",
    "\n",
    "Não-incluso significa que nós não vamos até o elemento 7."
   ]
  },
  {
   "cell_type": "code",
   "execution_count": null,
   "metadata": {},
   "outputs": [],
   "source": [
    "exemplo = \"0123456789\"\n",
    "\n",
    "print(exemplo[3:7])"
   ]
  },
  {
   "cell_type": "code",
   "execution_count": null,
   "metadata": {},
   "outputs": [],
   "source": [
    "nome = \"Maria Julia Soares Oliveira\"\n",
    "\n",
    "nome_separado = nome.split(\" \") # separe a string pelo espaço \" \"\n",
    "print(nome_separado)"
   ]
  },
  {
   "cell_type": "markdown",
   "metadata": {},
   "source": [
    "Perceba que agora eu tenho uma lista com os nomes separados pelo espaço.\n",
    "Se eu quiser imprimir o primeiro e último nome, eu posso usar a mesma lógica apresentada acima.\n"
   ]
  },
  {
   "cell_type": "code",
   "execution_count": null,
   "metadata": {},
   "outputs": [],
   "source": [
    "print(nome_separado[0])\n",
    "print(nome_separado[-1])"
   ]
  },
  {
   "cell_type": "markdown",
   "metadata": {},
   "source": [
    "Além disso, nós podemos substituir qualquer palavra por qualquer palavra usando a função replace.\n"
   ]
  },
  {
   "cell_type": "code",
   "execution_count": null,
   "metadata": {},
   "outputs": [],
   "source": [
    "apresentacao = \"Meu nome é João\"\n",
    "\n",
    "nova_apresentacao = apresentacao.replace(\"João\", \"Marcelo\")\n",
    "print(nova_apresentacao)"
   ]
  },
  {
   "cell_type": "markdown",
   "metadata": {},
   "source": [
    "<hr style=\"height:3px; border-width:0; color:gray; background-color:gray\">"
   ]
  },
  {
   "cell_type": "markdown",
   "metadata": {
    "id": "8dVSzGE6hkZx"
   },
   "source": [
    "## 2. Exercícios"
   ]
  },
  {
   "cell_type": "markdown",
   "metadata": {
    "id": "QR-9RgmshmNN"
   },
   "source": [
    "1) Peça ao usuário o seu nome e imprima uma mensagem de boas-vindas."
   ]
  },
  {
   "cell_type": "code",
   "execution_count": 9,
   "metadata": {
    "id": "Nl9eNWMGhvFy"
   },
   "outputs": [
    {
     "name": "stdin",
     "output_type": "stream",
     "text": [
      "Qual é o seu nome?  vinicius\n"
     ]
    },
    {
     "name": "stdout",
     "output_type": "stream",
     "text": [
      "Seja bem-vindo vinicius!\n"
     ]
    }
   ],
   "source": [
    "nome = input(\"Qual é o seu nome? \")\n",
    "print(f\"Seja bem-vindo {nome}!\")"
   ]
  },
  {
   "cell_type": "markdown",
   "metadata": {
    "id": "9dHbTjQNhvMJ"
   },
   "source": [
    "2) Peça ao usuário sua idade atual. Supondo que a idade alvo para a aposentadoria seja 65 anos, calcule e imprima quantos anos faltam para ele atingir essa idade."
   ]
  },
  {
   "cell_type": "code",
   "execution_count": 15,
   "metadata": {
    "id": "gzAwX6D-h1NT"
   },
   "outputs": [
    {
     "name": "stdin",
     "output_type": "stream",
     "text": [
      "Quantos anos você tem?  30\n"
     ]
    },
    {
     "name": "stdout",
     "output_type": "stream",
     "text": [
      "Faltam 35 anos para a sua aposentadoria.\n"
     ]
    }
   ],
   "source": [
    "idade = int(input(\"Quantos anos você tem? \"))\n",
    "idade_alvo = 65\n",
    "anos_para_aposentar = idade_alvo - idade\n",
    "\n",
    "print(f\"Faltam {anos_para_aposentar} anos para a sua aposentadoria.\")"
   ]
  },
  {
   "cell_type": "markdown",
   "metadata": {
    "id": "fYR1nZPVh1U7"
   },
   "source": [
    "3) Peça ao usuário qual é o ano atual e qual é o prazo em anos de um investimento. O programa deve calcular e imprimir em qual ano esse investimento irá vencer."
   ]
  },
  {
   "cell_type": "code",
   "execution_count": 17,
   "metadata": {
    "id": "fMBMcXHUh69D"
   },
   "outputs": [
    {
     "name": "stdin",
     "output_type": "stream",
     "text": [
      "Qual é o ano atual?  2025\n",
      "Qual é o prazo (em anos) do investimento?  10\n"
     ]
    },
    {
     "name": "stdout",
     "output_type": "stream",
     "text": [
      "O investimento irá vencer no 2035.\n"
     ]
    }
   ],
   "source": [
    "ano_atual = int(input(\"Qual é o ano atual? \"))\n",
    "prazo_investimento = int(input(\"Qual é o prazo (em anos) do investimento? \"))\n",
    "ano_vencimento = ano_atual + prazo_investimento\n",
    "\n",
    "print(f\"O investimento irá vencer no {ano_vencimento}.\")"
   ]
  },
  {
   "cell_type": "markdown",
   "metadata": {
    "id": "vHtDwTTdjDTN"
   },
   "source": [
    "4) Peça ao usuário um texto e imprima o mesmo texto ao contrário."
   ]
  },
  {
   "cell_type": "code",
   "execution_count": 24,
   "metadata": {
    "id": "SZmvXJTOjLWs"
   },
   "outputs": [
    {
     "name": "stdin",
     "output_type": "stream",
     "text": [
      " 12345879\n"
     ]
    },
    {
     "name": "stdout",
     "output_type": "stream",
     "text": [
      "97854321\n"
     ]
    }
   ],
   "source": [
    "print(input()[::-1])"
   ]
  },
  {
   "cell_type": "markdown",
   "metadata": {
    "id": "EjNTNg7ZjLeK"
   },
   "source": [
    "5) Peça ao usuário seu nome completo e imprima seu primeiro nome e último sobrenome."
   ]
  },
  {
   "cell_type": "code",
   "execution_count": 28,
   "metadata": {
    "id": "A73j6L4tkFGD"
   },
   "outputs": [
    {
     "name": "stdin",
     "output_type": "stream",
     "text": [
      "Qual é o seu nome completo?  asd asujdhas aujhsdhsa kjsadhkjas jhsadhask sahsa\n"
     ]
    },
    {
     "name": "stdout",
     "output_type": "stream",
     "text": [
      "asd sahsa\n"
     ]
    }
   ],
   "source": [
    "nome_completo = input(\"Qual é o seu nome completo? \")\n",
    "nomes = nome_completo.split()\n",
    "print(nomes[0], nomes[-1])"
   ]
  },
  {
   "cell_type": "markdown",
   "metadata": {
    "id": "OYM8hsozkFVS"
   },
   "source": [
    "6) Dado o modelo de texto abaixo, substitua o marcador [NOME_DO_ORGAO] por `Secretaria do Tesouro Nacional`."
   ]
  },
  {
   "cell_type": "code",
   "execution_count": 32,
   "metadata": {
    "colab": {
     "base_uri": "https://localhost:8080/"
    },
    "id": "A9E13Xpokk2N",
    "outputId": "2ae195f5-3806-40f3-9751-cac002081e4c"
   },
   "outputs": [
    {
     "name": "stdout",
     "output_type": "stream",
     "text": [
      "Análise Trimestral: A empresa Secretaria do Tesouro Nacional demonstrou um crescimento robusto no último trimestre. Recomendamos atenção aos próximos balanços de Secretaria do Tesouro Nacional para confirmar a tendência.\n"
     ]
    }
   ],
   "source": [
    "# Texto modelo\n",
    "relatorio_template = \"Análise Trimestral: A empresa [NOME_DO_ORGAO] demonstrou um crescimento robusto no último trimestre. \"\\\n",
    "                     \"Recomendamos atenção aos próximos balanços de [NOME_DO_ORGAO] para confirmar a tendência.\"\n",
    "relatorio_final = relatorio_template.replace(\"[NOME_DO_ORGAO]\", \"Secretaria do Tesouro Nacional\")\n",
    "print(relatorio_final)"
   ]
  },
  {
   "cell_type": "markdown",
   "metadata": {},
   "source": [
    "## 3. Bug Hunt\n",
    "Os códigos abaixo possuem algum tipo de problema. Leia o código e a mensagem de erro atentamente e tente solucionar o bug!\n",
    "Descreva o erro e a solução com suas próprias palavras."
   ]
  },
  {
   "cell_type": "code",
   "execution_count": 34,
   "metadata": {
    "scrolled": true
   },
   "outputs": [
    {
     "name": "stdin",
     "output_type": "stream",
     "text": [
      "Digite o primeiro valor:  3\n",
      "Digite o segundo valor:  6\n"
     ]
    },
    {
     "name": "stdout",
     "output_type": "stream",
     "text": [
      "O resultado da soma é: 36\n"
     ]
    }
   ],
   "source": [
    "#3.1\n",
    "valor1_str = input(\"Digite o primeiro valor: \")\n",
    "valor2_str = input(\"Digite o segundo valor: \")\n",
    "\n",
    "soma = valor1_str + valor2_str\n",
    "\n",
    "print(\"O resultado da soma é: \" +  soma)"
   ]
  },
  {
   "cell_type": "markdown",
   "metadata": {},
   "source": [
    "Erro: o input sempre devolve uma string; o programa está querendo somar os valores (não concatenar)\n",
    "\n",
    "Solução: int(input())"
   ]
  },
  {
   "cell_type": "code",
   "execution_count": 37,
   "metadata": {},
   "outputs": [
    {
     "ename": "IndexError",
     "evalue": "string index out of range",
     "output_type": "error",
     "traceback": [
      "\u001b[1;31m---------------------------------------------------------------------------\u001b[0m",
      "\u001b[1;31mIndexError\u001b[0m                                Traceback (most recent call last)",
      "Cell \u001b[1;32mIn[37], line 3\u001b[0m\n\u001b[0;32m      1\u001b[0m \u001b[38;5;66;03m#3.2. \u001b[39;00m\n\u001b[0;32m      2\u001b[0m nome \u001b[38;5;241m=\u001b[39m \u001b[38;5;124m\"\u001b[39m\u001b[38;5;124mVinicius\u001b[39m\u001b[38;5;124m\"\u001b[39m\n\u001b[1;32m----> 3\u001b[0m \u001b[38;5;28mprint\u001b[39m(nome[\u001b[38;5;241m8\u001b[39m])\n",
      "\u001b[1;31mIndexError\u001b[0m: string index out of range"
     ]
    }
   ],
   "source": [
    "#3.2. \n",
    "nome = \"Vinicius\"\n",
    "print(nome[8]) # acessar a oitava letra"
   ]
  },
  {
   "cell_type": "markdown",
   "metadata": {},
   "source": [
    "Erro: Não existe o elemento 8, pois o Python começa a contar do 0\n",
    "\n",
    "Solução: Acessar o elemento 7 ou -1"
   ]
  },
  {
   "cell_type": "markdown",
   "metadata": {},
   "source": [
    "<hr style=\"height:3px; border-width:0; color:gray; background-color:gray\">"
   ]
  },
  {
   "cell_type": "markdown",
   "metadata": {
    "id": "RTtijnVCloGS"
   },
   "source": [
    "## 4. Projetos"
   ]
  },
  {
   "cell_type": "markdown",
   "metadata": {
    "id": "u4qQ0CTblqTB"
   },
   "source": [
    "1) Faça um programa de cronômetro, no qual o usuário aperta o botão Enter uma vez para começar e uma segunda vez para parar – no final recebendo a informação de quanto tempo ele levou para finalizar uma tarefa. Esse programa pode ser usado, por exemplo, para quem quer resolver um cubo mágico de maneira cronometrada."
   ]
  },
  {
   "cell_type": "code",
   "execution_count": 50,
   "metadata": {
    "id": "yT4TAWYbl4Fc"
   },
   "outputs": [
    {
     "name": "stdin",
     "output_type": "stream",
     "text": [
      "Aperte ENTER quando quiser iniciar o cronômetro \n"
     ]
    },
    {
     "name": "stdout",
     "output_type": "stream",
     "text": [
      "CRONÔMETRO INICIADO!\n"
     ]
    },
    {
     "name": "stdin",
     "output_type": "stream",
     "text": [
      "Aperte ENTER quando quiser parar o cronômetro \n"
     ]
    },
    {
     "name": "stdout",
     "output_type": "stream",
     "text": [
      "Tempo cronometrado: 2.484881\n"
     ]
    }
   ],
   "source": [
    "from datetime import datetime\n",
    "\n",
    "input(\"Aperte ENTER quando quiser iniciar o cronômetro\")\n",
    "tempo_inicial = datetime.now()\n",
    "print(\"CRONÔMETRO INICIADO!\")\n",
    "input(\"Aperte ENTER quando quiser parar o cronômetro\")\n",
    "tempo_final = datetime.now()\n",
    "\n",
    "tempo_percorrido = tempo_final - tempo_inicial\n",
    "print(f\"Tempo cronometrado: {tempo_percorrido.total_seconds()}\")"
   ]
  },
  {
   "cell_type": "markdown",
   "metadata": {
    "id": "RLf3j4bKB79N"
   },
   "source": [
    "2) Faça um programa no qual o usuário fornece o seu nome e o programa imprime uma string com as mesmas letras do nome, porém embaralhadas.\n",
    "\n",
    "Dica: pesquise pela função random.shuffle()"
   ]
  },
  {
   "cell_type": "code",
   "execution_count": 42,
   "metadata": {
    "id": "ZLzxB4fEB8Df"
   },
   "outputs": [
    {
     "name": "stdin",
     "output_type": "stream",
     "text": [
      "Digite um nome:  vinicius\n"
     ]
    },
    {
     "name": "stdout",
     "output_type": "stream",
     "text": [
      "cvunsiii\n"
     ]
    }
   ],
   "source": [
    "import random\n",
    "\n",
    "nome = list(input(\"Digite um nome: \"))\n",
    "random.shuffle(nome)\n",
    "print(\"\".join(nome))"
   ]
  },
  {
   "cell_type": "markdown",
   "metadata": {},
   "source": [
    "<hr style=\"height:3px; border-width:0; color:gray; background-color:gray\">"
   ]
  },
  {
   "cell_type": "markdown",
   "metadata": {},
   "source": [
    "## 5. Perguntas para Discussão em Grupo"
   ]
  },
  {
   "cell_type": "markdown",
   "metadata": {},
   "source": [
    "1) No programa da nota de crédito, o que aconteceria se um usuário digitasse \"oitocentos\" em vez de `800` no campo da renda? Que tipo de erro o Python mostraria? Pensem em por que isso acontece e como, no futuro, um programa poderia ser mais robusto para lidar com esses casos."
   ]
  },
  {
   "cell_type": "markdown",
   "metadata": {},
   "source": [
    "Geraria um `ValueError`; é possível colocar uma condicional para verificar se a string contém apenas números antes de realizar a conversão (usando `.isdigit()`, por exemplo) ou fazer um bloco try-except."
   ]
  },
  {
   "cell_type": "markdown",
   "metadata": {},
   "source": [
    "2. O Python é uma linguagem fortemente tipada, o que significa que a junção de tipos incompatíveis gera um erro (diferentemente de linguagens fracamente tipadas, como javascript). Quais são as vantagens e desvantagens de a linguagem ser fortemente tipada?"
   ]
  },
  {
   "cell_type": "markdown",
   "metadata": {},
   "source": [
    "Vantagens de ser fortemente tipada: Mais segurança e previsibilidade, facilita a manutenção de código, menos chance de gerar bugs silenciosos.\n",
    "Desvantagens: menos flexibilidade, maior curva de aprendizado."
   ]
  },
  {
   "cell_type": "markdown",
   "metadata": {},
   "source": [
    "3. O Python é uma linguagem dinamicamente tipada, o que significa que os tipos das variáveis não precisam ser declarados anteriormente (diferentemente de lingugagens como Java). Quais são as vantagens e desvantagens de a linguagem ser dinamicamente tipada?"
   ]
  },
  {
   "cell_type": "markdown",
   "metadata": {},
   "source": [
    "Vantagens de ser dinamicamente tipada: simplicidade e agilidade, menor curva de aprendizado\n",
    "Desvantagens: mais chances de erro em tempo de execução, menor previsibilidade"
   ]
  },
  {
   "cell_type": "markdown",
   "metadata": {},
   "source": [
    "<hr style=\"height:3px; border-width:0; color:gray; background-color:gray\">"
   ]
  },
  {
   "cell_type": "markdown",
   "metadata": {},
   "source": [
    "## 6. Sugestões de pesquisa\n",
    "Se você terminou os exercícios e deseja se aprofundar em alguns detalhes da linguagem, deixo algumas sugestões de pesquisa a serem realizadas:"
   ]
  },
  {
   "cell_type": "markdown",
   "metadata": {},
   "source": [
    "1) Faça uma lista de 5 métodos de string úteis\n",
    "\n",
    "Dica: Dê uma olhada na documentação da W3Schools para ver uma lista de métodos de String no Python. \n",
    "\n",
    "https://www.w3schools.com/python/python_ref_string.asp"
   ]
  },
  {
   "cell_type": "markdown",
   "metadata": {},
   "source": [
    "```\n",
    ".lower() > converte em caracteres minúsculos\n",
    ".upper() > converte em caracteres maiúsculos\n",
    ".capitalize() > a primeira letra é maiúscula, o restante das letra fica minúsculo\n",
    ".isdigit() > verifica se a string é composta apenas por números\n",
    ".isalpha() > verifica se a string é composta apenas por letras\n",
    "```"
   ]
  },
  {
   "cell_type": "markdown",
   "metadata": {},
   "source": [
    "2) Existem muitas opções para contornar o problema de concatenação entre int e str apresentado. Tente explicar como os exemplos abaixo funcionam."
   ]
  },
  {
   "cell_type": "code",
   "execution_count": null,
   "metadata": {},
   "outputs": [],
   "source": [
    "num = 4\n",
    "\n",
    "# Concatenação de string: o número precisa ser convertido para string com str()\n",
    "print(\"O número é \" + str(num))  # Saída: O número é 4\n",
    "\n",
    "# Separação por vírgula: o print aceita múltiplos argumentos e insere um espaço entre eles\n",
    "print(\"O número é\", num)  # Saída: O número é 4\n",
    "\n",
    "# Uso de .format(): substitui o {} pelo valor de num\n",
    "print(\"O número é {}\".format(num))  # Saída: O número é 4\n",
    "\n",
    "# Estilo antigo com %: %d indica que será inserido um número inteiro\n",
    "print(\"O número é %d\" % num)  # Saída: O número é 4\n",
    "\n",
    "# f-string: forma moderna e direta de interpolar variáveis dentro da string\n",
    "print(f\"O número é {num}\")  # Saída: O número é 4"
   ]
  },
  {
   "cell_type": "markdown",
   "metadata": {},
   "source": [
    "3. Explique o código abaixo"
   ]
  },
  {
   "cell_type": "code",
   "execution_count": null,
   "metadata": {},
   "outputs": [],
   "source": [
    "nome = \"Meu nome é João\"\n",
    "\n",
    "print(\" \".join(nome.split())) \n",
    "# O .split() separa a string pelo espaço e gera uma lista\n",
    "# O \" \".join() junta os elementos da lista colocando um espaço no meio\n",
    "# O resultado final é o mesmo da string inicial"
   ]
  },
  {
   "cell_type": "markdown",
   "metadata": {},
   "source": [
    "4) Explique o código abaixo"
   ]
  },
  {
   "cell_type": "code",
   "execution_count": null,
   "metadata": {},
   "outputs": [],
   "source": [
    "nome = \"Tesouro Nacional\"\n",
    "\n",
    "# [3:] → começa no índice 3 (letra 'o') e vai até o final da string\n",
    "print(nome[3:]) \n",
    "\n",
    "# [:10] → pega do início até o índice 10 (não incluso)\n",
    "print(nome[:10])  \n",
    "\n",
    "# [2:9] → pega do índice 2 até o 9 (não incluso)\n",
    "print(nome[2:9])  \n",
    "\n",
    "# [-13:9:2] → começa no índice -13 (letra 's'), vai até o índice 9 (não incluso), pulando de 2 em 2\n",
    "print(nome[-13:9:2]) \n",
    "\n",
    "# [::-1] → inverte a string (passo -1)\n",
    "print(nome[::-1])  \n",
    "\n",
    "# [::-2] → inverte a string pulando de 2 em 2\n",
    "print(nome[::-2])  "
   ]
  },
  {
   "cell_type": "markdown",
   "metadata": {},
   "source": [
    "5. Pesquise o que é type hint e explique por quê o código abaixo não gera erro."
   ]
  },
  {
   "cell_type": "code",
   "execution_count": null,
   "metadata": {},
   "outputs": [],
   "source": [
    "numero:int = 10\n",
    "texto:str = \"texto\"\n",
    "\n",
    "# por que o código abaixo não gera erro?\n",
    "teste:int = \"texto\" # type hint é uma dica para o programador \n",
    "# não é obrigatória, portanto não gera erro quando a dica não reflete o tipo correto da variável"
   ]
  }
 ],
 "metadata": {
  "colab": {
   "provenance": []
  },
  "kernelspec": {
   "display_name": "Python 3 (ipykernel)",
   "language": "python",
   "name": "python3"
  },
  "language_info": {
   "codemirror_mode": {
    "name": "ipython",
    "version": 3
   },
   "file_extension": ".py",
   "mimetype": "text/x-python",
   "name": "python",
   "nbconvert_exporter": "python",
   "pygments_lexer": "ipython3",
   "version": "3.12.7"
  }
 },
 "nbformat": 4,
 "nbformat_minor": 4
}
