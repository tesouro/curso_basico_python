{
 "cells": [
  {
   "cell_type": "markdown",
   "id": "ffac4311",
   "metadata": {},
   "source": [
    "[![Open In Colab](https://colab.research.google.com/assets/colab-badge.svg)](https://colab.research.google.com/github/tesouro/curso_basico_python/blob/main/Aula%206%20-%20Manipulação%20de%20planilhas.ipynb)"
   ]
  },
  {
   "cell_type": "markdown",
   "id": "f564437c-4afb-472d-8991-c3b67349ab2b",
   "metadata": {},
   "source": [
    "# Aula 6 - Manipulação de planilhas\n",
    "<div class=\"alert alert-block alert-info\" style=\"border-left: 5px solid #0056b3;\">\n",
    "    <h4>🎯 Objetivos de Aprendizagem da Aula</h4>\n",
    "    <ul style=\"margin-left: 20px;\">\n",
    "    <li>O que é a biblioteca pandas e o DataFrame.</li>\n",
    "    <li>Lendo arquivos com pd.read_csv() e pd.read_excel().</li>    \n",
    "    <li>Explorando, selecionando e filtrando dados.</li>\n",
    "    <li>Criando novas colunas a partir de dados existentes.</li>\n",
    "    <li>Salvando os resultados com to_csv().</li>\n",
    "    </ul>\n",
    "</div>"
   ]
  },
  {
   "cell_type": "markdown",
   "id": "749de0f4-a89a-40f5-8f0a-f4d6a1775c44",
   "metadata": {},
   "source": [
    "<h3>1. Uma breve contextualização sobre o Pandas</h3>\n",
    "\n",
    "<p>Nesta aula, vamos aprender o básico sobre como ingerir, manipular e salvar dados de planilhas. Uma dúvida pertinente, e talvez a mais importante de todas, é: <i>\"Eu já sei usar o Excel e resolvo meus problemas com ele. Por que eu deveria usar Python para isso?\"</i></p>\n",
    "\n",
    "<p>A resposta curta é: <b>escala, automação e poder analítico</b>. O Excel é como um canivete suíço, excelente para muitas tarefas. O <code>pandas</code> é como uma oficina de ferramentas de precisão, feita para automatizar o trabalho com dados.</p>\n",
    "\n",
    "<p>Vamos expandir os motivos:</p>\n",
    "\n",
    "<div style=\"display: flex; justify-content: space-around; align-items: flex-start; gap: 20px;\">\n",
    "  \n",
    "  <div style=\"flex: 1; text-align: center; background-color: #f8f9fa; border: 1px solid #dee2e6; border-radius: 8px; padding: 15px;\">\n",
    "    <h4 style=\"color:#0056b3;\">⚙️ Escala e Performance</h4>\n",
    "    <ul style=\"text-align: left; padding-left: 20px;\">\n",
    "        <li><b>Sem Limite de Linhas:</b> O Excel tem um limite físico de aproximadamente 1 milhão de linhas. Para um analista do Tesouro, esse limite é facilmente atingido. O <code>pandas</code>, por outro lado, processa arquivos com dezenas de milhões de linhas.</li>\n",
    "        <br>\n",
    "        <li><b>Desempenho com Arquivos Grandes:</b> O Excel se torna extremamente lento e instável com arquivos pesados. O <code>pandas</code> é otimizado para operações de alta performance em grandes volumes, realizando filtros e agregações em segundos.</li>\n",
    "    </ul>\n",
    "  </div>\n",
    "\n",
    "  <div style=\"flex: 1; text-align: center; background-color: #f8f9fa; border: 1px solid #dee2e6; border-radius: 8px; padding: 15px;\">\n",
    "    <h4 style=\"color:#28a745;\">🤖 Automação e Reprodutibilidade</h4>\n",
    "    <ul style=\"text-align: left; padding-left: 20px;\">\n",
    "        <li><b>Automação de Tarefas Repetitivas:</b> Crie um \"roteiro\" (script) uma única vez e o execute para processar relatórios semanais ou mensais de forma instantânea. É o seu robô pessoal para as tarefas repetitivas, economizando horas de trabalho manual.</li>\n",
    "        <br>\n",
    "        <li><b>Reprodutibilidade e Auditoria:</b> Um script Python é uma \"receita de bolo\" transparente. Diferente de uma planilha com valores colados ou fórmulas complexas, um script é um registro <b>auditável e 100% transparente</b> de como um resultado foi gerado, garantindo a integridade da análise.</li>\n",
    "    </ul>\n",
    "  </div>\n",
    "\n",
    "  <div style=\"flex: 1; text-align: center; background-color: #f8f9fa; border: 1px solid #dee2e6; border-radius: 8px; padding: 15px;\">\n",
    "    <h4 style=\"color:#6f42c1;\">🔌 Poder Analítico e Flexibilidade</h4>\n",
    "    <ul style=\"text-align: left; padding-left: 20px;\">\n",
    "        <li><b>Conexão com Múltiplas Fontes:</b> O <code>pandas</code> lê dados diretamente de bancos de dados (SQL), APIs da web (como a do BCB), arquivos JSON e até extrai tabelas de páginas da internet (web scraping), centralizando todo o seu fluxo de dados.</li>\n",
    "        <br>\n",
    "        <li><b>Capacidade Analítica Avançada:</b> Realize análises de séries temporais, cálculos estatísticos complexos e integre com bibliotecas de Machine Learning, tarefas que são extremamente difíceis ou impossíveis no Excel.</li>\n",
    "         <br>\n",
    "        <li><b>Integração Total com o Ecossistema Python:</b> Use seus dados para alimentar gráficos interativos (<code>Plotly</code>), criar dashboards (<code>Streamlit</code>) ou gerar relatórios automáticos em PDFo trabalho com dados em escala.</i></b></p>"
   ]
  },
  {
   "cell_type": "markdown",
   "id": "3c29077c-e146-47ea-975e-182bf7b1fba6",
   "metadata": {},
   "source": [
    "Também é muito importante destacar: **você não precisa memorizar** os detalhes da sintaxe da biblioteca para utilizá-la. Nós vamos usar a IA generativa extensivamente para resolver problemas no dia a dia.\n",
    "\n",
    "Minha intenção com esse material é:\n",
    "- Apresentar a sintaxe básica (para ingerir, filtrar e exportar dados)\n",
    "- Mostrar possibilidades de manipulações de dados \n",
    "- Dar exemplos que podem ser úteis no dia a dia\n",
    "\n",
    "Se você deseja aprender Pandas proficientemente, recomendo o seguinte repositório com centenas de exercícios: https://github.com/guipsamora/pandas_exercises"
   ]
  },
  {
   "cell_type": "markdown",
   "id": "96c43243-005c-4a40-bb6e-f32065b97a07",
   "metadata": {},
   "source": [
    "## 1.1. Criando um arquivo de exemplo\n",
    "\n",
    "Para os exercícios de hoje, vamos usar um arquivo de exemplo chamado relatorio_divida.csv. O código abaixo irá criar este arquivo no nosso ambiente de trabalho. Apenas execute esta célula uma vez."
   ]
  },
  {
   "cell_type": "code",
   "execution_count": null,
   "id": "d443498f-f3e2-49d2-99e4-905a6fe74a6a",
   "metadata": {},
   "outputs": [],
   "source": [
    "# Célula de Setup: Apenas execute para criar o arquivo de exemplo.\n",
    "import pandas as pd\n",
    "\n",
    "# Dados de exemplo sobre a Dívida Pública\n",
    "dados = {\n",
    "    'Ano': [2022, 2022, 2023, 2023, 2024, 2024],\n",
    "    'Mes': ['Dez', 'Dez', 'Jun', 'Jun', 'Jan', 'Jan'],\n",
    "    'Tipo de Divida': ['Interna', 'Externa', 'Interna', 'Externa', 'Interna', 'Externa'],\n",
    "    'Valor (R$ bi)': [6270, 250, 6450, 260, 6510, 265]\n",
    "}\n",
    "\n",
    "# Cria um DataFrame e salva como um arquivo CSV\n",
    "df_exemplo = pd.DataFrame(dados)\n",
    "df_exemplo.to_csv('relatorio_divida.csv', index=False)\n",
    "\n",
    "print(\"Arquivo 'relatorio_divida.csv' criado com sucesso!\")"
   ]
  },
  {
   "cell_type": "markdown",
   "id": "b879a9b3-af31-4e3b-a51f-d66e69defb2d",
   "metadata": {},
   "source": [
    "## 1.2. Lendo um Arquivo\n",
    "O primeiro passo é carregar os dados em um DataFrame, que nada mais é do que a representação de uma tabela ou planilha inteira na memória do computador."
   ]
  },
  {
   "cell_type": "code",
   "execution_count": null,
   "id": "b68af749-7f98-48fb-8c33-95ea91da7e5f",
   "metadata": {},
   "outputs": [],
   "source": [
    "# Importamos a biblioteca pandas e damos a ela o apelido 'pd' (uma convenção universal)\n",
    "import pandas as pd\n",
    "\n",
    "# Lemos nosso arquivo CSV e o carregamos em um DataFrame chamado 'df'\n",
    "df = pd.read_csv('relatorio_divida.csv')"
   ]
  },
  {
   "cell_type": "markdown",
   "id": "2f871544-8724-4b8d-a390-396dd38bea4f",
   "metadata": {},
   "source": [
    "Explorando os Dados\n",
    "Após carregar os dados, as primeiras coisas que fazemos são \"espiar\" a estrutura da tabela."
   ]
  },
  {
   "cell_type": "code",
   "execution_count": null,
   "id": "9378a083-8edb-41dc-a57a-41d006962975",
   "metadata": {},
   "outputs": [],
   "source": [
    "# 1. Ver as 5 primeiras linhas para entender as colunas e os dados\n",
    "print(\"--- 5 primeiras linhas ---\")\n",
    "display(df.head())\n",
    "\n",
    "# 2. Obter um resumo técnico das colunas, tipos de dados e valores não nulos\n",
    "print(\"\\n--- Informações do DataFrame ---\")\n",
    "df.info()\n",
    "\n",
    "# 3. Obter estatísticas descritivas básicas das colunas numéricas\n",
    "print(\"\\n--- Estatísticas Descritivas ---\")\n",
    "display(df.describe())"
   ]
  },
  {
   "cell_type": "markdown",
   "id": "0c9efe8c-69e6-43ff-9770-c4c4d18cf909",
   "metadata": {},
   "source": [
    "## 1.3. Selecionando e Filtrando Dados\n",
    "Esta é a parte mais poderosa: selecionar exatamente os dados que você precisa."
   ]
  },
  {
   "cell_type": "code",
   "execution_count": null,
   "id": "308466d0-9fe9-4587-acad-eb223443f0e8",
   "metadata": {},
   "outputs": [],
   "source": [
    "# 1. Selecionando uma única coluna\n",
    "tipos_de_divida = df['Tipo de Divida']\n",
    "print(tipos_de_divida)"
   ]
  },
  {
   "cell_type": "code",
   "execution_count": null,
   "id": "c5bcab80-6347-40e1-9e60-0c13a228bf6f",
   "metadata": {},
   "outputs": [],
   "source": [
    "# 2. Selecionando múltiplas colunas (note os colchetes duplos!)\n",
    "df_parcial = df[['Ano', 'Valor (R$ bi)']]\n",
    "display(df_parcial.head())"
   ]
  },
  {
   "cell_type": "code",
   "execution_count": null,
   "id": "0a69dc34-8eaa-42f1-acaf-79f715af2318",
   "metadata": {},
   "outputs": [],
   "source": [
    "# 3. FILTRANDO LINHAS: selecionando linhas com base em uma condição\n",
    "# Queremos apenas os dados do ano de 2023\n",
    "df_2023 = df[df['Ano'] == 2023]\n",
    "print(\"--- Apenas dados de 2023 ---\")\n",
    "display(df_2023)"
   ]
  },
  {
   "cell_type": "code",
   "execution_count": null,
   "id": "bf9d5dbc-c9d8-446d-9675-f0185e97392e",
   "metadata": {},
   "outputs": [],
   "source": [
    "# 4. Combinando múltiplas condições (& para 'E', | para 'OU')\n",
    "# Queremos apenas os dados da Dívida INTERNA do ano de 2024\n",
    "df_interna_2024 = df[(df['Tipo de Divida'] == 'Interna') & (df['Ano'] == 2024)]\n",
    "print(\"\\n--- Apenas Dívida Interna de 2024 ---\")\n",
    "display(df_interna_2024)"
   ]
  },
  {
   "cell_type": "markdown",
   "id": "cf82ecfe-47fc-4a41-98ce-714d5de22de0",
   "metadata": {},
   "source": [
    "## 1.4. Exercícios de fixação"
   ]
  },
  {
   "cell_type": "markdown",
   "id": "44ef1fc8-b7c3-4b82-bcd9-e9abb67ea8ea",
   "metadata": {},
   "source": [
    "1. Selecione e exiba apenas as colunas 'Mes' e 'Tipo' do DataFrame 'df'."
   ]
  },
  {
   "cell_type": "code",
   "execution_count": null,
   "id": "49d1d951-0b0e-44fe-a528-714b74790cb4",
   "metadata": {},
   "outputs": [],
   "source": []
  },
  {
   "cell_type": "markdown",
   "id": "7bfbc278-1e99-44f3-a817-f4a792475eff",
   "metadata": {},
   "source": [
    "2. Crie um novo DataFrame chamado 'df_externa' que contenha apenas os registros da dívida 'Externa'. Exiba o resultado."
   ]
  },
  {
   "cell_type": "code",
   "execution_count": null,
   "id": "d8ab3e9f-38f9-4777-9166-671a0742e428",
   "metadata": {},
   "outputs": [],
   "source": []
  },
  {
   "cell_type": "markdown",
   "id": "926d2e5a-5d62-4115-87b3-9324e88e1f3d",
   "metadata": {},
   "source": [
    "3. Usando o DataFrame original 'df', calcule o valor médio da coluna 'Valor_em_Bilhoes'."
   ]
  },
  {
   "cell_type": "code",
   "execution_count": null,
   "id": "7b932c7b-8249-4edb-bb73-c47d4e56baf8",
   "metadata": {},
   "outputs": [],
   "source": []
  },
  {
   "cell_type": "markdown",
   "id": "e25196f3-6af4-44c8-9365-30bb89f8cf3a",
   "metadata": {},
   "source": [
    "## 1.5. Criando Novas Colunas e Salvando Novos Arquivos\n",
    "\n",
    "Assim como no Excel, podemos criar novas colunas baseadas em cálculos de outras."
   ]
  },
  {
   "cell_type": "code",
   "execution_count": null,
   "id": "0a785f21-f046-40d5-ba6d-731664b654bf",
   "metadata": {},
   "outputs": [],
   "source": [
    "# Criando uma nova coluna com o valor da dívida em trilhões\n",
    "df['Valor (R$ tri)'] = df['Valor (R$ bi)'] / 1000\n",
    "\n",
    "print(\"--- DataFrame com a nova coluna ---\")\n",
    "display(df.head())\n",
    "\n",
    "# Salvando o DataFrame modificado em um novo arquivo CSV\n",
    "# index=False evita que o pandas salve o índice da tabela como uma nova coluna\n",
    "df.to_csv('relatorio_modificado.csv', index=False)\n",
    "print(\"\\nArquivo 'relatorio_modificado.csv' foi salvo!\")"
   ]
  },
  {
   "cell_type": "markdown",
   "id": "855a64c2-1937-4b56-ab02-564c002c8d98",
   "metadata": {},
   "source": [
    "## 1.6. Outras possibilidades do Pandas\n",
    "Como descrito anteriormente, a intenção dos seguintes exercícios não é memorizar a sintaxe do Pandas, mas, sim, mostrar o quanto ele pode ser útil. Apenas leia o código, entenda sua funcionalidade e, quando quiser fazer algo com seu próprio dataset, peça ajuda da IA generativa."
   ]
  },
  {
   "cell_type": "markdown",
   "id": "d3cc3dc2-4087-4060-9abc-a03fcdb1bc9b",
   "metadata": {},
   "source": [
    "### 1.6.1. Importando um dataset real\n",
    "Vamos puxar dados da API do SADIPEM do Tesouro:"
   ]
  },
  {
   "cell_type": "code",
   "execution_count": null,
   "id": "42b8eb85-9340-42cd-b9ef-b320458c32e4",
   "metadata": {},
   "outputs": [],
   "source": [
    "import requests\n",
    "import pandas as pd\n",
    "import seaborn as sns\n",
    "import matplotlib.pyplot as plt\n",
    "\n",
    "# Define um estilo visual mais agradável para os gráficos\n",
    "sns.set_theme(style=\"whitegrid\")\n",
    "\n",
    "# 1. Definir a URL base e os parâmetros da consulta\n",
    "url_base = \"https://apidatalake.tesouro.gov.br/ords/sadipem/tt/pvl\"\n",
    "uf_escolhida = 'SP'  # Você pode trocar para qualquer outra UF\n",
    "params = {'uf': uf_escolhida}\n",
    "\n",
    "# 2. Fazer a requisição\n",
    "print(f\"Buscando pleitos para o estado: {uf_escolhida}...\")\n",
    "response = requests.get(url_base, params=params)\n",
    "\n",
    "# 3. Verificar se a requisição foi bem-sucedida\n",
    "if response.status_code == 200:\n",
    "    # 4. Converter a resposta JSON em um DataFrame\n",
    "    dados_json = response.json()\n",
    "    df_pleitos_sp = pd.DataFrame(dados_json['items'])\n",
    "    \n",
    "    # 5. Exibir as 10 primeiras linhas\n",
    "    print(f\"\\nExibindo os 10 primeiros pleitos encontrados para {uf_escolhida}:\")\n",
    "    display(df_pleitos_sp.head(10))\n",
    "else:\n",
    "    print(f\"Erro ao fazer a requisição. Código de status: {response.status_code}\")"
   ]
  },
  {
   "cell_type": "markdown",
   "id": "1ebeb587-0e4f-4207-ae27-3172acf7eabd",
   "metadata": {},
   "source": [
    "### 1.6.2 Coleta de Dados de Múltiplos Estados\n",
    "Objetivo: Praticar a coleta de dados de forma iterativa usando um laço for.\n",
    "\n",
    "Passos:\n",
    "\n",
    "Crie uma lista de UFs de seu interesse (ex: ['MG', 'RJ', 'BA']).\n",
    "\n",
    "Use um laço for para fazer uma requisição à API para cada UF na lista.\n",
    "\n",
    "Para cada estado, imprima o nome e exiba as 3 primeiras operações encontradas."
   ]
  },
  {
   "cell_type": "code",
   "execution_count": null,
   "id": "ddea4be3-6d29-4aef-bd4a-9aa63cb8365c",
   "metadata": {},
   "outputs": [],
   "source": [
    "# --- Solução Exercício 1 ---\n",
    "\n",
    "ufs_de_interesse = ['MG', 'RJ', 'BA']\n",
    "url_base = \"https://apidatalake.tesouro.gov.br/ords/sadipem/tt/pvl\"\n",
    "\n",
    "for uf in ufs_de_interesse:\n",
    "    print(f\"--- Buscando pleitos para: {uf} ---\")\n",
    "    params = {'uf': uf}\n",
    "    response = requests.get(url_base, params=params)\n",
    "    \n",
    "    if response.status_code == 200:\n",
    "        dados_json = response.json()\n",
    "        df_uf = pd.DataFrame(dados_json['items'])\n",
    "        display(df_uf.head(3))\n",
    "    else:\n",
    "        print(f\"Não foi possível buscar dados para {uf}. Status: {response.status_code}\")\n",
    "    print(\"\\n\" + \"=\"*50 + \"\\n\")"
   ]
  },
  {
   "cell_type": "markdown",
   "id": "5214a96f-20c2-4516-98cf-57807f42a7dd",
   "metadata": {},
   "source": [
    "### 1.6.3. Análise de Status dos Pleitos (Nacional)\n",
    "Objetivo: Realizar uma contagem de frequência para entender os status mais comuns dos pleitos em todo o Brasil.\n",
    "\n",
    "Passos:\n",
    "\n",
    "Faça uma requisição ao endpoint /pvl sem parâmetros para obter uma amostra nacional.\n",
    "\n",
    "Use o método .value_counts() para contar a ocorrência de cada status.\n",
    "\n",
    "Exiba os resultados."
   ]
  },
  {
   "cell_type": "code",
   "execution_count": null,
   "id": "a683ae63-b613-40f6-9cb6-e4f0d9061240",
   "metadata": {},
   "outputs": [],
   "source": [
    "# --- Solução Exercício 2 ---\n",
    "\n",
    "url_base = \"https://apidatalake.tesouro.gov.br/ords/sadipem/tt/pvl\"\n",
    "response = requests.get(url_base)\n",
    "\n",
    "if response.status_code == 200:\n",
    "    df_nacional = pd.DataFrame(response.json()['items'])\n",
    "    \n",
    "    print(\"--- Contagem de Pleitos por Status (Nível Nacional) ---\")\n",
    "    contagem_status = df_nacional['status'].value_counts()\n",
    "    print(contagem_status)\n",
    "else:\n",
    "    print(f\"Erro na requisição. Status: {response.status_code}\")"
   ]
  },
  {
   "cell_type": "markdown",
   "id": "251ce5ff-ee86-44d6-be6c-ece79ef8d1c1",
   "metadata": {},
   "source": [
    "### 1.6.4. Identificando os Maiores Pleitos por Valor\n",
    "Objetivo: Ordenar o DataFrame para encontrar as operações de maior valor.\n",
    "\n",
    "Passos:\n",
    "\n",
    "Utilize o df_nacional do exercício anterior.\n",
    "\n",
    "Use o método .sort_values() na coluna valor em ordem decrescente.\n",
    "\n",
    "Exiba os 5 maiores pleitos, mostrando as colunas interessado, uf e valor."
   ]
  },
  {
   "cell_type": "code",
   "execution_count": null,
   "id": "666eaf28-dc11-4698-aa06-c152261449a6",
   "metadata": {},
   "outputs": [],
   "source": [
    "# --- Solução Exercício 3 ---\n",
    "\n",
    "# Assumindo que 'df_nacional' já foi carregado no exercício anterior\n",
    "df_ordenado_por_valor = df_nacional.sort_values(by='valor', ascending=False)\n",
    "\n",
    "print(\"--- Top 5 Maiores Pleitos por Valor (em R$) ---\")\n",
    "display(df_ordenado_por_valor[['interessado', 'uf', 'valor']].head(5))"
   ]
  },
  {
   "cell_type": "markdown",
   "id": "2bd38cbc-048e-4f25-b5a6-68590aa710c5",
   "metadata": {},
   "source": [
    "### 1.6.5. Valor Total por Tipo de Operação\n",
    "Objetivo: Usar groupby para agregar valores e responder a uma pergunta de negócio.\n",
    "\n",
    "Passos:\n",
    "\n",
    "A partir do df_nacional, agrupe os dados pela coluna tipo_operacao.\n",
    "\n",
    "Calcule a soma (sum) da coluna valor para cada grupo.\n",
    "\n",
    "Exiba os resultados ordenados para ver qual tipo de operação movimenta o maior volume financeiro."
   ]
  },
  {
   "cell_type": "code",
   "execution_count": null,
   "id": "aa51e1f2-fe55-4c04-8d50-5bac4bc12c5c",
   "metadata": {},
   "outputs": [],
   "source": [
    "# --- Solução Exercício 4 ---\n",
    "\n",
    "# Assumindo que 'df_nacional' já foi carregado\n",
    "valor_por_tipo = df_nacional.groupby('tipo_operacao')['valor'].sum().sort_values(ascending=False)\n",
    "\n",
    "print(\"--- Valor Total Consolidado por Tipo de Operação ---\")\n",
    "print(valor_por_tipo)"
   ]
  },
  {
   "cell_type": "markdown",
   "id": "b199407b-5fb3-4621-b471-fe4fa0e2cea3",
   "metadata": {},
   "source": [
    "### 1.6.6. Análise de Operações por Credor\n",
    "Objetivo: Criar uma visualização para entender a participação dos credores.\n",
    "\n",
    "Passos:\n",
    "\n",
    "A partir do df_nacional, agrupe os dados por credor.\n",
    "\n",
    "Calcule a contagem (count) de operações para cada credor.\n",
    "\n",
    "Crie um gráfico de barras com os 10 principais credores."
   ]
  },
  {
   "cell_type": "code",
   "execution_count": null,
   "id": "dad14aba-aa44-4a2a-aa09-5aeabd58f9e6",
   "metadata": {},
   "outputs": [],
   "source": [
    "# --- Solução Exercício 5 ---\n",
    "\n",
    "# Assumindo que 'df_nacional' já foi carregado\n",
    "contagem_por_credor = df_nacional['credor'].value_counts().head(10)\n",
    "\n",
    "plt.figure(figsize=(12, 8))\n",
    "sns.barplot(x=contagem_por_credor.values, y=contagem_por_credor.index, palette='magma')\n",
    "plt.title('Top 10 Credores por Número de Operações')\n",
    "plt.xlabel('Quantidade de Operações')\n",
    "plt.ylabel('Credor')\n",
    "plt.show()"
   ]
  },
  {
   "cell_type": "markdown",
   "id": "18a04b9e-c2ca-41fd-9a63-d6cd4f674e4a",
   "metadata": {},
   "source": [
    "### 1.6.7. Identificar Pleitos em Moeda Estrangeira\n",
    "Objetivo: Filtrar dados com base em uma negação e analisar o resultado.\n",
    "\n",
    "Passos:\n",
    "\n",
    "Filtre o df_nacional para encontrar todas as operações onde a moeda é diferente de \"Real\".\n",
    "\n",
    "Exiba o DataFrame resultante, mostrando as colunas interessado, uf, credor, moeda e valor."
   ]
  },
  {
   "cell_type": "code",
   "execution_count": null,
   "id": "bc10aa59-fef5-4985-9f47-f3da2fca585b",
   "metadata": {},
   "outputs": [],
   "source": [
    "# --- Solução Exercício 7 ---\n",
    "\n",
    "# Assumindo que 'df_nacional' já foi carregado\n",
    "df_moeda_estrangeira = df_nacional[df_nacional['moeda'] != 'Real']\n",
    "\n",
    "print(f\"Encontradas {len(df_moeda_estrangeira)} operações em moeda estrangeira.\")\n",
    "print(\"\\n--- Detalhes das Operações em Moeda Estrangeira ---\")\n",
    "display(df_moeda_estrangeira[['interessado', 'uf', 'credor', 'moeda', 'valor']])"
   ]
  },
  {
   "cell_type": "markdown",
   "id": "413b4818-2716-4c5b-aebc-5d70d51a1bd7",
   "metadata": {},
   "source": [
    "### 1.6.8. Juntando Dados (Merge) - Cronogramas e PVLs\n",
    "Objetivo: Combinar dados de dois endpoints diferentes para uma análise mais rica.\n",
    "\n",
    "Passos:\n",
    "\n",
    "Busque os dados do endpoint /pvl e armazene em df_pvl.\n",
    "\n",
    "Busque os dados do endpoint /opc-cronograma-pagamentos e armazene em df_cronograma.\n",
    "\n",
    "Use pd.merge() para juntar os dois DataFrames, usando id_pleito como a chave da junção.\n",
    "\n",
    "Exiba o .head() do DataFrame combinado.\n",
    "\n"
   ]
  },
  {
   "cell_type": "code",
   "execution_count": null,
   "id": "e26286cf-287c-406b-9a42-ffc098918cea",
   "metadata": {},
   "outputs": [],
   "source": [
    "# --- Solução Exercício 8 ---\n",
    "\n",
    "# 1. Buscar PVLs\n",
    "url_pvl = \"https://apidatalake.tesouro.gov.br/ords/sadipem/tt/pvl\"\n",
    "response_pvl = requests.get(url_pvl)\n",
    "df_pvl = pd.DataFrame(response_pvl.json()['items'])\n",
    "\n",
    "# 2. Buscar Cronogramas\n",
    "url_cronograma = \"https://apidatalake.tesouro.gov.br/ords/sadipem/tt/opc-cronograma-pagamentos\"\n",
    "response_cronograma = requests.get(url_cronograma)\n",
    "df_cronograma = pd.DataFrame(response_cronograma.json()['items'])\n",
    "\n",
    "# 3. Juntar os DataFrames\n",
    "df_combinado = pd.merge(\n",
    "    df_cronograma,\n",
    "    df_pvl[['id_pleito', 'uf', 'interessado', 'tipo_operacao']], # Seleciona colunas de interesse do df_pvl\n",
    "    on='id_pleito',\n",
    "    how='left' # 'left' join para manter todos os cronogramas\n",
    ")\n",
    "\n",
    "print(\"--- DataFrame Combinado (Pleitos + Cronogramas) ---\")\n",
    "display(df_combinado.head())"
   ]
  },
  {
   "cell_type": "markdown",
   "id": "0bdfb3ee-6579-4339-8d6f-2943ea691741",
   "metadata": {},
   "source": [
    "### 1.6.9. Análise de Pagamentos por Ano e UF\n",
    "Objetivo: Usar o DataFrame combinado para uma análise agregada e visualização.\n",
    "\n",
    "Passos:\n",
    "\n",
    "Use o df_combinado do exercício anterior.\n",
    "\n",
    "Agrupe os dados por uf e ano.\n",
    "\n",
    "Calcule a soma do total_encargos para cada grupo.\n",
    "\n",
    "Use .unstack() para transformar os anos em colunas e criar uma tabela mais legível."
   ]
  },
  {
   "cell_type": "code",
   "execution_count": null,
   "id": "cd85cd94-537f-4459-a2d1-7efbe65d9900",
   "metadata": {},
   "outputs": [],
   "source": [
    "# --- Solução Exercício 9 ---\n",
    "\n",
    "# Assumindo que 'df_combinado' foi criado\n",
    "encargos_por_uf_ano = df_combinado.groupby(['uf', 'ano'])['total_encargos'].sum()\n",
    "\n",
    "# .unstack() pivota os dados, tornando-os mais fáceis de ler\n",
    "tabela_encargos = encargos_por_uf_ano.unstack(fill_value=0) # fill_value=0 preenche anos sem dados\n",
    "\n",
    "print(\"--- Total de Encargos (em R$) por UF e Ano ---\")\n",
    "display(tabela_encargos.head(10))"
   ]
  },
  {
   "cell_type": "markdown",
   "id": "3f40b000-2faa-43ab-806e-e135235284e3",
   "metadata": {},
   "source": [
    "## 2. Exercícios"
   ]
  },
  {
   "cell_type": "markdown",
   "id": "c4a048d4-e591-456f-81ac-8ac82f4f5c7b",
   "metadata": {},
   "source": [
    "Exercício 1: Análise da Dívida Interna\n",
    "Leia o arquivo relatorio_divida.csv.\n",
    "\n",
    "Crie um novo DataFrame que contenha apenas os registros da \"Interna\".\n",
    "\n",
    "Calcule e imprima o valor médio, máximo e mínimo da dívida interna no período. (Dica: use os métodos .mean(), .max(), .min() na coluna de valor)."
   ]
  },
  {
   "cell_type": "code",
   "execution_count": null,
   "id": "53ec58c2-f744-41ba-8fc5-93fb98f9c5c2",
   "metadata": {},
   "outputs": [],
   "source": [
    "import pandas as pd\n",
    "\n",
    "# Carrega o DataFrame a partir do arquivo CSV\n",
    "df = pd.read_csv('relatorio_divida.csv')\n",
    "\n",
    "# Cria o novo DataFrame 'df_interna' aplicando um filtro.\n",
    "# A linha df['Tipo de Divida'] == 'Interna' cria uma \"máscara\" booleana (True/False).\n",
    "# Ao colocar essa máscara dentro de df[], selecionamos apenas as linhas onde a condição é True.\n",
    "df_interna = df[df['Tipo de Divida'] == 'Interna']\n",
    "\n",
    "print(\"--- Dados apenas da Dívida Interna ---\")\n",
    "print(df_interna)\n",
    "\n",
    "# Calcula a média dos valores na coluna 'Valor (R$ bi)'\n",
    "media_interna = df_interna['Valor (R$ bi)'].mean()\n",
    "\n",
    "# Calcula o valor máximo\n",
    "max_interna = df_interna['Valor (R$ bi)'].max()\n",
    "\n",
    "# Calcula o valor mínimo\n",
    "min_interna = df_interna['Valor (R$ bi)'].min()\n",
    "\n",
    "print(f\"\\n--- Estatísticas da Dívida Interna ---\")\n",
    "print(f\"Valor Médio: R$ {media_interna:.2f} bilhões\")\n",
    "print(f\"Valor Máximo: R$ {max_interna:.2f} bilhões\")\n",
    "print(f\"Valor Mínimo: R$ {min_interna:.2f} bilhões\")"
   ]
  },
  {
   "cell_type": "markdown",
   "id": "23560f80-8d29-4c02-8e36-3297b825bbe8",
   "metadata": {},
   "source": [
    "Crie uma nova coluna no DataFrame original chamada 'Nível de Alerta'.\n",
    "\n",
    "Se o 'Valor (R$ bi)' for maior que 6500, o valor na nova coluna deve ser \"Alto\".\n",
    "\n",
    "Caso contrário, o valor deve ser \"Normal\"."
   ]
  },
  {
   "cell_type": "code",
   "execution_count": null,
   "id": "439b4f14",
   "metadata": {},
   "outputs": [],
   "source": [
    "import numpy as np\n",
    "\n",
    "# Usamos np.where(condição, valor_se_verdadeiro, valor_se_falso)\n",
    "# É como uma função SE() do Excel, mas aplicada a toda a coluna de uma vez.\n",
    "df['Nível de Alerta'] = np.where(df['Valor (R$ bi)'] > 6500, 'Alto', 'Normal')\n",
    "\n",
    "print(\"\\n--- DataFrame Original com a Nova Coluna 'Nível de Alerta' ---\")\n",
    "print(df)"
   ]
  },
  {
   "cell_type": "markdown",
   "id": "18254ba3-f763-4499-b4b9-a4967642b022",
   "metadata": {},
   "source": [
    "## 3. Bug Hunt\n",
    "Os códigos abaixo possuem algum tipo de problema. Leia o código e a mensagem de erro atentamente e tente solucionar o bug!\n",
    "Descreva o erro e a solução com suas próprias palavras."
   ]
  },
  {
   "cell_type": "code",
   "execution_count": null,
   "id": "e3f243b3-2df2-4a18-a59c-cfc8e6b122b2",
   "metadata": {},
   "outputs": [],
   "source": [
    "df_bug1 = pd.read_csv('relatorio_divida.csv')\n",
    "dados_ano = df_bug1['ano']\n",
    "print(dados_ano)"
   ]
  },
  {
   "cell_type": "markdown",
   "id": "94187790",
   "metadata": {},
   "source": [
    "KeyError: 'ano'\n",
    "- Tal coluna não existe no dataframe"
   ]
  },
  {
   "cell_type": "code",
   "execution_count": null,
   "id": "3973cf6a-0daa-482f-a210-5be820d393ee",
   "metadata": {},
   "outputs": [],
   "source": [
    "df_bug2 = pd.read_csv('relatorio_divida.csv')\n",
    "filtro_errado = df_bug2[(df_bug2['Ano'] > 2022) and (df_bug2['Mes'] == 'Jan')]\n",
    "print(filtro_errado)"
   ]
  },
  {
   "cell_type": "markdown",
   "id": "df482c26",
   "metadata": {},
   "source": [
    "As condições (df_bug2['Ano'] > 2022) e (df_bug2['Mes'] == 'Jan') não retornam um único True ou False. Elas retornam uma Série (uma coluna) de valores True e False, um para cada linha do DataFrame. O operador and não sabe como comparar duas Séries inteiras, gerando o erro `ValueError: The truth value of a Series is ambiguous.`"
   ]
  },
  {
   "cell_type": "markdown",
   "id": "f4a2c303-1b38-470a-bdb3-4fa9ae2ada4a",
   "metadata": {},
   "source": [
    "## 4. Projetos para você fazer!"
   ]
  },
  {
   "cell_type": "markdown",
   "id": "60bce2c1-575b-407c-9863-c936c5284e69",
   "metadata": {},
   "source": [
    "O projeto a seguir é bastante autoguiado! **Use a IA generativa** para ir gerando o código necessário para implementar as suas ideias!\n",
    "\n",
    "Escolha uma base de dados de sua preferência (ou do seu trabalho ou da internet). Tente seguir os mesmos passos dos exercícios do SADIPEM para investigar os dados. Seguem algumas sugestões de fontes de dados:\n",
    "\n",
    "- Portal de Dados Abertos do Governo Federal: https://dados.gov.br/\n",
    "\n",
    "É a fonte mais rica para dados do setor público. Você encontrará de tudo: desde despesas detalhadas de ministérios até informações sobre servidores, licitações e programas sociais. A maioria dos datasets está em formato CSV.\n",
    "\n",
    "- IPEAData: http://www.ipeadata.gov.br/\n",
    "\n",
    "Excelente para séries temporais macroeconômicas: PIB, inflação, câmbio, emprego, etc. Ideal para análises de conjuntura.\n",
    "\n",
    "- Kaggle Datasets: https://www.kaggle.com/datasets\n",
    "\n",
    "Uma plataforma global com milhares de datasets limpos sobre os mais variados assuntos (de esportes a saúde, de finanças a cinema). Ótimo se você quiser explorar um tema diferente.\n",
    "\n",
    "- Seu Próprio Trabalho: Existe alguma planilha que você usa repetidamente no seu dia a dia? Um relatório que você sempre precisa montar? Use uma versão anonimizada (sem dados sensíveis) desses dados. Esta é a forma mais poderosa de ver o impacto direto do Python no seu trabalho."
   ]
  },
  {
   "cell_type": "markdown",
   "id": "cfea6c5b-f051-4485-9b3b-f98b89c37aca",
   "metadata": {},
   "source": [
    "##### 📝 Checklist do Analista de Dados\n",
    "Definição do Problema: Antes de escrever qualquer código, defina em uma célula de Markdown: Qual pergunta principal você quer responder com estes dados? (Ex: \"Qual estado brasileiro mais realizou operações de crédito nos últimos anos?\", \"Existe uma correlação entre o gasto em infraestrutura e o crescimento do PIB de um município?\").\n",
    "\n",
    "Coleta e Carregamento: Use pd.read_csv(), pd.read_excel() ou a biblioteca requests para carregar seus dados em um DataFrame.\n",
    "\n",
    "Exploração Inicial (Reconhecimento): Use .head(), .info(), .describe() e .isnull().sum() para \"sentir\" os dados. Quais são as colunas? Quais os tipos de dados? Existem valores ausentes?\n",
    "\n",
    "Limpeza e Preparação: Se necessário, trate os valores ausentes (com .fillna()), corrija os tipos de dados (com .astype()) e renomeie colunas para facilitar a análise (com .rename()).\n",
    "\n",
    "Análise e Manipulação: Esta é a parte principal. Use tudo o que aprendeu:\n",
    "Filtre os dados para focar em subconjuntos de interesse.\n",
    "Crie novas colunas com cálculos que ajudem a responder sua pergunta.\n",
    "Ordene os dados com .sort_values() para encontrar os maiores ou menores valores.\n",
    "Agrupe os dados com .groupby() para calcular estatísticas por categoria.\n",
    "\n",
    "Visualização de Dados: Use o seaborn para criar gráficos que contem a história e respondam à sua pergunta inicial. Um bom gráfico vale mais que mil linhas de tabela.\n",
    "\n",
    "Conclusão: Em uma célula de Markdown final, escreva um parágrafo resumindo suas principais descobertas. O que os dados lhe disseram? Sua pergunta inicial foi respondida?"
   ]
  },
  {
   "cell_type": "markdown",
   "id": "d8441aad-b45c-4ada-87dc-c44a0d99300f",
   "metadata": {},
   "source": [
    "#### Exemplos de Perguntas Interessantes a Serem Respondidas\n",
    "Ainda não sabe o que perguntar aos seus dados? Use estas perguntas como inspiração. Elas podem ser aplicadas a quase qualquer dataset.\n",
    "\n",
    "**Perguntas Descritivas e de Frequência (O \"Quê?\")**\n",
    "- Qual a distribuição de uma variável numérica chave? (Ex: Qual a distribuição dos valores dos contratos?)\n",
    "    - Ferramentas: .describe(), seaborn.histplot()\n",
    "\n",
    "- Quais são as categorias mais comuns em uma coluna? (Ex: Quais os 3 tipos de finalidade mais frequentes?)\n",
    "    - Ferramentas: .value_counts(), seaborn.countplot()\n",
    "\n",
    "- Qual o período de tempo coberto pelos dados?\n",
    "  - Ferramentas: .min() e .max() em uma coluna de data.\n",
    "\n",
    "**Perguntas de Comparação e Ranking (O \"Como se compara?\" e \"Quem é o maior?\")**\n",
    "- Como uma métrica numérica (ex: valor) se compara entre diferentes grupos (ex: por UF ou por Tipo de Credor)?\n",
    "    - Ferramentas: .groupby(...).mean(), seaborn.barplot(), seaborn.boxplot()\n",
    "\n",
    "- Quais são os \"Top 10\" itens com base em um critério? (Ex: os 10 municípios com o maior valor total de pleitos).\n",
    "    - Ferramentas: .groupby(...).sum(), .sort_values(), .head(10)\n",
    "\n",
    "**Perguntas de Relação e Correlação (O \"Como se relacionam?\")**\n",
    "- Existe uma correlação entre duas variáveis numéricas? (Ex: O valor de um pleito tem relação com a taxa de juros aplicada?).\n",
    "    - Ferramentas: seaborn.scatterplot(), .corr(), seaborn.heatmap()\n",
    "\n",
    "- Como uma variável se comportou ao longo do tempo? (Ex: A quantidade de pleitos deferidos aumentou ou diminuiu nos últimos anos?).\n",
    "    - Ferramentas: groupby() por ano/mês, seaborn.lineplot()"
   ]
  },
  {
   "cell_type": "markdown",
   "id": "880401b5-a303-47f5-8194-f9b5167b99c6",
   "metadata": {},
   "source": [
    "## 5. Perguntas para discussão em grupo"
   ]
  },
  {
   "cell_type": "markdown",
   "id": "e671c2cf-5c98-4492-90f7-0d0cf51e5554",
   "metadata": {},
   "source": [
    "1) Qual a maior vantagem de usar pandas para automatizar um relatório mensal em vez de fazer o mesmo processo manualmente no Excel? Pensem em termos de tempo, reprodutibilidade (garantir que o resultado seja sempre o mesmo, sem erros manuais) e escala (fazer o mesmo para 1, 10 ou 100 arquivos com um único clique)."
   ]
  },
  {
   "cell_type": "markdown",
   "id": "7c17a159",
   "metadata": {},
   "source": [
    "- Tempo e Automação: Um script em pandas é um ativo. Você o constrói uma vez e ele trabalha para você para sempre. Um relatório que leva 2 horas para ser feito manualmente no Excel pode ser executado em 2 segundos com um script. A economia de tempo em um ano é gigantesca.\n",
    "\n",
    "- Reprodutibilidade e Confiabilidade: O processo manual no Excel é frágil e sujeito a erro humano. Um clique errado, uma fórmula arrastada incorretamente, um copiar-e-colar na célula errada podem comprometer todo o relatório sem que ninguém perceba. Um script é uma \"receita de bolo\" exata e auditável. Se o dado de entrada for o mesmo, a saída será sempre a mesma, garantindo consistência e zerando o risco de erro operacional.\n",
    "\n",
    "- Escala: O Excel sofre (e muito) com arquivos grandes. Um script pandas processa 10 mil, 1 milhão ou 10 milhões de linhas com a mesma lógica e eficiência. Além disso, com um simples laço for, você pode aplicar o mesmo processo a 100 arquivos de uma só vez, uma tarefa que seria impensável de se fazer manualmente."
   ]
  },
  {
   "cell_type": "markdown",
   "id": "0a37ff0e-a9be-4bba-a39d-acd2f0c6c7af",
   "metadata": {},
   "source": [
    "2) Pensem em uma planilha complexa que vocês recebem ou geram regularmente no Tesouro. Tentem idealizar um código que facilita a realização da tarefa (e.g. processar dados, fazer colunas calculadas e gerar um gráfico)."
   ]
  },
  {
   "cell_type": "code",
   "execution_count": null,
   "id": "4b31d22d-c825-4826-91d0-028d63d75cf9",
   "metadata": {},
   "outputs": [],
   "source": []
  },
  {
   "cell_type": "markdown",
   "id": "f2f01b55-97af-46eb-ab12-a98787bc374d",
   "metadata": {},
   "source": [
    "## 6. Sugestões de pesquisa"
   ]
  },
  {
   "cell_type": "markdown",
   "id": "b444fab5-9b04-4f2d-a0fe-5a34d421ee0c",
   "metadata": {},
   "source": [
    "1) Agrupamento com .groupby(): O que é a operação \"Split-Apply-Combine\" e como o método .groupby() do pandas a implementa para calcular estatísticas por categoria (ex: a despesa total por ministério)?"
   ]
  },
  {
   "cell_type": "markdown",
   "id": "83711abb",
   "metadata": {},
   "source": [
    "\"Split-Apply-Combine\" é um paradigma que descreve um processo de três etapas:\n",
    "\n",
    "Split (Dividir): O DataFrame é \"quebrado\" em grupos menores com base nos valores de uma ou mais colunas. Por exemplo, df.groupby('Ministério') divide o DataFrame em vários pedaços, um para cada ministério único.\n",
    "\n",
    "Apply (Aplicar): Uma função de agregação é aplicada a cada um desses grupos independentemente. Pode ser uma soma (.sum()), uma média (.mean()), uma contagem (.count()), ou até uma função mais complexa que você mesmo define.\n",
    "\n",
    "Combine (Combinar): Os resultados de cada grupo são coletados e combinados em uma nova estrutura de dados (um novo DataFrame ou uma Série), apresentando o resumo da análise.\n",
    "\n",
    "- O método .groupby() do pandas é a implementação direta e poderosa dessa estratégia, permitindo sumarizações complexas com uma única linha de código."
   ]
  },
  {
   "cell_type": "markdown",
   "id": "217e0e7f-cacc-4b9a-9db6-869b363d3af1",
   "metadata": {},
   "source": [
    "2) Combinando Planilhas com .merge(): Como o método .merge() funciona para combinar dados de diferentes DataFrames, de forma similar ao PROCV (VLOOKUP) do Excel?"
   ]
  },
  {
   "cell_type": "markdown",
   "id": "38a3f326",
   "metadata": {},
   "source": [
    "O pd.merge() é a versão do pandas para o que os bancos de dados chamam de JOIN. Ele combina linhas de dois DataFrames com base em uma ou mais colunas em comum (a \"chave\")."
   ]
  },
  {
   "cell_type": "markdown",
   "id": "7535714f-b682-4d40-bd7f-30f452d02e8a",
   "metadata": {},
   "source": [
    "3) Trabalhando com Datas: Como o pandas lida com colunas de data? Pesquise sobre o tipo de dado datetime e a função pd.to_datetime()."
   ]
  },
  {
   "cell_type": "markdown",
   "id": "ebc8264a",
   "metadata": {},
   "source": [
    "A função pd.to_datetime() é a porta de entrada. Ela é inteligente e consegue converter diversos formatos de texto (como '25/09/2025', '2025-09-25', 'Sep 25, 2025') para o formato datetime64"
   ]
  },
  {
   "cell_type": "markdown",
   "id": "85c2a465-eb66-42df-874b-14f67653e27b",
   "metadata": {},
   "source": [
    "4) Tabelas Dinâmicas com .pivot_table(): Como este método recria a funcionalidade de uma Tabela Dinâmica do Excel para resumir e reorganizar seus dados?"
   ]
  },
  {
   "cell_type": "markdown",
   "id": "81d5bc33",
   "metadata": {},
   "source": [
    "Você especifica três parâmetros principais:\n",
    "\n",
    "- index: A coluna cujos valores únicos se tornarão as novas linhas da tabela.\n",
    "\n",
    "- columns: A coluna cujos valores únicos se tornarão as novas colunas.\n",
    "\n",
    "- values: A coluna cujos valores serão agregados no \"cruzamento\" do índice e das colunas.\n",
    "\n",
    "- aggfunc: A função de agregação a ser usada (por padrão é a média, mean, mas pode ser sum, count, etc.).\n",
    "\n",
    "É uma ferramenta incrivelmente útil para transformar dados em formato \"longo\" (muitas linhas, poucas colunas) em formato \"largo\" (mais colunas, representando um resumo), ideal para relatórios."
   ]
  }
 ],
 "metadata": {
  "kernelspec": {
   "display_name": "Python 3",
   "language": "python",
   "name": "python3"
  },
  "language_info": {
   "codemirror_mode": {
    "name": "ipython",
    "version": 3
   },
   "file_extension": ".py",
   "mimetype": "text/x-python",
   "name": "python",
   "nbconvert_exporter": "python",
   "pygments_lexer": "ipython3",
   "version": "3.11.0"
  }
 },
 "nbformat": 4,
 "nbformat_minor": 5
}
